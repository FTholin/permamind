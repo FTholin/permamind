{
 "cells": [
  {
   "cell_type": "code",
   "execution_count": null,
   "metadata": {
    "scrolled": false
   },
   "outputs": [],
   "source": [
    "import sys\n",
    "import os\n",
    "import matplotlib\n",
    "import matplotlib.pyplot as plt\n",
    "import json\n",
    "\n",
    "# https://github.com/grst/nbimporter | pip install nbimporter\n",
    "import nbimporter\n",
    "from packingModelisation import problemResolution\n",
    "from flask import Flask, jsonify, request\n",
    "from flask_restful import Api, Resource, reqparse\n",
    "\n"
   ]
  },
  {
   "cell_type": "code",
   "execution_count": null,
   "metadata": {
    "scrolled": true
   },
   "outputs": [],
   "source": [
    "app = Flask(__name__)\n",
    "api = Api(app)\n",
    "\n",
    "# with open('./API/sendToApplicationToDisplay.json') as f:\n",
    "#     sendToApplication = json.load(f)\n",
    "\n",
    "\n",
    "\n",
    "# l'api sera utilisé depuis l'application\n",
    "# elle va devoir POST le sendToModele pour nourrir le modele\n",
    "# elle va devoir GET le sendToApplication pour pouvoir afficher les positions\n",
    "\n",
    "@app.route('/send/<string:name>', methods=[\"POST\"])\n",
    "def send(name):\n",
    "    # Ici on ira pas dans ce dossier à terme vu qu'on sera dans l'application là ou sont \n",
    "    # save les données de l'utilisateur\n",
    "    input_json = request.get_json() \n",
    "    with open('./userJSON/'+name+'.json', 'w') as outfile:  \n",
    "        json.dump(input_json, outfile)\n",
    "    # Je dois enregistrer ce json sur le serveur\n",
    "    return str(input_json)\n",
    "\n",
    "@app.route('/get/<string:path>')\n",
    "def getFromServer(path):\n",
    "    \n",
    "    # Ici ca sera le dossier present sur le serveur, apres que le modele est sauvegardé ce json \n",
    "    # unique avec un identifiant bien distinct : toDisplay-Identifiant-Number (Number of jardin) pour \n",
    "    # pouvoir lui en afficher plusieurs qui sont à lui (à terme ils seront enregistré dans l'application)\n",
    "    with open('./userJSON/'+path) as f:\n",
    "        sendToModele = json.load(f)\n",
    "        return jsonify(sendToModele)\n",
    " \n",
    "@app.route('/get/vegetable')\n",
    "def getVegetable():\n",
    "     with open('../Perma_model/data_model/plant-associations.json') as f:\n",
    "        allPlants = json.load(f)\n",
    "        plants = []\n",
    "        for plant in allPlants:\n",
    "            plants.append(plant)\n",
    "        return str(plants)\n",
    "    \n",
    "    \n",
    "app.debug = False\n",
    "app.run()"
   ]
  },
  {
   "cell_type": "code",
   "execution_count": null,
   "metadata": {
    "scrolled": false
   },
   "outputs": [],
   "source": [
    "# api.add_resource(GetModel, \"/getModel/\")\n",
    "# api.add_resource(CreateModel, \"/createModel/\")\n",
    "# api.add_resource(LegumeDelete, \"/delete/<string:legume>\")\n",
    "# api.add_resource(LegumeAdd, \"/add/<string:legume>\")\n",
    "# api.add_resource(ListCreate, \"/\")\n",
    "\n",
    "\n",
    "\n",
    "#http://docs.python-requests.org/en/latest/api/?highlight=delete#requests.delete\n",
    "# This link to use api in python files\n",
    "#https://stackoverflow.com/questions/22460194/how-can-delete-requests-be-made-with-a-dart-httpclient\n",
    "# This link to use api in dart files (flutter)\n",
    "#Insomnia to test API for debug\n"
   ]
  },
  {
   "cell_type": "code",
   "execution_count": null,
   "metadata": {
    "scrolled": false
   },
   "outputs": [],
   "source": []
  }
 ],
 "metadata": {
  "kernelspec": {
   "display_name": "Python 3",
   "language": "python",
   "name": "python3"
  },
  "language_info": {
   "codemirror_mode": {
    "name": "ipython",
    "version": 3
   },
   "file_extension": ".py",
   "mimetype": "text/x-python",
   "name": "python",
   "nbconvert_exporter": "python",
   "pygments_lexer": "ipython3",
   "version": "3.6.8"
  }
 },
 "nbformat": 4,
 "nbformat_minor": 2
}
