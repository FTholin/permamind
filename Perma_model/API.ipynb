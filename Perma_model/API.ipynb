{
 "cells": [
  {
   "cell_type": "code",
   "execution_count": 1,
   "metadata": {
    "scrolled": false
   },
   "outputs": [
    {
     "name": "stdout",
     "output_type": "stream",
     "text": [
      "Importing Jupyter notebook from packingModelisation.ipynb\n"
     ]
    }
   ],
   "source": [
    "import sys\n",
    "import os\n",
    "import matplotlib\n",
    "import matplotlib.pyplot as plt\n",
    "import json\n",
    "\n",
    "# https://github.com/grst/nbimporter | pip install nbimporter\n",
    "import nbimporter\n",
    "from packingModelisation import lunchModel, add, delete, displayListOfPlants, createVar\n",
    "from flask import Flask\n",
    "from flask_restful import Api, Resource, reqparse\n",
    "\n",
    "app = Flask(__name__)\n",
    "api = Api(app)"
   ]
  },
  {
   "cell_type": "code",
   "execution_count": null,
   "metadata": {
    "scrolled": false
   },
   "outputs": [],
   "source": [
    "with open('data.json') as f:\n",
    "    data = json.load(f)\n",
    "\n",
    "# Ne devrait pas boucler à l'infini, je devrais reussir à lui mettre une limite pour eviter le bordel\n",
    "class CreateModel(Resource):\n",
    "    def get(Self):\n",
    "        print(\"Lunch Model\")\n",
    "        lunchModel()\n",
    "        return 200\n",
    "    \n",
    "# Fonctionne correctement\n",
    "class GetModel(Resource):\n",
    "    def get(Self):\n",
    "        print(\"get\")\n",
    "        legumes = []\n",
    "        for legume in data[\"legume\"]:\n",
    "            legumes.append(legume)\n",
    "        return legumes, 200\n",
    "\n",
    "# TODO\n",
    "class LegumeDelete(Resource):\n",
    "    def delete(Self, legume):\n",
    "        print(\"delete\")\n",
    "        listOfPlants = delete(legume)\n",
    "        return 200\n",
    "\n",
    "# TODO\n",
    "class LegumeAdd(Resource):\n",
    "    def get(Self, legume):\n",
    "        print(\"add\")\n",
    "        listOfPlants = add(legume)\n",
    "        return listOfPlants, 200\n",
    "\n",
    "class ListCreate(Resource):\n",
    "    def get(Self):\n",
    "        print(\"create listOfPlants\")\n",
    "        createVar()\n",
    "        return 200\n",
    "    \n",
    "\n",
    "# TODO After\n",
    "#     def post(Self, name):\n",
    "#         print(\"post\")\n",
    "#         parser = reqparse.RequestParser()\n",
    "#         parser.add_argument(\"age\")\n",
    "#         parser.add_argument(\"occupation\")\n",
    "#         args = parser.parse_args()\n",
    "#         for user in users:\n",
    "#             if(name == user[\"name\"]):\n",
    "#                 return \"User with name {} already exists\".format(name), 400\n",
    "#         user = {\n",
    "#             \"name\": name,\n",
    "#             \"age\": args[\"age\"],\n",
    "#             \"occupation\": args[\"occupation\"]\n",
    "#         }\n",
    "#         users.append(user)\n",
    "#         return user, 201\n",
    "\n",
    "#     def put(Self, name):\n",
    "#         print(put)\n",
    "#         parser = reqparse.RequestParser()\n",
    "#         parser.add_argument(\"age\")\n",
    "#         parser.add_argument(\"occupation\")\n",
    "#         args = parser.parse_args()\n",
    "#         for user in users:\n",
    "#             if(name == user[\"name\"]):\n",
    "#                 user[\"age\"] = args[\"age\"]\n",
    "#                 user[\"occupation\"] = args[\"occupation\"]\n",
    "#                 return user, 200\n",
    "\n",
    "#         user = {\n",
    "#             \"name\": name,\n",
    "#             \"age\": args[\"age\"],\n",
    "#             \"occupation\": args[\"occupation\"]\n",
    "#         }\n",
    "#         users.append(user)\n",
    "#         return user, 201\n",
    "\n",
    "#     def delete(Self):\n",
    "#         print(\"delete, pas besoin normalement\")\n",
    "#         return 200"
   ]
  },
  {
   "cell_type": "code",
   "execution_count": null,
   "metadata": {
    "scrolled": false
   },
   "outputs": [
    {
     "name": "stdout",
     "output_type": "stream",
     "text": [
      " * Serving Flask app \"__main__\" (lazy loading)\n",
      " * Environment: production\n",
      "   WARNING: Do not use the development server in a production environment.\n",
      "   Use a production WSGI server instead.\n",
      " * Debug mode: off\n"
     ]
    },
    {
     "name": "stderr",
     "output_type": "stream",
     "text": [
      " * Running on http://127.0.0.1:5000/ (Press CTRL+C to quit)\n",
      "127.0.0.1 - - [12/Mar/2019 11:48:02] \"GET / HTTP/1.1\" 200 -\n"
     ]
    },
    {
     "name": "stdout",
     "output_type": "stream",
     "text": [
      "create listOfPlants\n",
      "Create var\n"
     ]
    },
    {
     "name": "stderr",
     "output_type": "stream",
     "text": [
      "127.0.0.1 - - [12/Mar/2019 11:48:08] \"GET /add/test1 HTTP/1.1\" 200 -\n"
     ]
    },
    {
     "name": "stdout",
     "output_type": "stream",
     "text": [
      "add\n"
     ]
    },
    {
     "name": "stderr",
     "output_type": "stream",
     "text": [
      "127.0.0.1 - - [12/Mar/2019 11:48:12] \"GET /add/test2 HTTP/1.1\" 200 -\n"
     ]
    },
    {
     "name": "stdout",
     "output_type": "stream",
     "text": [
      "add\n"
     ]
    },
    {
     "name": "stderr",
     "output_type": "stream",
     "text": [
      "127.0.0.1 - - [12/Mar/2019 11:48:17] \"DELETE /delete/ HTTP/1.1\" 404 -\n",
      "127.0.0.1 - - [12/Mar/2019 11:48:29] \"GET /createModel HTTP/1.1\" 301 -\n",
      "[2019-03-12 11:48:29,093] ERROR in app: Exception on /createModel/ [GET]\n",
      "Traceback (most recent call last):\n",
      "  File \"/home/mello/anaconda3/envs/permamind/lib/python3.6/site-packages/flask/app.py\", line 1813, in full_dispatch_request\n",
      "    rv = self.dispatch_request()\n",
      "  File \"/home/mello/anaconda3/envs/permamind/lib/python3.6/site-packages/flask/app.py\", line 1799, in dispatch_request\n",
      "    return self.view_functions[rule.endpoint](**req.view_args)\n",
      "  File \"/home/mello/anaconda3/envs/permamind/lib/python3.6/site-packages/flask_restful/__init__.py\", line 480, in wrapper\n",
      "    resp = resource(*args, **kwargs)\n",
      "  File \"/home/mello/anaconda3/envs/permamind/lib/python3.6/site-packages/flask/views.py\", line 88, in view\n",
      "    return self.dispatch_request(*args, **kwargs)\n",
      "  File \"/home/mello/anaconda3/envs/permamind/lib/python3.6/site-packages/flask_restful/__init__.py\", line 595, in dispatch_request\n",
      "    resp = meth(*args, **kwargs)\n",
      "  File \"<ipython-input-2-00cf121c440d>\", line 8, in get\n",
      "    lunchModel()\n",
      "  File \"packingModelisation.ipynb\", line 116, in lunchModel\n",
      "    ]\n",
      "  File \"packingModelisation.ipynb\", line 17, in create_model\n",
      "    \"from __future__ import division\\n\",\n",
      "  File \"packingModelisation.ipynb\", line 263, in add_box\n",
      "    \"        self.__solution_count = 0\\n\",\n",
      "AttributeError: 'str' object has no attribute 'pos_x'\n",
      "127.0.0.1 - - [12/Mar/2019 11:48:29] \"GET /createModel/ HTTP/1.0\" 500 -\n"
     ]
    },
    {
     "name": "stdout",
     "output_type": "stream",
     "text": [
      "Lunch Model\n"
     ]
    }
   ],
   "source": [
    "api.add_resource(GetModel, \"/getModel/\")\n",
    "api.add_resource(CreateModel, \"/createModel/\")\n",
    "api.add_resource(LegumeDelete, \"/delete/<string:legume>\")\n",
    "api.add_resource(LegumeAdd, \"/add/<string:legume>\")\n",
    "api.add_resource(ListCreate, \"/\")\n",
    "\n",
    "app.run(debug=False)\n",
    "\n",
    "#http://docs.python-requests.org/en/latest/api/?highlight=delete#requests.delete\n",
    "# This link to use api in python files\n",
    "#https://stackoverflow.com/questions/22460194/how-can-delete-requests-be-made-with-a-dart-httpclient\n",
    "# This link to use api in dart files (flutter)\n",
    "#Insomnia to test API for debug"
   ]
  },
  {
   "cell_type": "code",
   "execution_count": null,
   "metadata": {
    "scrolled": false
   },
   "outputs": [],
   "source": []
  }
 ],
 "metadata": {
  "kernelspec": {
   "display_name": "Python 3",
   "language": "python",
   "name": "python3"
  },
  "language_info": {
   "codemirror_mode": {
    "name": "ipython",
    "version": 3
   },
   "file_extension": ".py",
   "mimetype": "text/x-python",
   "name": "python",
   "nbconvert_exporter": "python",
   "pygments_lexer": "ipython3",
   "version": "3.6.8"
  }
 },
 "nbformat": 4,
 "nbformat_minor": 2
}
