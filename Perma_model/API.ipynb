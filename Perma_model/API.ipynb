{
 "cells": [
  {
   "cell_type": "code",
   "execution_count": null,
   "metadata": {},
   "outputs": [],
   "source": [
    "import sys\n",
    "import os\n",
    "import matplotlib\n",
    "import matplotlib.pyplot as plt\n",
    "import json\n",
    "\n",
    "from flask import Flask\n",
    "from flask_restful import Api, Resource, reqparse\n",
    "\n",
    "app = Flask(__name__)\n",
    "api = Api(app)"
   ]
  },
  {
   "cell_type": "code",
   "execution_count": null,
   "metadata": {},
   "outputs": [],
   "source": [
    "with open('data.json') as f:\n",
    "    data = json.load(f)\n",
    "\n",
    "class Permamind(Resource):\n",
    "    def get(Self):\n",
    "        print(\"get\")\n",
    "        legumes = []\n",
    "        for legume in data[\"legume\"]:\n",
    "            legumes.append(legume)\n",
    "        return legumes, 200\n",
    "\n",
    "# TODO After\n",
    "#     def post(Self, name):\n",
    "#         print(\"post\")\n",
    "#         parser = reqparse.RequestParser()\n",
    "#         parser.add_argument(\"age\")\n",
    "#         parser.add_argument(\"occupation\")\n",
    "#         args = parser.parse_args()\n",
    "#         for user in users:\n",
    "#             if(name == user[\"name\"]):\n",
    "#                 return \"User with name {} already exists\".format(name), 400\n",
    "#         user = {\n",
    "#             \"name\": name,\n",
    "#             \"age\": args[\"age\"],\n",
    "#             \"occupation\": args[\"occupation\"]\n",
    "#         }\n",
    "#         users.append(user)\n",
    "#         return user, 201\n",
    "\n",
    "#     def put(Self, name):\n",
    "#         print(put)\n",
    "#         parser = reqparse.RequestParser()\n",
    "#         parser.add_argument(\"age\")\n",
    "#         parser.add_argument(\"occupation\")\n",
    "#         args = parser.parse_args()\n",
    "#         for user in users:\n",
    "#             if(name == user[\"name\"]):\n",
    "#                 user[\"age\"] = args[\"age\"]\n",
    "#                 user[\"occupation\"] = args[\"occupation\"]\n",
    "#                 return user, 200\n",
    "\n",
    "#         user = {\n",
    "#             \"name\": name,\n",
    "#             \"age\": args[\"age\"],\n",
    "#             \"occupation\": args[\"occupation\"]\n",
    "#         }\n",
    "#         users.append(user)\n",
    "#         return user, 201\n",
    "\n",
    "#     def delete(Self, name):\n",
    "#         print(\"delete, pas besoin normalement\")\n",
    "#         global users\n",
    "#         users = [user for user in users if user[\"name\"] != name]\n",
    "#         return \"{} is deleted.\".format(name), 200"
   ]
  },
  {
   "cell_type": "code",
   "execution_count": null,
   "metadata": {},
   "outputs": [],
   "source": [
    "api.add_resource(Permamind, \"/all/\")\n",
    "\n",
    "app.run(debug=False)"
   ]
  },
  {
   "cell_type": "code",
   "execution_count": null,
   "metadata": {},
   "outputs": [],
   "source": []
  }
 ],
 "metadata": {
  "kernelspec": {
   "display_name": "Python 3",
   "language": "python",
   "name": "python3"
  },
  "language_info": {
   "codemirror_mode": {
    "name": "ipython",
    "version": 3
   },
   "file_extension": ".py",
   "mimetype": "text/x-python",
   "name": "python",
   "nbconvert_exporter": "python",
   "pygments_lexer": "ipython3",
   "version": "3.6.8"
  }
 },
 "nbformat": 4,
 "nbformat_minor": 2
}
