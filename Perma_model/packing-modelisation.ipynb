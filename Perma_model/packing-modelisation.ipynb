{
 "cells": [
  {
   "cell_type": "markdown",
   "metadata": {},
   "source": [
    "On imagine ici un terrain "
   ]
  },
  {
   "cell_type": "code",
   "execution_count": 1,
   "metadata": {},
   "outputs": [],
   "source": [
    "from __future__ import absolute_import\n",
    "from __future__ import division\n",
    "from __future__ import print_function\n",
    "\n",
    "import random\n",
    "\n",
    "\n",
    "from ortools.sat.python import cp_model\n",
    "import sys\n",
    "import os\n",
    "import matplotlib\n",
    "import matplotlib.pyplot as plt\n",
    "\n",
    "\n",
    "\n",
    "import uuid\n",
    "import math\n",
    "import json\n",
    "import copy\n",
    "\n",
    "from enum import Enum, unique"
   ]
  },
  {
   "cell_type": "code",
   "execution_count": 2,
   "metadata": {},
   "outputs": [
    {
     "data": {
      "text/plain": [
       "\"\\n#latitude, longitude\\nposition = [45.820874, 5.404932]\\n\\n#api key from https://solcast.com.au/solar-data-api/api/\\napi_key='yij5KTCUiTvBRHWsf89uNCXYG3QSpOGl'\\n    \\nr = requests.get('https://api.solcast.com.au/radiation/forecasts?latitude='+str(position[0])+'&longitude='+str(position[1])+'&api_key='+str(api_key)+'&format=json').text\\ndata = json.loads(r)\\n\\nprint(json.dumps(data, indent=4))\\n\""
      ]
     },
     "execution_count": 2,
     "metadata": {},
     "output_type": "execute_result"
    }
   ],
   "source": [
    "\"\"\"\n",
    "#latitude, longitude\n",
    "position = [45.820874, 5.404932]\n",
    "\n",
    "#api key from https://solcast.com.au/solar-data-api/api/\n",
    "api_key='yij5KTCUiTvBRHWsf89uNCXYG3QSpOGl'\n",
    "    \n",
    "r = requests.get('https://api.solcast.com.au/radiation/forecasts?latitude='+str(position[0])+'&longitude='+str(position[1])+'&api_key='+str(api_key)+'&format=json').text\n",
    "data = json.loads(r)\n",
    "\n",
    "print(json.dumps(data, indent=4))\n",
    "\"\"\""
   ]
  },
  {
   "cell_type": "markdown",
   "metadata": {},
   "source": [
    "## Utils functions"
   ]
  },
  {
   "cell_type": "code",
   "execution_count": 3,
   "metadata": {},
   "outputs": [],
   "source": [
    "def get_far_values(data, val, rg):\n",
    "    \"\"\"Retrieve the farthest values from a value and a max distance\n",
    "    Args:\n",
    "        data (list): list containing objects\n",
    "        val (int): reference point\n",
    "        rg (int): distance between reference point and all list's values\n",
    "    Returns:\n",
    "        list containing elements with ditance > rg\n",
    "    \"\"\"\n",
    "    l = []\n",
    "    for e in data:\n",
    "        if abs(e.sunExposureTime - val) > rg:\n",
    "            l.append(e)\n",
    "    return l"
   ]
  },
  {
   "cell_type": "markdown",
   "metadata": {},
   "source": [
    "## Utils elements\n",
    "\n",
    "```\n",
    "@unique\n",
    "class SoilType(Enum):\n",
    "    \"\"\"Enum to represent most known soil type\"\"\"\n",
    "    Azote = 1\n",
    "    Humifere = 2\n",
    "    ArgileuxLimoneux = 3\n",
    "    Pauvre = 4\n",
    "    Compact = 5\n",
    "    Calcaire = 6 \n",
    "```"
   ]
  },
  {
   "cell_type": "code",
   "execution_count": 4,
   "metadata": {},
   "outputs": [],
   "source": [
    "class Box():\n",
    "    \n",
    "    def __init__(self, name, pos_x, pos_y, dim_x, dim_y, color):\n",
    "        self.__name = name\n",
    "        self.__pos_x = int(pos_x * 10)\n",
    "        self.__pos_y = int(pos_y * 10)\n",
    "        self.__dim_x = int(dim_x * 10)\n",
    "        self.__dim_y = int(dim_y * 10)\n",
    "        self.__color = str(color)\n",
    "    \n",
    "    @property\n",
    "    def name(self):\n",
    "        return self.__name\n",
    "    \n",
    "    @property\n",
    "    def pos_x(self):\n",
    "        return self.__pos_x\n",
    "    \n",
    "    @property\n",
    "    def color(self):\n",
    "        return self.__color\n",
    "    \n",
    "    @property\n",
    "    def pos_y(self):\n",
    "        return self.__pos_y\n",
    "    \n",
    "    @property\n",
    "    def dim_x(self):\n",
    "        return self.__dim_x\n",
    "    \n",
    "    @property\n",
    "    def dim_y(self):\n",
    "        return self.__dim_y\n",
    "    \n",
    "    @name.setter\n",
    "    def name(self, value):\n",
    "        self.__name = value\n",
    "    \n",
    "    @pos_x.setter\n",
    "    def pos_x(self, value):\n",
    "        self.__pos_x = value\n",
    "    \n",
    "    @pos_y.setter\n",
    "    def pos_y(self, value):\n",
    "        self.__pos_y = value\n",
    "        \n",
    "    @dim_x.setter\n",
    "    def dim_x(self, value):\n",
    "        self.__dim_x = value\n",
    "        \n",
    "    @dim_y.setter\n",
    "    def dim_y(self, value):\n",
    "        self.__dim_y = value\n",
    "        \n",
    "    @color.setter\n",
    "    def color(self, color):\n",
    "        self.__color = color\n",
    "        \n",
    "    def __str__(self):\n",
    "        return 'name: {} \\n pos_x: {} \\n pos_y: {}'.format(self.name, self.pos_x, self.pos_y)\n",
    "        \n",
    "class BoxFixed(Box): \n",
    "    def __init__(self, name, pos_x, pos_y, dim_x, dim_y, color):\n",
    "        super().__init__(name, pos_x, pos_y, dim_x, dim_y, color)\n",
    "\n",
    "class BoxMovable(Box):\n",
    "    def __init__(self, name, pos_x, pos_y, dim_x, dim_y, color):\n",
    "        super().__init__(name, pos_x, pos_y, dim_x, dim_y, color)"
   ]
  },
  {
   "cell_type": "code",
   "execution_count": 5,
   "metadata": {},
   "outputs": [],
   "source": [
    "class Plant(BoxMovable):\n",
    "    \"\"\"Set plant square in modelisation\"\"\"\n",
    "    def __init__(self, name, pos_x, pos_y, dim_x, dim_y, color, sunExposureTime, soilTypeAvoided):\n",
    "        super().__init__(name, pos_x, pos_y, dim_x, dim_y, color)\n",
    "        self.__sunExposureTime = sunExposureTime\n",
    "        self.__soilTypeAvoided = soilTypeAvoided\n",
    "    @property\n",
    "    def sunExposureTime(self):\n",
    "        return self.__sunExposureTime\n",
    "    \n",
    "    @property\n",
    "    def soilTypeAvoided(self):\n",
    "        return self.__soilTypeAvoided\n",
    "          \n",
    "    @sunExposureTime.setter\n",
    "    def sunExposureTime(self, sunExposureTime):\n",
    "        self.__sunExposureTime = sunExposureTime\n",
    "        \n",
    "    @soilTypeAvoided.setter\n",
    "    def soilTypeAvoided(self, soilTypeAvoided):\n",
    "        self.__soilTypeAvoided = soilTypeAvoided\n",
    "        \n",
    "class Sun(BoxFixed):\n",
    "    \"\"\"Set luminosity square in modelisation\"\"\"\n",
    "    def __init__(self, name, pos_x, pos_y, dim_x, dim_y, color, sunExposureTime):\n",
    "        super().__init__(name, pos_x, pos_y, dim_x, dim_y, color)\n",
    "        self.__sunExposureTime = sunExposureTime\n",
    "    \n",
    "    @property\n",
    "    def sunExposureTime(self):\n",
    "        return self.__sunExposureTime\n",
    "    \n",
    "    @sunExposureTime.setter\n",
    "    def sunExposureTime(self, sunExposureTime):\n",
    "        self.__sunExposureTime = sunExposureTime\n",
    "        \n",
    "class Soil(BoxFixed):\n",
    "    \"\"\"Set soil square in modelisation\"\"\"\n",
    "    def __init__(self, name, pos_x, pos_y, dim_x, dim_y, color, soilType):\n",
    "        super().__init__(name, pos_x, pos_y, dim_x, dim_y, color)\n",
    "        self.__soilType = soilType\n",
    "    \n",
    "    @property\n",
    "    def soilType(self):\n",
    "        return self.__soilType\n",
    "    \n",
    "    @soilType.setter\n",
    "    def soilType(self, soilType):\n",
    "        self.__soilType = soilType\n"
   ]
  },
  {
   "cell_type": "code",
   "execution_count": 6,
   "metadata": {},
   "outputs": [],
   "source": [
    "class VarArraySolutionPrinter(cp_model.CpSolverSolutionCallback):\n",
    "    \"\"\"Print intermediate solutions.\"\"\"\n",
    "\n",
    "    def __init__(self, variable_list, limit):\n",
    "        cp_model.CpSolverSolutionCallback.__init__(self)\n",
    "        self.__variable_list = variable_list\n",
    "        self.__solution_count = 0\n",
    "        self.__solution_limit = limit\n",
    "\n",
    "    def on_solution_callback(self):\n",
    "        self.__solution_count += 1\n",
    "        fig = plt.figure()\n",
    "        ax = fig.add_subplot(111)\n",
    "        legend_list = []\n",
    "        for shape in self.__variable_list:\n",
    "            \n",
    "            # Test obligatoire car si valeur fixe le modèle plante\n",
    "            pos_x = self.Value(shape[0]) / 10.0 \n",
    "            pos_y = self.Value(shape[1]) / 10.0 \n",
    "            dim_x = self.Value(shape[2]) / 10.0 \n",
    "            dim_y = self.Value(shape[3]) / 10.0\n",
    "            color = shape[4]\n",
    "            name = shape[5]\n",
    "            \n",
    "            if name != \"light_sunlight\" and name != \"full_sunlight\" and name != 'Humifere' and name != \"ArgileuxLimoneux\" and name != \"Calcaire\":\n",
    "                print('name = %s' % name)\n",
    "                print('pos_x = %f' % pos_x)\n",
    "                print('pos_y = %f' % pos_y)\n",
    "                print('dim_x = %f' % dim_x)\n",
    "                print('dim_y = %f' % dim_y)\n",
    "            \n",
    "            alpha = 0.4\n",
    "            if name == \"s\":\n",
    "                alpha = 0.2\n",
    "                \n",
    "            rect = matplotlib.patches.Rectangle((pos_x, pos_y),\n",
    "                                                dim_x, dim_y , color=color, alpha=alpha)\n",
    "            \n",
    "            ax.add_patch(rect)\n",
    "            # TODO Clean or delete\n",
    "            #ax.xaxis.set_ticks(range(TAILLE_W))\n",
    "            #ax.yaxis.set_ticks(range(TAILLE_H))\n",
    "            # Display in graph\n",
    "            if name != \"light_sunlight\" and name != \"full_sunlight\" and name != 'Humifere' and name != \"ArgileuxLimoneux\" and name != \"Calcaire\":\n",
    "                ax.text(pos_x + (dim_x / 2) , pos_y + (dim_y / 2) , name, fontsize=8, horizontalalignment='center',\n",
    "                    verticalalignment='center')\n",
    "            # Display in right legend\n",
    "            else:\n",
    "                if len(legend_list) == 0:\n",
    "                    ax.scatter(pos_x, pos_y, c=color, s=None, label=name, alpha=alpha, edgecolors='none')\n",
    "                    legend_list.append(name)\n",
    "                else:\n",
    "                    if name not in legend_list:\n",
    "                        ax.scatter(pos_x, pos_y, c=color, s=None, label=name, alpha=alpha, edgecolors='none')\n",
    "                        legend_list.append(name)\n",
    "                        \n",
    "        ax.legend(loc=9, bbox_to_anchor=(0.5, -0.1))\n",
    "        plt.xlim([0, TAILLE_W])\n",
    "        plt.ylim([0, TAILLE_H])\n",
    "        plt.gca().set_aspect('equal', adjustable='box')   \n",
    "        plt.show()\n",
    "        \n",
    "        \n",
    "        if self.__solution_count >= self.__solution_limit:\n",
    "            print('Stop search after %i solutions' % self.__solution_limit)\n",
    "            self.StopSearch()\n",
    "        \n",
    "    def solution_count(self):\n",
    "        return self.__solution_count"
   ]
  },
  {
   "cell_type": "code",
   "execution_count": 7,
   "metadata": {},
   "outputs": [],
   "source": [
    "def displayJSON(file):\n",
    "    print(json.dumps(file, indent=4))\n",
    "\n",
    "\n",
    "class plantBoxProblem():\n",
    "    def __init__(self, box):\n",
    "        # model initialisation\n",
    "        self.__model = cp_model.CpModel()\n",
    "        # solver creation\n",
    "        self.__solver = cp_model.CpSolver()\n",
    "        \n",
    "        # init main box\n",
    "        self.__box = box\n",
    "\n",
    "        # init list of plants\n",
    "        self.__elem_list = []\n",
    "        \n",
    "        #self.__json_file = path_json\n",
    "        \n",
    "    @property\n",
    "    def box(self):\n",
    "        return self.__box\n",
    "    \n",
    "    @property\n",
    "    def model(self):\n",
    "        return self.__model\n",
    "    \n",
    "    @property\n",
    "    def solver(self):\n",
    "        return self.__solver\n",
    "    \n",
    "    @property\n",
    "    def elem_list(self):\n",
    "        return self.__elem_list\n",
    "    \n",
    "    @property\n",
    "    def json_file(self):\n",
    "        return self.__json_file\n",
    "    \n",
    "    @box.setter\n",
    "    def box(self, value):\n",
    "        self.__box = value\n",
    "\n",
    "    @model.setter\n",
    "    def model(self, value):\n",
    "        self.__model = value\n",
    "    \n",
    "    @solver.setter\n",
    "    def solver(self, value):\n",
    "        self.__solver = value\n",
    "        \n",
    "    @elem_list.setter\n",
    "    def elem_list(self, value):\n",
    "        self.__elem_list = value\n",
    "              \n",
    "\n",
    "    def boxes_distance(self, b1, b2, min_dist = 0, max_dist = 0):\n",
    "        \"\"\" Allow to set a distance between 2 plants\n",
    "        Args:\n",
    "            b1 (Box): Box1 to place\n",
    "            b2 (Box): Box2 to place\n",
    "            min_dist (int): distance minimum between the 2 boxes\n",
    "            max_dist (int): distance max between the 2 boxes\n",
    "\n",
    "        Side effect:\n",
    "            Add horizontal & vertical constraints with specific distance choosed\n",
    "        Returns:\n",
    "            None\n",
    "        \"\"\"  \n",
    "        print(\"far condition beetween: %s and %s\" % (str(b1.name), str(b2.name)))\n",
    "        a = self.__model.NewBoolVar(str(uuid.uuid4()))\n",
    "        b = self.__model.NewBoolVar(str(uuid.uuid4()))\n",
    "        c = self.__model.NewBoolVar(str(uuid.uuid4()))\n",
    "        d = self.__model.NewBoolVar(str(uuid.uuid4()))\n",
    "        e = self.__model.NewBoolVar(str(uuid.uuid4()))\n",
    "        f = self.__model.NewBoolVar(str(uuid.uuid4()))\n",
    "        g = self.__model.NewBoolVar(str(uuid.uuid4()))\n",
    "        h = self.__model.NewBoolVar(str(uuid.uuid4()))\n",
    "        i = self.__model.NewBoolVar(str(uuid.uuid4()))\n",
    "        j = self.__model.NewBoolVar(str(uuid.uuid4()))\n",
    "        k = self.__model.NewBoolVar(str(uuid.uuid4()))\n",
    "        l = self.__model.NewBoolVar(str(uuid.uuid4()))\n",
    "        m = self.__model.NewBoolVar(str(uuid.uuid4()))\n",
    "        n = self.__model.NewBoolVar(str(uuid.uuid4()))\n",
    "\n",
    "\n",
    "        # Horizontal constraints\n",
    "        self.__model.Add(b1.pos_x >= b2.pos_x + b2.dim_x + int(min_dist * 10)).OnlyEnforceIf(a)\n",
    "        self.__model.Add(b1.pos_x <= b2.pos_x + b2.dim_x + int(max_dist * 10)).OnlyEnforceIf(b)\n",
    "        \n",
    "        \n",
    "        self.__model.Add(b2.pos_x >= b1.pos_x + b1.dim_x + int(min_dist * 10)).OnlyEnforceIf(c)\n",
    "        self.__model.Add(b2.pos_x <= b1.pos_x + b1.dim_x + int(max_dist * 10)).OnlyEnforceIf(d)\n",
    "        \n",
    "        \n",
    "        # Vertical constraints\n",
    "        \n",
    "        self.__model.Add(b1.pos_y >= b2.pos_y + b2.dim_y + int(min_dist * 10)).OnlyEnforceIf(e)\n",
    "        self.__model.Add(b1.pos_y <= b2.pos_y + b2.dim_y + int(max_dist * 10)).OnlyEnforceIf(f)\n",
    "        \n",
    "        self.__model.Add(b2.pos_y >= b1.pos_y + b1.dim_y + int(min_dist * 10)).OnlyEnforceIf(g)\n",
    "        self.__model.Add(b2.pos_y <= b1.pos_y + b1.dim_y + int(max_dist * 10)).OnlyEnforceIf(h)\n",
    "\n",
    "        self.__model.AddBoolAnd([a, b, e, f]).OnlyEnforceIf(i)\n",
    "        self.__model.AddBoolAnd([c, d, g, h]).OnlyEnforceIf(j)\n",
    "\n",
    "\n",
    "        self.__model.AddBoolOr([i, j])\n",
    "\n",
    "        # (redundant) constraints to help the solver to cut some branches\n",
    "        \n",
    "        self.__model.Add(b1.pos_x < b2.pos_x + b2.dim_x + int(min_dist * 10)).OnlyEnforceIf(a.Not())\n",
    "        self.__model.Add(b1.pos_x > b2.pos_x + b2.dim_x + int(max_dist * 10)).OnlyEnforceIf(b.Not())\n",
    "        \n",
    "\n",
    "        self.__model.Add(b1.pos_y < b2.pos_y + b2.dim_y + int(min_dist * 10)).OnlyEnforceIf(e.Not())\n",
    "        self.__model.Add(b1.pos_y > b2.pos_y + b2.dim_y + int(max_dist * 10)).OnlyEnforceIf(f.Not())\n",
    "        \n",
    "\n",
    "        self.__model.Add(b2.pos_x < b1.pos_x + b1.dim_x + int(min_dist * 10)).OnlyEnforceIf(c.Not())\n",
    "        self.__model.Add(b2.pos_x > b1.pos_x + b1.dim_x + int(max_dist * 10)).OnlyEnforceIf(d.Not())\n",
    "\n",
    "        \n",
    "        self.__model.Add(b2.pos_y < b1.pos_y + b1.dim_y + int(min_dist * 10)).OnlyEnforceIf(g.Not())\n",
    "        self.__model.Add(b2.pos_y > b1.pos_y + b1.dim_y + int(max_dist * 10)).OnlyEnforceIf(h.Not())\n",
    "\n",
    "        \n",
    "        # -(A ^ B) <=> (-A V -B) Morgan Law\n",
    "        self.__model.AddBoolOr([a.Not(), b.Not(), e.Not(), f.Not()]).OnlyEnforceIf(i.Not())\n",
    "        self.__model.AddBoolOr([c.Not(), d.Not(), g.Not(), h.Not()]).OnlyEnforceIf(j.Not())\n",
    "        \n",
    "      \n",
    "    def plants_associations(self, b1, b2, data):     \n",
    "        \"\"\" Retrieves the optimal distance between two plants\n",
    "        Args:\n",
    "            b1 (Plant): first plant \n",
    "            b2 (Plant): second plant\n",
    "            data (Json file): json file containing plants data \n",
    "        Side effect:\n",
    "            Set specific distance between 2 plants\n",
    "        Returns:\n",
    "            None\n",
    "        \"\"\"\n",
    "        # TODO On a deux cas ici premier cas ou on a une distance\n",
    "        self.boxes_distance(b1, b2, data[b1.name][\"plantsCombinations\"][b2.name][\"dist_min\"],data[b1.name][\"plantsCombinations\"][b2.name][\"dist_max\"])\n",
    "\n",
    "        # TODO Sinon on a une distance par défaut\n",
    "        \n",
    "    def plants_luminosity(self, plant, data):\n",
    "        \"\"\" Set no_overlap constraints with squares having farthest sunExposure values.\n",
    "        Args:\n",
    "            plant (Plant): reference plant. \n",
    "            data (Json file): json file containing sun infos. \n",
    "        Side effect:\n",
    "            set no_overlap constraints in model.\n",
    "        Returns:\n",
    "            None\n",
    "        \"\"\"\n",
    "        luminosity_squares = get_far_values(data, plant.sunExposureTime, 4)\n",
    "        for item in luminosity_squares:\n",
    "            self.no_overlap(plant, item)\n",
    "    \n",
    "    def plants_soil(self, plant, data):\n",
    "        for item in data:\n",
    "            if item.soilType in plant.soilTypeAvoided:\n",
    "                print(\"plante : {} \\n item: {} \".format(plant.name, item.name))\n",
    "                self.no_overlap(plant, item)\n",
    "            \n",
    "    def check_orientation(self, plant):\n",
    "        half_h = int(TAILLE_H / 2) * 10\n",
    "        half_w = int(TAILLE_W / 2) * 10\n",
    "        \n",
    "        if plant.orientation != \"None\":\n",
    "            for orien in plant.orientation:   \n",
    "                if orien == \"N\":\n",
    "                    self.__model.Add(((plant.pos_y + plant.dim_y) - plant.dim_y) > half_h)\n",
    "                if orien == \"S\":\n",
    "                    self.__model.Add(((plant.pos_y + plant.dim_y) - plant.dim_y) < half_h)\n",
    "                if orien == \"E\": \n",
    "                    self.__model.Add(((plant.pos_x + plant.dim_x) - plant.dim_x) > half_w)\n",
    "                if orien == \"W\": \n",
    "                    self.__model.Add(((plant.pos_x + plant.dim_x) - plant.dim_x) < half_w)\n",
    "        \n",
    "        \n",
    "    def check_inside(self, b1, b2):\n",
    "        \"\"\" Make sure one block goes into another\n",
    "        Args:\n",
    "            b1 (Box): first box to fit in b2. \n",
    "            b2 (Box): second box containing b1. \n",
    "        Side effect:\n",
    "            set fit constraint b1 in b2\n",
    "        Returns:\n",
    "            None\n",
    "        \"\"\"\n",
    "        self.__model.Add(b1.pos_x >= b2.pos_x)\n",
    "        self.__model.Add(b1.pos_y >= b2.pos_y)\n",
    "        self.__model.Add(b1.pos_x + b1.dim_x <= b2.pos_x + b2.dim_x)\n",
    "        self.__model.Add(b1.pos_y + b1.dim_y <= b2.pos_y + b2.dim_y)\n",
    "    \n",
    "    def no_overlap(self, b1, b2):\n",
    "        \"\"\" Set constraints 2 boxes don't overlap each other\n",
    "        Args: \n",
    "            b1 (Box): first box\n",
    "            b2 (Box): second box\n",
    "        Side effect:\n",
    "           set no_overlap constraints in model.\n",
    "        Returns:\n",
    "            None\n",
    "        \"\"\"\n",
    "        a = self.__model.NewBoolVar(str(uuid.uuid4()))\n",
    "        b = self.__model.NewBoolVar(str(uuid.uuid4()))\n",
    "        c = self.__model.NewBoolVar(str(uuid.uuid4()))\n",
    "        d = self.__model.NewBoolVar(str(uuid.uuid4()))\n",
    "        \n",
    "        self.__model.Add(b1.pos_x + b1.dim_x <= b2.pos_x).OnlyEnforceIf(a)\n",
    "        self.__model.Add(b2.pos_x + b2.dim_x <= b1.pos_x).OnlyEnforceIf(b)\n",
    "        self.__model.Add(b1.pos_y + b1.dim_y <= b2.pos_y).OnlyEnforceIf(c)\n",
    "        self.__model.Add(b2.pos_y + b2.dim_y <= b1.pos_y).OnlyEnforceIf(d)\n",
    "        \n",
    "        # (redundant) constraints to help the solver to cut some branches\n",
    "        self.__model.Add(b1.pos_x + b1.dim_x > b2.pos_x).OnlyEnforceIf(a.Not())\n",
    "        self.__model.Add(b2.pos_x + b2.dim_x > b1.pos_x).OnlyEnforceIf(b.Not())\n",
    "        self.__model.Add(b1.pos_y + b1.dim_y > b2.pos_y).OnlyEnforceIf(c.Not())\n",
    "        self.__model.Add(b2.pos_y + b2.dim_y > b1.pos_y).OnlyEnforceIf(d.Not())\n",
    "        \n",
    "        self.__model.AddBoolOr([a,b,c,d])\n",
    "        \n",
    "    def add_box(self, box):\n",
    "        \"\"\" Adding a box in model\n",
    "        \n",
    "        Args: \n",
    "            box (Box): box to add in model\n",
    "        Side effect:\n",
    "            Set domain variables for pos_x, pos_y, dim_x, dim_y \n",
    "        Returns:\n",
    "            None\n",
    "        \"\"\"\n",
    "        # If we can move the box \n",
    "        if isinstance(box, BoxMovable):\n",
    "            box.pos_x = self.__model.NewIntVar(0, self.__box.dim_x, 'b%i_pos_x' % len(self.__elem_list))    \n",
    "            box.pos_y = self.__model.NewIntVar(0, self.__box.dim_y, 'b%i_pos_y' % len(self.__elem_list))\n",
    "\n",
    "            # if we have a square\n",
    "            if box.dim_x == box.dim_y:\n",
    "                box.dim_x = self.__model.NewIntVar(box.dim_x, box.dim_x, 'b%i_dim_x' % len(self.__elem_list))  \n",
    "                box.dim_y = self.__model.NewIntVar(box.dim_y, box.dim_y, 'b%i_dim_y' % len(self.__elem_list))\n",
    "            else:\n",
    "                # TODO b = plant is not super efficient maybe call makeInVar constructor with int ??\n",
    "                b = box\n",
    "                if box.dim_x < box.dim_y:\n",
    "                    x = self.__model.NewEnumeratedIntVar([b.dim_x, b.dim_x, b.dim_y, b.dim_y], 'b%i_dim_x' % len(self.__elem_list))\n",
    "                    y = self.__model.NewEnumeratedIntVar([b.dim_x, b.dim_x, b.dim_y, b.dim_y], 'b%i_dim_y' % len(self.__elem_list))\n",
    "                    b.dim_x = x\n",
    "                    b.dim_y = y\n",
    "                else:\n",
    "                    x = self.__model.NewEnumeratedIntVar([b.dim_y, b.dim_y, b.dim_x, b.dim_x ], 'b%i_dim_x' % len(self.__elem_list))\n",
    "                    y = self.__model.NewEnumeratedIntVar([b.dim_y, b.dim_y, b.dim_x, b.dim_x], 'b%i_dim_y' % len(self.__elem_list))\n",
    "                    b.dim_x = x\n",
    "                    b.dim_y = y\n",
    "                # This constraint allows rotation to 90°\n",
    "                self.__model.Add(b.dim_x != b.dim_y) \n",
    "        else: \n",
    "            box.pos_x = self.__model.NewIntVar(box.pos_x, box.pos_x, 'b%i_pos_x' % len(self.__elem_list))    \n",
    "            box.pos_y = self.__model.NewIntVar(box.pos_y, box.pos_y, 'b%i_pos_y' % len(self.__elem_list))\n",
    "            box.dim_x = self.__model.NewIntVar(box.dim_x, box.dim_x, 'b%i_dim_x' % len(self.__elem_list))  \n",
    "            box.dim_y = self.__model.NewIntVar(box.dim_y, box.dim_y, 'b%i_dim_y' % len(self.__elem_list))\n",
    " \n",
    "        self.check_inside(box, self.__box)\n",
    "        self.__elem_list.append(box)\n",
    "   \n",
    "    def pos_aux(self, legume, data_aux):    \n",
    "        for aux_name in data_aux:\n",
    "            if legume.name in data_aux[aux_name][\"plantsCombinations\"]:\n",
    "                dist_min = data_aux[aux_name][\"plantsCombinations\"][legume.name][\"dist_min\"]\n",
    "                dist_max = data_aux[aux_name][\"plantsCombinations\"][legume.name][\"dist_max\"]     \n",
    "                p = Plant(aux_name, 0, 0, 0.5, 0.65, data_aux[aux_name][\"color\"], 13, [\n",
    "                                      \"Calcaire\",\n",
    "                                      \"Azote\",\n",
    "                                      \"Pauvre\",\n",
    "                                      \"Compact\",\n",
    "                                      \"ArgileuxLimoneux\"\n",
    "                                    ])\n",
    "                self.add_box(p)\n",
    "                self.boxes_distance(legume, p, dist_min, dist_max)\n",
    "\n",
    "    def solve(self):\n",
    "        l = []\n",
    "        for elem in self.__elem_list:\n",
    "            sub_list = []\n",
    "            sub_list.append(elem.pos_x)\n",
    "            sub_list.append(elem.pos_y)\n",
    "            sub_list.append(elem.dim_x)\n",
    "            sub_list.append(elem.dim_y)\n",
    "            sub_list.append(elem.color)\n",
    "            sub_list.append(elem.name)\n",
    "            #sub_list.append(elem.orientation)\n",
    "            l.append(sub_list)\n",
    "      \n",
    "        solution_printer = VarArraySolutionPrinter(l, 1000)\n",
    "        status = self.__solver.SearchForAllSolutions(self.__model, solution_printer)\n",
    "\n",
    "        print('Status = %s' % self.__solver.StatusName(status))\n",
    "        print('Number of solutions found: %i' % solution_printer.solution_count())"
   ]
  },
  {
   "cell_type": "code",
   "execution_count": 8,
   "metadata": {},
   "outputs": [],
   "source": [
    "# file path for plants associations\n",
    "plants_json = './data_model/plant-associations.json'\n",
    "\n",
    "# file path for map, compraining soil square and sun light square\n",
    "maps_json = './data_model/maps.json'\n",
    "\n",
    "plants_aux = './data_model/plant-services.json'\n",
    "\n",
    "with open(plants_json, 'r') as f:\n",
    "    data_plants = json.load(f)\n",
    "    \n",
    "\n",
    "with open(maps_json, 'r') as f:\n",
    "    data_maps = json.load(f)\n",
    "    # Choose a random number\n",
    "    #data_maps = data_maps[random.randint(0,2)]\n",
    "    data_maps = data_maps[0]\n",
    "\n",
    "\n",
    "with open(plants_aux, 'r') as f:\n",
    "    data_aux = json.load(f)\n",
    " \n",
    "    \n",
    "TAILLE_W = data_maps[\"dimensions\"]['TAILLE_W']\n",
    "TAILLE_H = data_maps[\"dimensions\"]['TAILLE_H']\n",
    "\n",
    "    \n",
    "listOfPlants = []    \n",
    "luminosity_squares = []\n",
    "soil_squares = []\n",
    "path = []\n",
    "\n",
    "poireau = Plant(\"Poireau\", 0, 0, 0.2, 2, \"green\", 13, [\n",
    "                                      \"Calcaire\",\n",
    "                                      \"Azote\",\n",
    "                                      \"Pauvre\",\n",
    "                                      \"Compact\",\n",
    "                                      \"ArgileuxLimoneux\"\n",
    "                                    ])\n",
    "\n",
    "\n"
   ]
  },
  {
   "cell_type": "markdown",
   "metadata": {},
   "source": [
    "## User Interface\n",
    "Pemamind's minimalist interface functions"
   ]
  },
  {
   "cell_type": "code",
   "execution_count": 9,
   "metadata": {
    "scrolled": true
   },
   "outputs": [],
   "source": [
    "def modify_user_string(string):\n",
    "    string_format = \"\"\n",
    "    for c in range(len(string)):\n",
    "        if c == 0:\n",
    "            string_format += str(string[c]).upper()\n",
    "        else:\n",
    "            string_format += str(string[c]).lower() \n",
    "    return string_format\n",
    "    \n",
    "\n",
    "def quantityComputation(qt):\n",
    "    # Bout de code fais rapidement\n",
    "    if qt < 5:\n",
    "        loop_count = 1\n",
    "        if qt > 0 and qt < 3:\n",
    "            dimX = 1\n",
    "            dimY = 2\n",
    "        elif qt >= 3 and qt < 5:\n",
    "            dimX = 2\n",
    "            dimY = 2\n",
    "            # Or dimY = 2 / dimX = 1\n",
    "        else:\n",
    "            dimX = 3\n",
    "            dimY = 3\n",
    "    elif qt >= 5 and qt < 10:\n",
    "        loop_count = 2\n",
    "        if qt >= 5 and qt <= 7:\n",
    "            dimX = 3\n",
    "            dimY = 4\n",
    "        elif qt > 7 and qt < 9:\n",
    "            dimX = 2\n",
    "            dimY = 4\n",
    "        else:\n",
    "            dimX = 3\n",
    "            dimY = 5\n",
    "    else:\n",
    "        loop_count = 3\n",
    "        dimX = 4\n",
    "        dimY = 5\n",
    "        \n",
    "    return loop_count, dimX, dimY\n",
    "\n",
    "\n",
    "def insertPlantsWithQuantity(listOfPlants, plant_name, qt):\n",
    "    loop_count, dimX, dimY = quantityComputation(int(qt))\n",
    "    for i in range(loop_count):\n",
    "        listOfPlants.append(Plant(plant_name, 0, 0, dimX, dimY, data_plants[plant_name][\"color\"], data_plants[plant_name][\"sunExposureTimeInHour\"], data_plants[plant_name][\"soilTypeAvoided\"]))\n",
    "    return listOfPlants\n",
    "\n",
    "def displayListOfPlants(l):\n",
    "    print([[x.name,l.count(x)] for x in set(l)])\n",
    "    \n",
    "        \n",
    "\n",
    "def loadPlantsDebug():\n",
    "    \"\"\"\n",
    "    l = [Plant(\"Carotte\", 0, 0, 1, 2, \"orange\", 6, [\n",
    "                                    \"Calcaire\",\n",
    "                                    \"Azote\",\n",
    "                                    \"Pauvre\",\n",
    "                                    \"Compact\"\n",
    "                                  ]),\n",
    "         Plant(\"Poireau\", 0, 0, 1, 2, \"green\", 13, [\n",
    "                                      \"Calcaire\",\n",
    "                                      \"Azote\",\n",
    "                                      \"Pauvre\",\n",
    "                                      \"Compact\"\n",
    "                                    ]),\n",
    "          Plant(\"Ail\", 0, 0, 1, 2, \"pink\", 3, [\n",
    "                                  \"Humifere\",\n",
    "                                  \"Azote\",\n",
    "                                  \"Pauvre\",\n",
    "                                  \"Compact\"\n",
    "                                ])]\n",
    "    \"\"\"\n",
    "    \n",
    "    l = [ Plant(\"Poireau\", 0, 0, 0.2, 2, \"green\", 13, [\n",
    "                                      \"Calcaire\",\n",
    "                                      \"Azote\",\n",
    "                                      \"Pauvre\",\n",
    "                                      \"Compact\",\n",
    "                                      \"ArgileuxLimoneux\"\n",
    "                                    ])]\n",
    "    for item in l:\n",
    "        listOfPlants.append(item)\n",
    "    \n",
    "    garden = BoxFixed('Box', 0, 0, TAILLE_W, TAILLE_H, \"white\")\n",
    "    block_problem = create_model(garden, listOfPlants)\n",
    "    \n",
    "    for plant in listOfPlants:\n",
    "        block_problem.pos_aux(plant, data_aux)\n",
    "    # TODO ICi créer une fonction qui va remplir le modèle de plante de service\n",
    "    block_problem.solve()\n",
    "    print('Statistics')\n",
    "    print('  - conflicts       : %i' % block_problem.solver.NumConflicts())\n",
    "    print('  - branches        : %i' % block_problem.solver.NumBranches())\n",
    "    print('  - wall time       : %f s' % block_problem.solver.WallTime())\n",
    "\n",
    "    \n",
    "def askUserModifyChoice(listOfPlants):\n",
    "    print(\"\\nAie Aie ...\")\n",
    "    print(\"Ton choix cher petit jardinier me semble difficile à satisfaire :( \")\n",
    "    print(\"- Voici les plantes que tu désires ajouter\")\n",
    " \n",
    "    # TODO faire une function qui fais la liste bien présentée\n",
    "    displayListOfPlants(listOfPlants)\n",
    "    \n",
    "    present = False\n",
    "    while True:\n",
    "        print(\"- Pourrions nous réduire la quantité d'une plante afin de satisfaire le modèle ?\")\n",
    "        answer = input()\n",
    "        answer = modify_user_string(answer)\n",
    "        if answer == \"Oui\":\n",
    "            print(\"- Quelle plante ?\")\n",
    "            plant = True\n",
    "            while type(plant) is not str:\n",
    "                plant = input()\n",
    "            plant = modify_user_string(plant)\n",
    "            for e in listOfPlants:\n",
    "                if e.name == plant:\n",
    "                    while True:\n",
    "                        print(\"Veux tu supprimer cette plante ou réduire sa quantité ?\")\n",
    "                        print(\"'Supprimer' ou 'Reduire' :)\")\n",
    "                        answ = input()\n",
    "                        answ = modify_user_string(answ)\n",
    "                        if answ == \"Supprimer\":\n",
    "                            listOfPlants = [x for x in listOfPlants if plant not in x.name]\n",
    "                            present = True\n",
    "                            break\n",
    "                        if answ == \"Reduire\":\n",
    "                            listOfPlants = [x for x in listOfPlants if plant not in x.name]\n",
    "                            print(\"Quelle est la nouvelle quantité pour {}\".format(plant))\n",
    "                            qt = input()\n",
    "                            listOfPlants = insertPlantsWithQuantity(listOfPlants, plant, qt)\n",
    "                            present = True\n",
    "                            break\n",
    "                    break\n",
    "        elif answer == \"Non\":\n",
    "            raise Exception(\"L'utilisateur ne veut pas changer son choix /!\\ En construction /!\\ \")\n",
    "                    \n",
    "        if present:\n",
    "            print(\"Liste mise à jour ...\")\n",
    "            return listOfPlants\n",
    "        else:\n",
    "            print(\"Element non présent dans votre liste\")\n",
    "        \n",
    "        \n",
    "def welcome():\n",
    "    print(\"             Bonjour petit paysan débutant ! \\n                 Bienvenue sur Permamind !\\n\\n\")\n",
    "    print(\"- Pourrais tu me fournir les données du terrain que tu désires aménager s'il te plait ?\")\n",
    "    print(\"    ... /!\\ En construction /!\\ Récupération JSON simulant les données du terrain ...\")    \n",
    "    print(\"    Je vais te fournir les espèces de légumes bien adapté à ton terrain.\")\n",
    "\n",
    "def askUserAndAdjust(listOfPlants):\n",
    "    welcome()\n",
    "    while True:\n",
    "        print(\"- Fais ta sélection parmis la liste proposée !\")\n",
    "        for e in data_plants:\n",
    "            print(\"   *\", e)\n",
    "        plant = True\n",
    "        while type(plant) is not str:\n",
    "            plant = input()\n",
    "        plant = modify_user_string(plant)\n",
    "        if plant in data_plants:\n",
    "            print(\"- Tu as choisi {}\".format(plant))\n",
    "            print(\"    Quelle quantité de {} desires tu ?\".format(str(plant)))\n",
    "            qt = input()\n",
    "            print(\"- Tu as choisi de planter {} {}(s)\".format(qt, str(plant)))\n",
    "            \n",
    "            listOfPlants = insertPlantsWithQuantity(listOfPlants, plant, qt)\n",
    "            \n",
    "            while True:\n",
    "                listOfElem = copy.deepcopy(listOfPlants)                                                                                                         \n",
    "                garden = BoxFixed('Box', 0, 0, TAILLE_W, TAILLE_H, \"white\")\n",
    "                block_problem = create_model(garden, listOfElem)\n",
    "\n",
    "                status = block_problem.solver.Solve(block_problem.model)\n",
    "                if status == cp_model.FEASIBLE:\n",
    "                    print(\"- Desires tu continuer ?\")\n",
    "                    choice = input()\n",
    "                    choice = modify_user_string(choice)\n",
    "                    if choice == \"Non\":\n",
    "                        return block_problem, listOfPlants\n",
    "                    else:\n",
    "                        break\n",
    "                else:\n",
    "                    listOfPlants = askUserModifyChoice(listOfPlants)\n",
    "\n",
    "        else:\n",
    "            print(\"Ce que tu as choisi n'est pas dans la base.\")\n",
    "        \n",
    "        # TDOO Fonction qui fais la liste des plantes intégrées ...\n",
    "    "
   ]
  },
  {
   "cell_type": "code",
   "execution_count": 10,
   "metadata": {},
   "outputs": [],
   "source": [
    "def create_model(name, listOfElem):\n",
    "\n",
    "    block_problem = plantBoxProblem(name)\n",
    "        \n",
    "    #for e in data_maps[\"sunlight_squares\"]:\n",
    "    #    sun = Sun(e[\"category\"], e[\"pos_x\"], e[\"pos_y\"], e[\"dim_x\"], e[\"dim_y\"], e[\"color\"], e[\"sunExposureTimeInHour\"])\n",
    "     #   luminosity_squares.append(sun)\n",
    "     #   block_problem.add_box(sun)\n",
    "\n",
    "    # Add soil squares to model\n",
    "   # for e in data_maps[\"soil_squares\"]:\n",
    "   #     soil = Soil(e[\"category\"],e[\"pos_x\"], e[\"pos_y\"], e[\"dim_x\"], e[\"dim_y\"], e[\"color\"], e[\"category\"])\n",
    "   #     soil_squares.append(soil)\n",
    "   #     block_problem.add_box(soil)\n",
    "\n",
    "    for p in listOfElem:\n",
    "        block_problem.add_box(p)\n",
    "        \n",
    "    asp = Plant(\"Asperge\", 0, 0, 0.5, 0.8, \"violet\", 13, [\n",
    "                                      \"Calcaire\",\n",
    "                                      \"Azote\",\n",
    "                                      \"Pauvre\",\n",
    "                                      \"Compact\",\n",
    "                                      \"ArgileuxLimoneux\"\n",
    "                                    ])\n",
    "    block_problem.add_box(asp)\n",
    "    block_problem.no_overlap(listOfElem[0], asp) \n",
    "\n",
    "    \n",
    "    asp = Plant(\"Chou\", 0, 0, 1, 1, \"yellow\", 13, [\n",
    "                                      \"Calcaire\",\n",
    "                                      \"Azote\",\n",
    "                                      \"Pauvre\",\n",
    "                                      \"Compact\",\n",
    "                                      \"ArgileuxLimoneux\"\n",
    "                                    ])\n",
    "    block_problem.add_box(asp)\n",
    "    block_problem.no_overlap(listOfElem[0], asp) \n",
    "\n",
    "    while len(listOfElem) != 0:    \n",
    "        block_problem.plants_luminosity(listOfElem[0], luminosity_squares)\n",
    "        block_problem.plants_soil(listOfElem[0], soil_squares)\n",
    "        print(\"legume: {} / apserge {}\".format(listOfElem[0].name, asp.name))\n",
    "        #block_problem.boxes_distance(listOfElem[0], asp, 0, 0.5)\n",
    "\n",
    "        #block_problem.pos_aux(listOfElem[0], data_aux)\n",
    "        #block_problem.no_overlap(listOfPlants[0], path[0]) \n",
    "        for index, value in enumerate(listOfElem):\n",
    "            if index != 0:\n",
    "                block_problem.no_overlap(listOfElem[0], listOfElem[index]) \n",
    "                block_problem.plants_associations(listOfElem[0], listOfElem[index], data_plants)\n",
    "        listOfElem.pop(0)\n",
    "        \n",
    "    return block_problem\n",
    "\n",
    "        \n",
    "def problem_resolution():\n",
    "    \n",
    "    loadPlantsDebug()\n",
    "    #block_problem, new_listOfPlants = askUserAndAdjust(listOfPlants)\n",
    "    #if len(new_listOfPlants) < 1:\n",
    "     #   print(\"Nothing in my list. Need to treat this case before in the code\")\n",
    "    #else:\n",
    "    #    block_problem.solve()\n",
    "        # Statistics.\n",
    "    #    print()\n",
    "    #    print('Statistics')\n",
    "    #    print('  - conflicts       : %i' % block_problem.solver.NumConflicts())\n",
    "    #    print('  - branches        : %i' % block_problem.solver.NumBranches())\n",
    "    #    print('  - wall time       : %f s' % block_problem.solver.WallTime())\n",
    "    \n",
    "\n",
    "# http://socialcompare.com/fr/comparison/association-de-legumes-au-jardin-potager-bio"
   ]
  },
  {
   "cell_type": "code",
   "execution_count": 11,
   "metadata": {
    "scrolled": true
   },
   "outputs": [
    {
     "name": "stderr",
     "output_type": "stream",
     "text": [
      "No handles with labels found to put in legend.\n"
     ]
    },
    {
     "name": "stdout",
     "output_type": "stream",
     "text": [
      "legume: Poireau / apserge Chou\n",
      "name = Poireau\n",
      "pos_x = 0.500000\n",
      "pos_y = 0.000000\n",
      "dim_x = 0.200000\n",
      "dim_y = 2.000000\n",
      "name = Asperge\n",
      "pos_x = 0.000000\n",
      "pos_y = 0.000000\n",
      "dim_x = 0.500000\n",
      "dim_y = 0.800000\n",
      "name = Chou\n",
      "pos_x = 0.700000\n",
      "pos_y = 0.000000\n",
      "dim_x = 1.000000\n",
      "dim_y = 1.000000\n"
     ]
    },
    {
     "data": {
      "image/png": "[encoded data removed]",
      "text/plain": [
       "<Figure size 432x288 with 1 Axes>"
      ]
     },
     "metadata": {
      "needs_background": "light"
     },
     "output_type": "display_data"
    },
    {
     "name": "stderr",
     "output_type": "stream",
     "text": [
      "No handles with labels found to put in legend.\n"
     ]
    },
    {
     "name": "stdout",
     "output_type": "stream",
     "text": [
      "name = Poireau\n",
      "pos_x = 0.500000\n",
      "pos_y = 0.100000\n",
      "dim_x = 0.200000\n",
      "dim_y = 2.000000\n",
      "name = Asperge\n",
      "pos_x = 0.000000\n",
      "pos_y = 0.000000\n",
      "dim_x = 0.500000\n",
      "dim_y = 0.800000\n",
      "name = Chou\n",
      "pos_x = 0.700000\n",
      "pos_y = 0.000000\n",
      "dim_x = 1.000000\n",
      "dim_y = 1.000000\n"
     ]
    },
    {
     "data": {
      "image/png": "[encoded data removed]",
      "text/plain": [
       "<Figure size 432x288 with 1 Axes>"
      ]
     },
     "metadata": {
      "needs_background": "light"
     },
     "output_type": "display_data"
    },
    {
     "name": "stderr",
     "output_type": "stream",
     "text": [
      "No handles with labels found to put in legend.\n"
     ]
    },
    {
     "name": "stdout",
     "output_type": "stream",
     "text": [
      "name = Poireau\n",
      "pos_x = 0.500000\n",
      "pos_y = 0.200000\n",
      "dim_x = 0.200000\n",
      "dim_y = 2.000000\n",
      "name = Asperge\n",
      "pos_x = 0.000000\n",
      "pos_y = 0.000000\n",
      "dim_x = 0.500000\n",
      "dim_y = 0.800000\n",
      "name = Chou\n",
      "pos_x = 0.700000\n",
      "pos_y = 0.000000\n",
      "dim_x = 1.000000\n",
      "dim_y = 1.000000\n"
     ]
    },
    {
     "data": {
      "image/png": "[encoded data removed]",
      "text/plain": [
       "<Figure size 432x288 with 1 Axes>"
      ]
     },
     "metadata": {
      "needs_background": "light"
     },
     "output_type": "display_data"
    },
    {
     "name": "stderr",
     "output_type": "stream",
     "text": [
      "No handles with labels found to put in legend.\n"
     ]
    },
    {
     "name": "stdout",
     "output_type": "stream",
     "text": [
      "name = Poireau\n",
      "pos_x = 0.500000\n",
      "pos_y = 0.300000\n",
      "dim_x = 0.200000\n",
      "dim_y = 2.000000\n",
      "name = Asperge\n",
      "pos_x = 0.000000\n",
      "pos_y = 0.000000\n",
      "dim_x = 0.500000\n",
      "dim_y = 0.800000\n",
      "name = Chou\n",
      "pos_x = 0.700000\n",
      "pos_y = 0.000000\n",
      "dim_x = 1.000000\n",
      "dim_y = 1.000000\n"
     ]
    },
    {
     "data": {
      "image/png": "[encoded data removed]",
      "text/plain": [
       "<Figure size 432x288 with 1 Axes>"
      ]
     },
     "metadata": {
      "needs_background": "light"
     },
     "output_type": "display_data"
    },
    {
     "name": "stderr",
     "output_type": "stream",
     "text": [
      "No handles with labels found to put in legend.\n"
     ]
    },
    {
     "name": "stdout",
     "output_type": "stream",
     "text": [
      "name = Poireau\n",
      "pos_x = 0.500000\n",
      "pos_y = 0.400000\n",
      "dim_x = 0.200000\n",
      "dim_y = 2.000000\n",
      "name = Asperge\n",
      "pos_x = 0.000000\n",
      "pos_y = 0.000000\n",
      "dim_x = 0.500000\n",
      "dim_y = 0.800000\n",
      "name = Chou\n",
      "pos_x = 0.700000\n",
      "pos_y = 0.000000\n",
      "dim_x = 1.000000\n",
      "dim_y = 1.000000\n"
     ]
    },
    {
     "data": {
      "image/png": "[encoded data removed]",
      "text/plain": [
       "<Figure size 432x288 with 1 Axes>"
      ]
     },
     "metadata": {
      "needs_background": "light"
     },
     "output_type": "display_data"
    },
    {
     "name": "stderr",
     "output_type": "stream",
     "text": [
      "No handles with labels found to put in legend.\n"
     ]
    },
    {
     "name": "stdout",
     "output_type": "stream",
     "text": [
      "name = Poireau\n",
      "pos_x = 0.500000\n",
      "pos_y = 0.500000\n",
      "dim_x = 0.200000\n",
      "dim_y = 2.000000\n",
      "name = Asperge\n",
      "pos_x = 0.000000\n",
      "pos_y = 0.000000\n",
      "dim_x = 0.500000\n",
      "dim_y = 0.800000\n",
      "name = Chou\n",
      "pos_x = 0.700000\n",
      "pos_y = 0.000000\n",
      "dim_x = 1.000000\n",
      "dim_y = 1.000000\n"
     ]
    },
    {
     "data": {
      "image/png": "[encoded data removed]",
      "text/plain": [
       "<Figure size 432x288 with 1 Axes>"
      ]
     },
     "metadata": {
      "needs_background": "light"
     },
     "output_type": "display_data"
    },
    {
     "name": "stderr",
     "output_type": "stream",
     "text": [
      "No handles with labels found to put in legend.\n"
     ]
    },
    {
     "name": "stdout",
     "output_type": "stream",
     "text": [
      "name = Poireau\n",
      "pos_x = 0.500000\n",
      "pos_y = 0.600000\n",
      "dim_x = 0.200000\n",
      "dim_y = 2.000000\n",
      "name = Asperge\n",
      "pos_x = 0.000000\n",
      "pos_y = 0.000000\n",
      "dim_x = 0.500000\n",
      "dim_y = 0.800000\n",
      "name = Chou\n",
      "pos_x = 0.700000\n",
      "pos_y = 0.000000\n",
      "dim_x = 1.000000\n",
      "dim_y = 1.000000\n"
     ]
    },
    {
     "data": {
      "image/png": "[encoded data removed]",
      "text/plain": [
       "<Figure size 432x288 with 1 Axes>"
      ]
     },
     "metadata": {
      "needs_background": "light"
     },
     "output_type": "display_data"
    },
    {
     "name": "stderr",
     "output_type": "stream",
     "text": [
      "No handles with labels found to put in legend.\n"
     ]
    },
    {
     "name": "stdout",
     "output_type": "stream",
     "text": [
      "name = Poireau\n",
      "pos_x = 0.500000\n",
      "pos_y = 0.700000\n",
      "dim_x = 0.200000\n",
      "dim_y = 2.000000\n",
      "name = Asperge\n",
      "pos_x = 0.000000\n",
      "pos_y = 0.000000\n",
      "dim_x = 0.500000\n",
      "dim_y = 0.800000\n",
      "name = Chou\n",
      "pos_x = 0.700000\n",
      "pos_y = 0.000000\n",
      "dim_x = 1.000000\n",
      "dim_y = 1.000000\n"
     ]
    },
    {
     "data": {
      "image/png": "[encoded data removed]",
      "text/plain": [
       "<Figure size 432x288 with 1 Axes>"
      ]
     },
     "metadata": {
      "needs_background": "light"
     },
     "output_type": "display_data"
    },
    {
     "name": "stderr",
     "output_type": "stream",
     "text": [
      "No handles with labels found to put in legend.\n"
     ]
    },
    {
     "name": "stdout",
     "output_type": "stream",
     "text": [
      "name = Poireau\n",
      "pos_x = 0.500000\n",
      "pos_y = 0.700000\n",
      "dim_x = 0.200000\n",
      "dim_y = 2.000000\n",
      "name = Asperge\n",
      "pos_x = 0.000000\n",
      "pos_y = 0.000000\n",
      "dim_x = 0.500000\n",
      "dim_y = 0.800000\n",
      "name = Chou\n",
      "pos_x = 0.800000\n",
      "pos_y = 0.000000\n",
      "dim_x = 1.000000\n",
      "dim_y = 1.000000\n"
     ]
    },
    {
     "data": {
      "image/png": "[encoded data removed]",
      "text/plain": [
       "<Figure size 432x288 with 1 Axes>"
      ]
     },
     "metadata": {
      "needs_background": "light"
     },
     "output_type": "display_data"
    },
    {
     "name": "stderr",
     "output_type": "stream",
     "text": [
      "No handles with labels found to put in legend.\n"
     ]
    },
    {
     "name": "stdout",
     "output_type": "stream",
     "text": [
      "name = Poireau\n",
      "pos_x = 0.500000\n",
      "pos_y = 0.700000\n",
      "dim_x = 0.200000\n",
      "dim_y = 2.000000\n",
      "name = Asperge\n",
      "pos_x = 0.000000\n",
      "pos_y = 0.000000\n",
      "dim_x = 0.500000\n",
      "dim_y = 0.800000\n",
      "name = Chou\n",
      "pos_x = 0.900000\n",
      "pos_y = 0.000000\n",
      "dim_x = 1.000000\n",
      "dim_y = 1.000000\n"
     ]
    },
    {
     "data": {
      "image/png": "[encoded data removed]",
      "text/plain": [
       "<Figure size 432x288 with 1 Axes>"
      ]
     },
     "metadata": {
      "needs_background": "light"
     },
     "output_type": "display_data"
    },
    {
     "name": "stderr",
     "output_type": "stream",
     "text": [
      "No handles with labels found to put in legend.\n"
     ]
    },
    {
     "name": "stdout",
     "output_type": "stream",
     "text": [
      "name = Poireau\n",
      "pos_x = 0.500000\n",
      "pos_y = 0.700000\n",
      "dim_x = 0.200000\n",
      "dim_y = 2.000000\n",
      "name = Asperge\n",
      "pos_x = 0.000000\n",
      "pos_y = 0.000000\n",
      "dim_x = 0.500000\n",
      "dim_y = 0.800000\n",
      "name = Chou\n",
      "pos_x = 1.000000\n",
      "pos_y = 0.000000\n",
      "dim_x = 1.000000\n",
      "dim_y = 1.000000\n"
     ]
    },
    {
     "data": {
      "image/png": "[encoded data removed]",
      "text/plain": [
       "<Figure size 432x288 with 1 Axes>"
      ]
     },
     "metadata": {
      "needs_background": "light"
     },
     "output_type": "display_data"
    },
    {
     "name": "stderr",
     "output_type": "stream",
     "text": [
      "No handles with labels found to put in legend.\n"
     ]
    },
    {
     "name": "stdout",
     "output_type": "stream",
     "text": [
      "name = Poireau\n",
      "pos_x = 0.500000\n",
      "pos_y = 0.800000\n",
      "dim_x = 0.200000\n",
      "dim_y = 2.000000\n",
      "name = Asperge\n",
      "pos_x = 0.000000\n",
      "pos_y = 0.000000\n",
      "dim_x = 0.500000\n",
      "dim_y = 0.800000\n",
      "name = Chou\n",
      "pos_x = 1.000000\n",
      "pos_y = 0.000000\n",
      "dim_x = 1.000000\n",
      "dim_y = 1.000000\n"
     ]
    },
    {
     "data": {
      "image/png": "[encoded data removed]",
      "text/plain": [
       "<Figure size 432x288 with 1 Axes>"
      ]
     },
     "metadata": {
      "needs_background": "light"
     },
     "output_type": "display_data"
    },
    {
     "name": "stderr",
     "output_type": "stream",
     "text": [
      "No handles with labels found to put in legend.\n"
     ]
    },
    {
     "name": "stdout",
     "output_type": "stream",
     "text": [
      "name = Poireau\n",
      "pos_x = 0.500000\n",
      "pos_y = 0.900000\n",
      "dim_x = 0.200000\n",
      "dim_y = 2.000000\n",
      "name = Asperge\n",
      "pos_x = 0.000000\n",
      "pos_y = 0.000000\n",
      "dim_x = 0.500000\n",
      "dim_y = 0.800000\n",
      "name = Chou\n",
      "pos_x = 1.000000\n",
      "pos_y = 0.000000\n",
      "dim_x = 1.000000\n",
      "dim_y = 1.000000\n"
     ]
    },
    {
     "data": {
      "image/png": "[encoded data removed]",
      "text/plain": [
       "<Figure size 432x288 with 1 Axes>"
      ]
     },
     "metadata": {
      "needs_background": "light"
     },
     "output_type": "display_data"
    },
    {
     "name": "stderr",
     "output_type": "stream",
     "text": [
      "No handles with labels found to put in legend.\n"
     ]
    },
    {
     "name": "stdout",
     "output_type": "stream",
     "text": [
      "name = Poireau\n",
      "pos_x = 0.500000\n",
      "pos_y = 1.000000\n",
      "dim_x = 0.200000\n",
      "dim_y = 2.000000\n",
      "name = Asperge\n",
      "pos_x = 0.000000\n",
      "pos_y = 0.000000\n",
      "dim_x = 0.500000\n",
      "dim_y = 0.800000\n",
      "name = Chou\n",
      "pos_x = 1.000000\n",
      "pos_y = 0.000000\n",
      "dim_x = 1.000000\n",
      "dim_y = 1.000000\n"
     ]
    },
    {
     "data": {
      "image/png": "[encoded data removed]",
      "text/plain": [
       "<Figure size 432x288 with 1 Axes>"
      ]
     },
     "metadata": {
      "needs_background": "light"
     },
     "output_type": "display_data"
    },
    {
     "name": "stderr",
     "output_type": "stream",
     "text": [
      "No handles with labels found to put in legend.\n"
     ]
    },
    {
     "name": "stdout",
     "output_type": "stream",
     "text": [
      "name = Poireau\n",
      "pos_x = 0.500000\n",
      "pos_y = 1.100000\n",
      "dim_x = 0.200000\n",
      "dim_y = 2.000000\n",
      "name = Asperge\n",
      "pos_x = 0.000000\n",
      "pos_y = 0.000000\n",
      "dim_x = 0.500000\n",
      "dim_y = 0.800000\n",
      "name = Chou\n",
      "pos_x = 1.000000\n",
      "pos_y = 0.000000\n",
      "dim_x = 1.000000\n",
      "dim_y = 1.000000\n"
     ]
    },
    {
     "data": {
      "image/png": "[encoded data removed]",
      "text/plain": [
       "<Figure size 432x288 with 1 Axes>"
      ]
     },
     "metadata": {
      "needs_background": "light"
     },
     "output_type": "display_data"
    },
    {
     "name": "stderr",
     "output_type": "stream",
     "text": [
      "No handles with labels found to put in legend.\n"
     ]
    },
    {
     "name": "stdout",
     "output_type": "stream",
     "text": [
      "name = Poireau\n",
      "pos_x = 0.500000\n",
      "pos_y = 1.200000\n",
      "dim_x = 0.200000\n",
      "dim_y = 2.000000\n",
      "name = Asperge\n",
      "pos_x = 0.000000\n",
      "pos_y = 0.000000\n",
      "dim_x = 0.500000\n",
      "dim_y = 0.800000\n",
      "name = Chou\n",
      "pos_x = 1.000000\n",
      "pos_y = 0.000000\n",
      "dim_x = 1.000000\n",
      "dim_y = 1.000000\n"
     ]
    },
    {
     "data": {
      "image/png": "[encoded data removed]",
      "text/plain": [
       "<Figure size 432x288 with 1 Axes>"
      ]
     },
     "metadata": {
      "needs_background": "light"
     },
     "output_type": "display_data"
    },
    {
     "name": "stderr",
     "output_type": "stream",
     "text": [
      "No handles with labels found to put in legend.\n"
     ]
    },
    {
     "name": "stdout",
     "output_type": "stream",
     "text": [
      "name = Poireau\n",
      "pos_x = 0.500000\n",
      "pos_y = 1.300000\n",
      "dim_x = 0.200000\n",
      "dim_y = 2.000000\n",
      "name = Asperge\n",
      "pos_x = 0.000000\n",
      "pos_y = 0.000000\n",
      "dim_x = 0.500000\n",
      "dim_y = 0.800000\n",
      "name = Chou\n",
      "pos_x = 1.000000\n",
      "pos_y = 0.000000\n",
      "dim_x = 1.000000\n",
      "dim_y = 1.000000\n"
     ]
    },
    {
     "data": {
      "image/png": "[encoded data removed]",
      "text/plain": [
       "<Figure size 432x288 with 1 Axes>"
      ]
     },
     "metadata": {
      "needs_background": "light"
     },
     "output_type": "display_data"
    },
    {
     "name": "stderr",
     "output_type": "stream",
     "text": [
      "No handles with labels found to put in legend.\n"
     ]
    },
    {
     "name": "stdout",
     "output_type": "stream",
     "text": [
      "name = Poireau\n",
      "pos_x = 0.500000\n",
      "pos_y = 1.400000\n",
      "dim_x = 0.200000\n",
      "dim_y = 2.000000\n",
      "name = Asperge\n",
      "pos_x = 0.000000\n",
      "pos_y = 0.000000\n",
      "dim_x = 0.500000\n",
      "dim_y = 0.800000\n",
      "name = Chou\n",
      "pos_x = 1.000000\n",
      "pos_y = 0.000000\n",
      "dim_x = 1.000000\n",
      "dim_y = 1.000000\n"
     ]
    },
    {
     "data": {
      "image/png": "[encoded data removed]",
      "text/plain": [
       "<Figure size 432x288 with 1 Axes>"
      ]
     },
     "metadata": {
      "needs_background": "light"
     },
     "output_type": "display_data"
    },
    {
     "name": "stderr",
     "output_type": "stream",
     "text": [
      "No handles with labels found to put in legend.\n"
     ]
    },
    {
     "name": "stdout",
     "output_type": "stream",
     "text": [
      "name = Poireau\n",
      "pos_x = 0.500000\n",
      "pos_y = 1.500000\n",
      "dim_x = 0.200000\n",
      "dim_y = 2.000000\n",
      "name = Asperge\n",
      "pos_x = 0.000000\n",
      "pos_y = 0.000000\n",
      "dim_x = 0.500000\n",
      "dim_y = 0.800000\n",
      "name = Chou\n",
      "pos_x = 1.000000\n",
      "pos_y = 0.000000\n",
      "dim_x = 1.000000\n",
      "dim_y = 1.000000\n"
     ]
    },
    {
     "data": {
      "image/png": "[encoded data removed]",
      "text/plain": [
       "<Figure size 432x288 with 1 Axes>"
      ]
     },
     "metadata": {
      "needs_background": "light"
     },
     "output_type": "display_data"
    },
    {
     "name": "stderr",
     "output_type": "stream",
     "text": [
      "No handles with labels found to put in legend.\n"
     ]
    },
    {
     "name": "stdout",
     "output_type": "stream",
     "text": [
      "name = Poireau\n",
      "pos_x = 0.500000\n",
      "pos_y = 1.600000\n",
      "dim_x = 0.200000\n",
      "dim_y = 2.000000\n",
      "name = Asperge\n",
      "pos_x = 0.000000\n",
      "pos_y = 0.000000\n",
      "dim_x = 0.500000\n",
      "dim_y = 0.800000\n",
      "name = Chou\n",
      "pos_x = 1.000000\n",
      "pos_y = 0.000000\n",
      "dim_x = 1.000000\n",
      "dim_y = 1.000000\n"
     ]
    },
    {
     "data": {
      "image/png": "[encoded data removed]",
      "text/plain": [
       "<Figure size 432x288 with 1 Axes>"
      ]
     },
     "metadata": {
      "needs_background": "light"
     },
     "output_type": "display_data"
    },
    {
     "name": "stderr",
     "output_type": "stream",
     "text": [
      "No handles with labels found to put in legend.\n"
     ]
    },
    {
     "name": "stdout",
     "output_type": "stream",
     "text": [
      "name = Poireau\n",
      "pos_x = 0.500000\n",
      "pos_y = 1.700000\n",
      "dim_x = 0.200000\n",
      "dim_y = 2.000000\n",
      "name = Asperge\n",
      "pos_x = 0.000000\n",
      "pos_y = 0.000000\n",
      "dim_x = 0.500000\n",
      "dim_y = 0.800000\n",
      "name = Chou\n",
      "pos_x = 1.000000\n",
      "pos_y = 0.000000\n",
      "dim_x = 1.000000\n",
      "dim_y = 1.000000\n"
     ]
    },
    {
     "data": {
      "image/png": "[encoded data removed]",
      "text/plain": [
       "<Figure size 432x288 with 1 Axes>"
      ]
     },
     "metadata": {
      "needs_background": "light"
     },
     "output_type": "display_data"
    },
    {
     "name": "stderr",
     "output_type": "stream",
     "text": [
      "No handles with labels found to put in legend.\n"
     ]
    },
    {
     "name": "stdout",
     "output_type": "stream",
     "text": [
      "name = Poireau\n",
      "pos_x = 0.500000\n",
      "pos_y = 1.800000\n",
      "dim_x = 0.200000\n",
      "dim_y = 2.000000\n",
      "name = Asperge\n",
      "pos_x = 0.000000\n",
      "pos_y = 0.000000\n",
      "dim_x = 0.500000\n",
      "dim_y = 0.800000\n",
      "name = Chou\n",
      "pos_x = 1.000000\n",
      "pos_y = 0.000000\n",
      "dim_x = 1.000000\n",
      "dim_y = 1.000000\n"
     ]
    },
    {
     "data": {
      "image/png": "[encoded data removed]",
      "text/plain": [
       "<Figure size 432x288 with 1 Axes>"
      ]
     },
     "metadata": {
      "needs_background": "light"
     },
     "output_type": "display_data"
    },
    {
     "name": "stderr",
     "output_type": "stream",
     "text": [
      "No handles with labels found to put in legend.\n"
     ]
    },
    {
     "name": "stdout",
     "output_type": "stream",
     "text": [
      "name = Poireau\n",
      "pos_x = 0.500000\n",
      "pos_y = 1.900000\n",
      "dim_x = 0.200000\n",
      "dim_y = 2.000000\n",
      "name = Asperge\n",
      "pos_x = 0.000000\n",
      "pos_y = 0.000000\n",
      "dim_x = 0.500000\n",
      "dim_y = 0.800000\n",
      "name = Chou\n",
      "pos_x = 1.000000\n",
      "pos_y = 0.000000\n",
      "dim_x = 1.000000\n",
      "dim_y = 1.000000\n"
     ]
    },
    {
     "data": {
      "image/png": "[encoded data removed]",
      "text/plain": [
       "<Figure size 432x288 with 1 Axes>"
      ]
     },
     "metadata": {
      "needs_background": "light"
     },
     "output_type": "display_data"
    },
    {
     "name": "stderr",
     "output_type": "stream",
     "text": [
      "No handles with labels found to put in legend.\n"
     ]
    },
    {
     "name": "stdout",
     "output_type": "stream",
     "text": [
      "name = Poireau\n",
      "pos_x = 0.500000\n",
      "pos_y = 2.000000\n",
      "dim_x = 0.200000\n",
      "dim_y = 2.000000\n",
      "name = Asperge\n",
      "pos_x = 0.000000\n",
      "pos_y = 0.000000\n",
      "dim_x = 0.500000\n",
      "dim_y = 0.800000\n",
      "name = Chou\n",
      "pos_x = 1.000000\n",
      "pos_y = 0.000000\n",
      "dim_x = 1.000000\n",
      "dim_y = 1.000000\n"
     ]
    },
    {
     "data": {
      "image/png": "[encoded data removed]",
      "text/plain": [
       "<Figure size 432x288 with 1 Axes>"
      ]
     },
     "metadata": {
      "needs_background": "light"
     },
     "output_type": "display_data"
    },
    {
     "name": "stderr",
     "output_type": "stream",
     "text": [
      "No handles with labels found to put in legend.\n"
     ]
    },
    {
     "name": "stdout",
     "output_type": "stream",
     "text": [
      "name = Poireau\n",
      "pos_x = 0.500000\n",
      "pos_y = 2.000000\n",
      "dim_x = 0.200000\n",
      "dim_y = 2.000000\n",
      "name = Asperge\n",
      "pos_x = 0.000000\n",
      "pos_y = 0.000000\n",
      "dim_x = 0.500000\n",
      "dim_y = 0.800000\n",
      "name = Chou\n",
      "pos_x = 0.900000\n",
      "pos_y = 0.000000\n",
      "dim_x = 1.000000\n",
      "dim_y = 1.000000\n"
     ]
    },
    {
     "data": {
      "image/png": "[encoded data removed]",
      "text/plain": [
       "<Figure size 432x288 with 1 Axes>"
      ]
     },
     "metadata": {
      "needs_background": "light"
     },
     "output_type": "display_data"
    },
    {
     "name": "stderr",
     "output_type": "stream",
     "text": [
      "No handles with labels found to put in legend.\n"
     ]
    },
    {
     "name": "stdout",
     "output_type": "stream",
     "text": [
      "name = Poireau\n",
      "pos_x = 0.500000\n",
      "pos_y = 1.900000\n",
      "dim_x = 0.200000\n",
      "dim_y = 2.000000\n",
      "name = Asperge\n",
      "pos_x = 0.000000\n",
      "pos_y = 0.000000\n",
      "dim_x = 0.500000\n",
      "dim_y = 0.800000\n",
      "name = Chou\n",
      "pos_x = 0.900000\n",
      "pos_y = 0.000000\n",
      "dim_x = 1.000000\n",
      "dim_y = 1.000000\n"
     ]
    },
    {
     "data": {
      "image/png": "[encoded data removed]",
      "text/plain": [
       "<Figure size 432x288 with 1 Axes>"
      ]
     },
     "metadata": {
      "needs_background": "light"
     },
     "output_type": "display_data"
    },
    {
     "name": "stderr",
     "output_type": "stream",
     "text": [
      "No handles with labels found to put in legend.\n"
     ]
    },
    {
     "name": "stdout",
     "output_type": "stream",
     "text": [
      "name = Poireau\n",
      "pos_x = 0.500000\n",
      "pos_y = 1.900000\n",
      "dim_x = 0.200000\n",
      "dim_y = 2.000000\n",
      "name = Asperge\n",
      "pos_x = 0.000000\n",
      "pos_y = 0.100000\n",
      "dim_x = 0.500000\n",
      "dim_y = 0.800000\n",
      "name = Chou\n",
      "pos_x = 0.900000\n",
      "pos_y = 0.000000\n",
      "dim_x = 1.000000\n",
      "dim_y = 1.000000\n"
     ]
    },
    {
     "data": {
      "image/png": "[encoded data removed]",
      "text/plain": [
       "<Figure size 432x288 with 1 Axes>"
      ]
     },
     "metadata": {
      "needs_background": "light"
     },
     "output_type": "display_data"
    },
    {
     "name": "stderr",
     "output_type": "stream",
     "text": [
      "No handles with labels found to put in legend.\n"
     ]
    },
    {
     "name": "stdout",
     "output_type": "stream",
     "text": [
      "name = Poireau\n",
      "pos_x = 0.500000\n",
      "pos_y = 1.900000\n",
      "dim_x = 0.200000\n",
      "dim_y = 2.000000\n",
      "name = Asperge\n",
      "pos_x = 0.000000\n",
      "pos_y = 0.200000\n",
      "dim_x = 0.500000\n",
      "dim_y = 0.800000\n",
      "name = Chou\n",
      "pos_x = 0.900000\n",
      "pos_y = 0.000000\n",
      "dim_x = 1.000000\n",
      "dim_y = 1.000000\n"
     ]
    },
    {
     "data": {
      "image/png": "[encoded data removed]",
      "text/plain": [
       "<Figure size 432x288 with 1 Axes>"
      ]
     },
     "metadata": {
      "needs_background": "light"
     },
     "output_type": "display_data"
    },
    {
     "name": "stderr",
     "output_type": "stream",
     "text": [
      "No handles with labels found to put in legend.\n"
     ]
    },
    {
     "name": "stdout",
     "output_type": "stream",
     "text": [
      "name = Poireau\n",
      "pos_x = 0.500000\n",
      "pos_y = 1.900000\n",
      "dim_x = 0.200000\n",
      "dim_y = 2.000000\n",
      "name = Asperge\n",
      "pos_x = 0.000000\n",
      "pos_y = 0.300000\n",
      "dim_x = 0.500000\n",
      "dim_y = 0.800000\n",
      "name = Chou\n",
      "pos_x = 0.900000\n",
      "pos_y = 0.000000\n",
      "dim_x = 1.000000\n",
      "dim_y = 1.000000\n"
     ]
    },
    {
     "data": {
      "image/png": "[encoded data removed]",
      "text/plain": [
       "<Figure size 432x288 with 1 Axes>"
      ]
     },
     "metadata": {
      "needs_background": "light"
     },
     "output_type": "display_data"
    },
    {
     "name": "stderr",
     "output_type": "stream",
     "text": [
      "No handles with labels found to put in legend.\n"
     ]
    },
    {
     "name": "stdout",
     "output_type": "stream",
     "text": [
      "name = Poireau\n",
      "pos_x = 0.500000\n",
      "pos_y = 1.900000\n",
      "dim_x = 0.200000\n",
      "dim_y = 2.000000\n",
      "name = Asperge\n",
      "pos_x = 0.000000\n",
      "pos_y = 0.400000\n",
      "dim_x = 0.500000\n",
      "dim_y = 0.800000\n",
      "name = Chou\n",
      "pos_x = 0.900000\n",
      "pos_y = 0.000000\n",
      "dim_x = 1.000000\n",
      "dim_y = 1.000000\n"
     ]
    },
    {
     "data": {
      "image/png": "[encoded data removed]",
      "text/plain": [
       "<Figure size 432x288 with 1 Axes>"
      ]
     },
     "metadata": {
      "needs_background": "light"
     },
     "output_type": "display_data"
    },
    {
     "name": "stderr",
     "output_type": "stream",
     "text": [
      "No handles with labels found to put in legend.\n"
     ]
    },
    {
     "name": "stdout",
     "output_type": "stream",
     "text": [
      "name = Poireau\n",
      "pos_x = 0.500000\n",
      "pos_y = 1.900000\n",
      "dim_x = 0.200000\n",
      "dim_y = 2.000000\n",
      "name = Asperge\n",
      "pos_x = 0.000000\n",
      "pos_y = 0.500000\n",
      "dim_x = 0.500000\n",
      "dim_y = 0.800000\n",
      "name = Chou\n",
      "pos_x = 0.900000\n",
      "pos_y = 0.000000\n",
      "dim_x = 1.000000\n",
      "dim_y = 1.000000\n"
     ]
    },
    {
     "data": {
      "image/png": "[encoded data removed]",
      "text/plain": [
       "<Figure size 432x288 with 1 Axes>"
      ]
     },
     "metadata": {
      "needs_background": "light"
     },
     "output_type": "display_data"
    },
    {
     "name": "stderr",
     "output_type": "stream",
     "text": [
      "No handles with labels found to put in legend.\n"
     ]
    },
    {
     "name": "stdout",
     "output_type": "stream",
     "text": [
      "name = Poireau\n",
      "pos_x = 0.500000\n",
      "pos_y = 1.900000\n",
      "dim_x = 0.200000\n",
      "dim_y = 2.000000\n",
      "name = Asperge\n",
      "pos_x = 0.000000\n",
      "pos_y = 0.600000\n",
      "dim_x = 0.500000\n",
      "dim_y = 0.800000\n",
      "name = Chou\n",
      "pos_x = 0.900000\n",
      "pos_y = 0.000000\n",
      "dim_x = 1.000000\n",
      "dim_y = 1.000000\n"
     ]
    },
    {
     "data": {
      "image/png": "[encoded data removed]",
      "text/plain": [
       "<Figure size 432x288 with 1 Axes>"
      ]
     },
     "metadata": {
      "needs_background": "light"
     },
     "output_type": "display_data"
    },
    {
     "name": "stderr",
     "output_type": "stream",
     "text": [
      "No handles with labels found to put in legend.\n"
     ]
    },
    {
     "name": "stdout",
     "output_type": "stream",
     "text": [
      "name = Poireau\n",
      "pos_x = 0.500000\n",
      "pos_y = 1.900000\n",
      "dim_x = 0.200000\n",
      "dim_y = 2.000000\n",
      "name = Asperge\n",
      "pos_x = 0.000000\n",
      "pos_y = 0.700000\n",
      "dim_x = 0.500000\n",
      "dim_y = 0.800000\n",
      "name = Chou\n",
      "pos_x = 0.900000\n",
      "pos_y = 0.000000\n",
      "dim_x = 1.000000\n",
      "dim_y = 1.000000\n"
     ]
    },
    {
     "data": {
      "image/png": "[encoded data removed]",
      "text/plain": [
       "<Figure size 432x288 with 1 Axes>"
      ]
     },
     "metadata": {
      "needs_background": "light"
     },
     "output_type": "display_data"
    },
    {
     "name": "stderr",
     "output_type": "stream",
     "text": [
      "No handles with labels found to put in legend.\n"
     ]
    },
    {
     "name": "stdout",
     "output_type": "stream",
     "text": [
      "name = Poireau\n",
      "pos_x = 0.500000\n",
      "pos_y = 1.900000\n",
      "dim_x = 0.200000\n",
      "dim_y = 2.000000\n",
      "name = Asperge\n",
      "pos_x = 0.000000\n",
      "pos_y = 0.800000\n",
      "dim_x = 0.500000\n",
      "dim_y = 0.800000\n",
      "name = Chou\n",
      "pos_x = 0.900000\n",
      "pos_y = 0.000000\n",
      "dim_x = 1.000000\n",
      "dim_y = 1.000000\n"
     ]
    },
    {
     "data": {
      "image/png": "[encoded data removed]",
      "text/plain": [
       "<Figure size 432x288 with 1 Axes>"
      ]
     },
     "metadata": {
      "needs_background": "light"
     },
     "output_type": "display_data"
    },
    {
     "name": "stderr",
     "output_type": "stream",
     "text": [
      "No handles with labels found to put in legend.\n"
     ]
    },
    {
     "name": "stdout",
     "output_type": "stream",
     "text": [
      "name = Poireau\n",
      "pos_x = 0.500000\n",
      "pos_y = 1.900000\n",
      "dim_x = 0.200000\n",
      "dim_y = 2.000000\n",
      "name = Asperge\n",
      "pos_x = 0.000000\n",
      "pos_y = 0.900000\n",
      "dim_x = 0.500000\n",
      "dim_y = 0.800000\n",
      "name = Chou\n",
      "pos_x = 0.900000\n",
      "pos_y = 0.000000\n",
      "dim_x = 1.000000\n",
      "dim_y = 1.000000\n"
     ]
    },
    {
     "data": {
      "image/png": "[encoded data removed]",
      "text/plain": [
       "<Figure size 432x288 with 1 Axes>"
      ]
     },
     "metadata": {
      "needs_background": "light"
     },
     "output_type": "display_data"
    },
    {
     "name": "stderr",
     "output_type": "stream",
     "text": [
      "No handles with labels found to put in legend.\n"
     ]
    },
    {
     "name": "stdout",
     "output_type": "stream",
     "text": [
      "name = Poireau\n",
      "pos_x = 0.500000\n",
      "pos_y = 1.900000\n",
      "dim_x = 0.200000\n",
      "dim_y = 2.000000\n",
      "name = Asperge\n",
      "pos_x = 0.000000\n",
      "pos_y = 1.000000\n",
      "dim_x = 0.500000\n",
      "dim_y = 0.800000\n",
      "name = Chou\n",
      "pos_x = 0.900000\n",
      "pos_y = 0.000000\n",
      "dim_x = 1.000000\n",
      "dim_y = 1.000000\n"
     ]
    },
    {
     "data": {
      "image/png": "[encoded data removed]",
      "text/plain": [
       "<Figure size 432x288 with 1 Axes>"
      ]
     },
     "metadata": {
      "needs_background": "light"
     },
     "output_type": "display_data"
    },
    {
     "name": "stderr",
     "output_type": "stream",
     "text": [
      "No handles with labels found to put in legend.\n"
     ]
    },
    {
     "name": "stdout",
     "output_type": "stream",
     "text": [
      "name = Poireau\n",
      "pos_x = 0.500000\n",
      "pos_y = 1.900000\n",
      "dim_x = 0.200000\n",
      "dim_y = 2.000000\n",
      "name = Asperge\n",
      "pos_x = 0.000000\n",
      "pos_y = 1.100000\n",
      "dim_x = 0.500000\n",
      "dim_y = 0.800000\n",
      "name = Chou\n",
      "pos_x = 0.900000\n",
      "pos_y = 0.000000\n",
      "dim_x = 1.000000\n",
      "dim_y = 1.000000\n"
     ]
    },
    {
     "data": {
      "image/png": "[encoded data removed]",
      "text/plain": [
       "<Figure size 432x288 with 1 Axes>"
      ]
     },
     "metadata": {
      "needs_background": "light"
     },
     "output_type": "display_data"
    },
    {
     "name": "stderr",
     "output_type": "stream",
     "text": [
      "No handles with labels found to put in legend.\n"
     ]
    },
    {
     "name": "stdout",
     "output_type": "stream",
     "text": [
      "name = Poireau\n",
      "pos_x = 0.600000\n",
      "pos_y = 1.900000\n",
      "dim_x = 0.200000\n",
      "dim_y = 2.000000\n",
      "name = Asperge\n",
      "pos_x = 0.000000\n",
      "pos_y = 1.100000\n",
      "dim_x = 0.500000\n",
      "dim_y = 0.800000\n",
      "name = Chou\n",
      "pos_x = 0.900000\n",
      "pos_y = 0.000000\n",
      "dim_x = 1.000000\n",
      "dim_y = 1.000000\n"
     ]
    },
    {
     "data": {
      "image/png": "[encoded data removed]",
      "text/plain": [
       "<Figure size 432x288 with 1 Axes>"
      ]
     },
     "metadata": {
      "needs_background": "light"
     },
     "output_type": "display_data"
    },
    {
     "name": "stderr",
     "output_type": "stream",
     "text": [
      "No handles with labels found to put in legend.\n"
     ]
    },
    {
     "name": "stdout",
     "output_type": "stream",
     "text": [
      "name = Poireau\n",
      "pos_x = 0.700000\n",
      "pos_y = 1.900000\n",
      "dim_x = 0.200000\n",
      "dim_y = 2.000000\n",
      "name = Asperge\n",
      "pos_x = 0.000000\n",
      "pos_y = 1.100000\n",
      "dim_x = 0.500000\n",
      "dim_y = 0.800000\n",
      "name = Chou\n",
      "pos_x = 0.900000\n",
      "pos_y = 0.000000\n",
      "dim_x = 1.000000\n",
      "dim_y = 1.000000\n"
     ]
    },
    {
     "data": {
      "image/png": "[encoded data removed]",
      "text/plain": [
       "<Figure size 432x288 with 1 Axes>"
      ]
     },
     "metadata": {
      "needs_background": "light"
     },
     "output_type": "display_data"
    },
    {
     "name": "stderr",
     "output_type": "stream",
     "text": [
      "No handles with labels found to put in legend.\n"
     ]
    },
    {
     "name": "stdout",
     "output_type": "stream",
     "text": [
      "name = Poireau\n",
      "pos_x = 0.700000\n",
      "pos_y = 1.900000\n",
      "dim_x = 0.200000\n",
      "dim_y = 2.000000\n",
      "name = Asperge\n",
      "pos_x = 0.000000\n",
      "pos_y = 1.000000\n",
      "dim_x = 0.500000\n",
      "dim_y = 0.800000\n",
      "name = Chou\n",
      "pos_x = 0.900000\n",
      "pos_y = 0.000000\n",
      "dim_x = 1.000000\n",
      "dim_y = 1.000000\n"
     ]
    },
    {
     "data": {
      "image/png": "[encoded data removed]",
      "text/plain": [
       "<Figure size 432x288 with 1 Axes>"
      ]
     },
     "metadata": {
      "needs_background": "light"
     },
     "output_type": "display_data"
    },
    {
     "name": "stderr",
     "output_type": "stream",
     "text": [
      "No handles with labels found to put in legend.\n"
     ]
    },
    {
     "name": "stdout",
     "output_type": "stream",
     "text": [
      "name = Poireau\n",
      "pos_x = 0.700000\n",
      "pos_y = 1.900000\n",
      "dim_x = 0.200000\n",
      "dim_y = 2.000000\n",
      "name = Asperge\n",
      "pos_x = 0.000000\n",
      "pos_y = 0.900000\n",
      "dim_x = 0.500000\n",
      "dim_y = 0.800000\n",
      "name = Chou\n",
      "pos_x = 0.900000\n",
      "pos_y = 0.000000\n",
      "dim_x = 1.000000\n",
      "dim_y = 1.000000\n"
     ]
    },
    {
     "data": {
      "image/png": "[encoded data removed]",
      "text/plain": [
       "<Figure size 432x288 with 1 Axes>"
      ]
     },
     "metadata": {
      "needs_background": "light"
     },
     "output_type": "display_data"
    },
    {
     "name": "stderr",
     "output_type": "stream",
     "text": [
      "No handles with labels found to put in legend.\n"
     ]
    },
    {
     "name": "stdout",
     "output_type": "stream",
     "text": [
      "name = Poireau\n",
      "pos_x = 0.700000\n",
      "pos_y = 1.900000\n",
      "dim_x = 0.200000\n",
      "dim_y = 2.000000\n",
      "name = Asperge\n",
      "pos_x = 0.000000\n",
      "pos_y = 0.900000\n",
      "dim_x = 0.500000\n",
      "dim_y = 0.800000\n",
      "name = Chou\n",
      "pos_x = 0.900000\n",
      "pos_y = 0.100000\n",
      "dim_x = 1.000000\n",
      "dim_y = 1.000000\n"
     ]
    },
    {
     "data": {
      "image/png": "[encoded data removed]",
      "text/plain": [
       "<Figure size 432x288 with 1 Axes>"
      ]
     },
     "metadata": {
      "needs_background": "light"
     },
     "output_type": "display_data"
    },
    {
     "name": "stderr",
     "output_type": "stream",
     "text": [
      "No handles with labels found to put in legend.\n"
     ]
    },
    {
     "name": "stdout",
     "output_type": "stream",
     "text": [
      "name = Poireau\n",
      "pos_x = 0.700000\n",
      "pos_y = 1.900000\n",
      "dim_x = 0.200000\n",
      "dim_y = 2.000000\n",
      "name = Asperge\n",
      "pos_x = 0.000000\n",
      "pos_y = 0.900000\n",
      "dim_x = 0.500000\n",
      "dim_y = 0.800000\n",
      "name = Chou\n",
      "pos_x = 0.900000\n",
      "pos_y = 0.200000\n",
      "dim_x = 1.000000\n",
      "dim_y = 1.000000\n"
     ]
    },
    {
     "data": {
      "image/png": "[encoded data removed]",
      "text/plain": [
       "<Figure size 432x288 with 1 Axes>"
      ]
     },
     "metadata": {
      "needs_background": "light"
     },
     "output_type": "display_data"
    },
    {
     "name": "stderr",
     "output_type": "stream",
     "text": [
      "No handles with labels found to put in legend.\n"
     ]
    },
    {
     "name": "stdout",
     "output_type": "stream",
     "text": [
      "name = Poireau\n",
      "pos_x = 0.700000\n",
      "pos_y = 1.900000\n",
      "dim_x = 0.200000\n",
      "dim_y = 2.000000\n",
      "name = Asperge\n",
      "pos_x = 0.000000\n",
      "pos_y = 0.900000\n",
      "dim_x = 0.500000\n",
      "dim_y = 0.800000\n",
      "name = Chou\n",
      "pos_x = 0.900000\n",
      "pos_y = 0.300000\n",
      "dim_x = 1.000000\n",
      "dim_y = 1.000000\n"
     ]
    },
    {
     "data": {
      "image/png": "[encoded data removed]",
      "text/plain": [
       "<Figure size 432x288 with 1 Axes>"
      ]
     },
     "metadata": {
      "needs_background": "light"
     },
     "output_type": "display_data"
    },
    {
     "name": "stderr",
     "output_type": "stream",
     "text": [
      "No handles with labels found to put in legend.\n"
     ]
    },
    {
     "name": "stdout",
     "output_type": "stream",
     "text": [
      "name = Poireau\n",
      "pos_x = 0.700000\n",
      "pos_y = 1.900000\n",
      "dim_x = 0.200000\n",
      "dim_y = 2.000000\n",
      "name = Asperge\n",
      "pos_x = 0.000000\n",
      "pos_y = 0.900000\n",
      "dim_x = 0.500000\n",
      "dim_y = 0.800000\n",
      "name = Chou\n",
      "pos_x = 0.900000\n",
      "pos_y = 0.400000\n",
      "dim_x = 1.000000\n",
      "dim_y = 1.000000\n"
     ]
    },
    {
     "data": {
      "image/png": "[encoded data removed]",
      "text/plain": [
       "<Figure size 432x288 with 1 Axes>"
      ]
     },
     "metadata": {
      "needs_background": "light"
     },
     "output_type": "display_data"
    },
    {
     "name": "stderr",
     "output_type": "stream",
     "text": [
      "No handles with labels found to put in legend.\n"
     ]
    },
    {
     "name": "stdout",
     "output_type": "stream",
     "text": [
      "name = Poireau\n",
      "pos_x = 0.700000\n",
      "pos_y = 1.900000\n",
      "dim_x = 0.200000\n",
      "dim_y = 2.000000\n",
      "name = Asperge\n",
      "pos_x = 0.000000\n",
      "pos_y = 0.900000\n",
      "dim_x = 0.500000\n",
      "dim_y = 0.800000\n",
      "name = Chou\n",
      "pos_x = 0.900000\n",
      "pos_y = 0.500000\n",
      "dim_x = 1.000000\n",
      "dim_y = 1.000000\n"
     ]
    },
    {
     "data": {
      "image/png": "[encoded data removed]",
      "text/plain": [
       "<Figure size 432x288 with 1 Axes>"
      ]
     },
     "metadata": {
      "needs_background": "light"
     },
     "output_type": "display_data"
    },
    {
     "name": "stderr",
     "output_type": "stream",
     "text": [
      "No handles with labels found to put in legend.\n"
     ]
    },
    {
     "name": "stdout",
     "output_type": "stream",
     "text": [
      "name = Poireau\n",
      "pos_x = 0.700000\n",
      "pos_y = 1.900000\n",
      "dim_x = 0.200000\n",
      "dim_y = 2.000000\n",
      "name = Asperge\n",
      "pos_x = 0.000000\n",
      "pos_y = 0.900000\n",
      "dim_x = 0.500000\n",
      "dim_y = 0.800000\n",
      "name = Chou\n",
      "pos_x = 0.900000\n",
      "pos_y = 0.600000\n",
      "dim_x = 1.000000\n",
      "dim_y = 1.000000\n"
     ]
    },
    {
     "data": {
      "image/png": "[encoded data removed]",
      "text/plain": [
       "<Figure size 432x288 with 1 Axes>"
      ]
     },
     "metadata": {
      "needs_background": "light"
     },
     "output_type": "display_data"
    },
    {
     "name": "stderr",
     "output_type": "stream",
     "text": [
      "No handles with labels found to put in legend.\n"
     ]
    },
    {
     "name": "stdout",
     "output_type": "stream",
     "text": [
      "name = Poireau\n",
      "pos_x = 0.700000\n",
      "pos_y = 1.900000\n",
      "dim_x = 0.200000\n",
      "dim_y = 2.000000\n",
      "name = Asperge\n",
      "pos_x = 0.000000\n",
      "pos_y = 0.900000\n",
      "dim_x = 0.500000\n",
      "dim_y = 0.800000\n",
      "name = Chou\n",
      "pos_x = 0.900000\n",
      "pos_y = 0.700000\n",
      "dim_x = 1.000000\n",
      "dim_y = 1.000000\n"
     ]
    },
    {
     "data": {
      "image/png": "[encoded data removed]",
      "text/plain": [
       "<Figure size 432x288 with 1 Axes>"
      ]
     },
     "metadata": {
      "needs_background": "light"
     },
     "output_type": "display_data"
    },
    {
     "name": "stderr",
     "output_type": "stream",
     "text": [
      "No handles with labels found to put in legend.\n"
     ]
    },
    {
     "name": "stdout",
     "output_type": "stream",
     "text": [
      "name = Poireau\n",
      "pos_x = 0.700000\n",
      "pos_y = 1.900000\n",
      "dim_x = 0.200000\n",
      "dim_y = 2.000000\n",
      "name = Asperge\n",
      "pos_x = 0.000000\n",
      "pos_y = 0.900000\n",
      "dim_x = 0.500000\n",
      "dim_y = 0.800000\n",
      "name = Chou\n",
      "pos_x = 0.900000\n",
      "pos_y = 0.800000\n",
      "dim_x = 1.000000\n",
      "dim_y = 1.000000\n"
     ]
    },
    {
     "data": {
      "image/png": "[encoded data removed]",
      "text/plain": [
       "<Figure size 432x288 with 1 Axes>"
      ]
     },
     "metadata": {
      "needs_background": "light"
     },
     "output_type": "display_data"
    },
    {
     "name": "stderr",
     "output_type": "stream",
     "text": [
      "No handles with labels found to put in legend.\n"
     ]
    },
    {
     "name": "stdout",
     "output_type": "stream",
     "text": [
      "name = Poireau\n",
      "pos_x = 0.700000\n",
      "pos_y = 1.900000\n",
      "dim_x = 0.200000\n",
      "dim_y = 2.000000\n",
      "name = Asperge\n",
      "pos_x = 0.000000\n",
      "pos_y = 0.900000\n",
      "dim_x = 0.500000\n",
      "dim_y = 0.800000\n",
      "name = Chou\n",
      "pos_x = 0.900000\n",
      "pos_y = 0.900000\n",
      "dim_x = 1.000000\n",
      "dim_y = 1.000000\n"
     ]
    },
    {
     "data": {
      "image/png": "[encoded data removed]",
      "text/plain": [
       "<Figure size 432x288 with 1 Axes>"
      ]
     },
     "metadata": {
      "needs_background": "light"
     },
     "output_type": "display_data"
    },
    {
     "name": "stderr",
     "output_type": "stream",
     "text": [
      "No handles with labels found to put in legend.\n"
     ]
    },
    {
     "name": "stdout",
     "output_type": "stream",
     "text": [
      "name = Poireau\n",
      "pos_x = 0.700000\n",
      "pos_y = 1.900000\n",
      "dim_x = 0.200000\n",
      "dim_y = 2.000000\n",
      "name = Asperge\n",
      "pos_x = 0.000000\n",
      "pos_y = 0.800000\n",
      "dim_x = 0.500000\n",
      "dim_y = 0.800000\n",
      "name = Chou\n",
      "pos_x = 0.900000\n",
      "pos_y = 0.900000\n",
      "dim_x = 1.000000\n",
      "dim_y = 1.000000\n"
     ]
    },
    {
     "data": {
      "image/png": "[encoded data removed]",
      "text/plain": [
       "<Figure size 432x288 with 1 Axes>"
      ]
     },
     "metadata": {
      "needs_background": "light"
     },
     "output_type": "display_data"
    },
    {
     "name": "stderr",
     "output_type": "stream",
     "text": [
      "No handles with labels found to put in legend.\n"
     ]
    },
    {
     "name": "stdout",
     "output_type": "stream",
     "text": [
      "name = Poireau\n",
      "pos_x = 0.700000\n",
      "pos_y = 1.900000\n",
      "dim_x = 0.200000\n",
      "dim_y = 2.000000\n",
      "name = Asperge\n",
      "pos_x = 0.000000\n",
      "pos_y = 0.800000\n",
      "dim_x = 0.500000\n",
      "dim_y = 0.800000\n",
      "name = Chou\n",
      "pos_x = 0.900000\n",
      "pos_y = 0.800000\n",
      "dim_x = 1.000000\n",
      "dim_y = 1.000000\n"
     ]
    },
    {
     "data": {
      "image/png": "[encoded data removed]",
      "text/plain": [
       "<Figure size 432x288 with 1 Axes>"
      ]
     },
     "metadata": {
      "needs_background": "light"
     },
     "output_type": "display_data"
    },
    {
     "name": "stdout",
     "output_type": "stream",
     "text": [
      "Status = FEASIBLE\n",
      "Number of solutions found: 52\n",
      "Statistics\n",
      "  - conflicts       : 0\n",
      "  - branches        : 502\n",
      "  - wall time       : 6.368279 s\n"
     ]
    }
   ],
   "source": [
    "problem_resolution()"
   ]
  },
  {
   "cell_type": "code",
   "execution_count": null,
   "metadata": {},
   "outputs": [],
   "source": []
  }
 ],
 "metadata": {
  "kernelspec": {
   "display_name": "Python 3",
   "language": "python",
   "name": "python3"
  },
  "language_info": {
   "codemirror_mode": {
    "name": "ipython",
    "version": 3
   },
   "file_extension": ".py",
   "mimetype": "text/x-python",
   "name": "python",
   "nbconvert_exporter": "python",
   "pygments_lexer": "ipython3",
   "version": "3.7.2"
  }
 },
 "nbformat": 4,
 "nbformat_minor": 2
}
