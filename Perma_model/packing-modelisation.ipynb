{
 "cells": [
  {
   "cell_type": "markdown",
   "metadata": {},
   "source": [
    "On imagine ici un terrain "
   ]
  },
  {
   "cell_type": "code",
   "execution_count": 547,
   "metadata": {},
   "outputs": [],
   "source": [
    "from __future__ import absolute_import\n",
    "from __future__ import division\n",
    "from __future__ import print_function\n",
    "import json\n",
    "\n",
    "import random\n",
    "\n",
    "from ortools.sat.python import cp_model\n",
    "import sys\n",
    "import os\n",
    "import matplotlib\n",
    "import matplotlib.pyplot as plt\n",
    "\n",
    "import itertools\n",
    "\n",
    "import uuid\n",
    "import math\n",
    "import json\n",
    "import copy\n",
    "\n",
    "from enum import Enum, unique\n",
    "from random import randint"
   ]
  },
  {
   "cell_type": "code",
   "execution_count": 548,
   "metadata": {},
   "outputs": [
    {
     "data": {
      "text/plain": [
       "\"\\n#latitude, longitude\\nposition = [45.820874, 5.404932]\\n\\n#api key from https://solcast.com.au/solar-data-api/api/\\napi_key='yij5KTCUiTvBRHWsf89uNCXYG3QSpOGl'\\n    \\nr = requests.get('https://api.solcast.com.au/radiation/forecasts?latitude='+str(position[0])+'&longitude='+str(position[1])+'&api_key='+str(api_key)+'&format=json').text\\ndata = json.loads(r)\\n\\nprint(json.dumps(data, indent=4))\\n\""
      ]
     },
     "execution_count": 548,
     "metadata": {},
     "output_type": "execute_result"
    }
   ],
   "source": [
    "\"\"\"\n",
    "#latitude, longitude\n",
    "position = [45.820874, 5.404932]\n",
    "\n",
    "#api key from https://solcast.com.au/solar-data-api/api/\n",
    "api_key='yij5KTCUiTvBRHWsf89uNCXYG3QSpOGl'\n",
    "    \n",
    "r = requests.get('https://api.solcast.com.au/radiation/forecasts?latitude='+str(position[0])+'&longitude='+str(position[1])+'&api_key='+str(api_key)+'&format=json').text\n",
    "data = json.loads(r)\n",
    "\n",
    "print(json.dumps(data, indent=4))\n",
    "\"\"\""
   ]
  },
  {
   "cell_type": "markdown",
   "metadata": {},
   "source": [
    "## Utils functions"
   ]
  },
  {
   "cell_type": "code",
   "execution_count": 549,
   "metadata": {
    "collapsed": true
   },
   "outputs": [],
   "source": [
    "def getFarValues(data, val, rg):\n",
    "    \"\"\"Retrieve the farthest values from a value and a max distance\n",
    "    Args:\n",
    "        data (list): list containing objects\n",
    "        val (int): reference point\n",
    "        rg (int): distance between reference point and all list's values\n",
    "    Returns:\n",
    "        list containing elements with ditance > rg\n",
    "    \"\"\"\n",
    "    l = []\n",
    "    for e in data:\n",
    "        if abs(e.sunExposureTime - val) > rg:\n",
    "            l.append(e)\n",
    "    return l"
   ]
  },
  {
   "cell_type": "markdown",
   "metadata": {},
   "source": [
    "## Utils elements\n",
    "\n",
    "```\n",
    "@unique\n",
    "class SoilType(Enum):\n",
    "    \"\"\"Enum to represent most known soil type\"\"\"\n",
    "    Azote = 1\n",
    "    Humifere = 2\n",
    "    ArgileuxLimoneux = 3\n",
    "    Pauvre = 4\n",
    "    Compact = 5\n",
    "    Calcaire = 6 \n",
    "```"
   ]
  },
  {
   "cell_type": "code",
   "execution_count": 550,
   "metadata": {
    "collapsed": true
   },
   "outputs": [],
   "source": [
    "class Box():\n",
    "    \n",
    "    def __init__(self, name, pos_x, pos_y, dim_x, dim_y, color):\n",
    "        self.__name = name\n",
    "        self.__pos_x = int(pos_x * 10)\n",
    "        self.__pos_y = int(pos_y * 10)\n",
    "        self.__dim_x = int(dim_x * 10)\n",
    "        self.__dim_y = int(dim_y * 10)\n",
    "        self.__color = str(color)\n",
    "    \n",
    "    @property\n",
    "    def name(self):\n",
    "        return self.__name\n",
    "    \n",
    "    @property\n",
    "    def pos_x(self):\n",
    "        return self.__pos_x\n",
    "    \n",
    "    @property\n",
    "    def color(self):\n",
    "        return self.__color\n",
    "    \n",
    "    @property\n",
    "    def pos_y(self):\n",
    "        return self.__pos_y\n",
    "    \n",
    "    @property\n",
    "    def dim_x(self):\n",
    "        return self.__dim_x\n",
    "    \n",
    "    @property\n",
    "    def dim_y(self):\n",
    "        return self.__dim_y\n",
    "    \n",
    "    @name.setter\n",
    "    def name(self, value):\n",
    "        self.__name = value\n",
    "    \n",
    "    @pos_x.setter\n",
    "    def pos_x(self, value):\n",
    "        self.__pos_x = value\n",
    "    \n",
    "    @pos_y.setter\n",
    "    def pos_y(self, value):\n",
    "        self.__pos_y = value\n",
    "        \n",
    "    @dim_x.setter\n",
    "    def dim_x(self, value):\n",
    "        self.__dim_x = value\n",
    "        \n",
    "    @dim_y.setter\n",
    "    def dim_y(self, value):\n",
    "        self.__dim_y = value\n",
    "        \n",
    "    @color.setter\n",
    "    def color(self, color):\n",
    "        self.__color = color\n",
    "        \n",
    "    def __str__(self):\n",
    "        return 'name: {} \\n pos_x: {} \\n pos_y: {}'.format(self.name, self.pos_x, self.pos_y)\n",
    "        \n",
    "class BoxFixed(Box): \n",
    "    def __init__(self, name, pos_x, pos_y, dim_x, dim_y, color):\n",
    "        super().__init__(name, pos_x, pos_y, dim_x, dim_y, color)\n",
    "\n",
    "class BoxMovable(Box):\n",
    "    def __init__(self, name, pos_x, pos_y, dim_x, dim_y, color):\n",
    "        super().__init__(name, pos_x, pos_y, dim_x, dim_y, color)"
   ]
  },
  {
   "cell_type": "code",
   "execution_count": 551,
   "metadata": {
    "collapsed": true
   },
   "outputs": [],
   "source": [
    "class Plant(BoxMovable):\n",
    "    \"\"\"Set plant square in modelisation\"\"\"\n",
    "    def __init__(self, name, pos_x, pos_y, dim_x, dim_y, color, sunExposureTime, soilTypeAvoided):\n",
    "        super().__init__(name, pos_x, pos_y, dim_x, dim_y, color)\n",
    "        self.__sunExposureTime = sunExposureTime\n",
    "        self.__soilTypeAvoided = soilTypeAvoided\n",
    "    @property\n",
    "    def sunExposureTime(self):\n",
    "        return self.__sunExposureTime\n",
    "    \n",
    "    @property\n",
    "    def soilTypeAvoided(self):\n",
    "        return self.__soilTypeAvoided\n",
    "          \n",
    "    @sunExposureTime.setter\n",
    "    def sunExposureTime(self, sunExposureTime):\n",
    "        self.__sunExposureTime = sunExposureTime\n",
    "        \n",
    "    @soilTypeAvoided.setter\n",
    "    def soilTypeAvoided(self, soilTypeAvoided):\n",
    "        self.__soilTypeAvoided = soilTypeAvoided\n",
    "        \n",
    "class Sun(BoxFixed):\n",
    "    \"\"\"Set luminosity square in modelisation\"\"\"\n",
    "    def __init__(self, name, pos_x, pos_y, dim_x, dim_y, color, sunExposureTime):\n",
    "        super().__init__(name, pos_x, pos_y, dim_x, dim_y, color)\n",
    "        self.__sunExposureTime = sunExposureTime\n",
    "    \n",
    "    @property\n",
    "    def sunExposureTime(self):\n",
    "        return self.__sunExposureTime\n",
    "    \n",
    "    @sunExposureTime.setter\n",
    "    def sunExposureTime(self, sunExposureTime):\n",
    "        self.__sunExposureTime = sunExposureTime\n",
    "        \n",
    "class Soil(BoxFixed):\n",
    "    \"\"\"Set soil square in modelisation\"\"\"\n",
    "    def __init__(self, name, pos_x, pos_y, dim_x, dim_y, color, soilType):\n",
    "        super().__init__(name, pos_x, pos_y, dim_x, dim_y, color)\n",
    "        self.__soilType = soilType\n",
    "    \n",
    "    @property\n",
    "    def soilType(self):\n",
    "        return self.__soilType\n",
    "    \n",
    "    @soilType.setter\n",
    "    def soilType(self, soilType):\n",
    "        self.__soilType = soilType\n"
   ]
  },
  {
   "cell_type": "code",
   "execution_count": 552,
   "metadata": {
    "collapsed": true
   },
   "outputs": [],
   "source": [
    "class VarArraySolutionPrinter(cp_model.CpSolverSolutionCallback):\n",
    "    \"\"\"Print intermediate solutions.\"\"\"\n",
    "\n",
    "    def __init__(self, variable_list, limit):\n",
    "        cp_model.CpSolverSolutionCallback.__init__(self)\n",
    "        self.__variable_list = variable_list\n",
    "        self.__solution_count = 0\n",
    "        self.__solution_limit = limit\n",
    "\n",
    "    def on_solution_callback(self):\n",
    "        self.__solution_count += 1\n",
    "        fig = plt.figure()\n",
    "        ax = fig.add_subplot(111)\n",
    "        legend_list = []\n",
    "        \n",
    "        for shape in self.__variable_list:\n",
    "            # Test obligatoire car si valeur fixe le modèle plante\n",
    "            pos_x = self.Value(shape[0]) / 10.0 \n",
    "            pos_y = self.Value(shape[1]) / 10.0 \n",
    "            dim_x = self.Value(shape[2]) / 10.0 \n",
    "            dim_y = self.Value(shape[3]) / 10.0\n",
    "            color = shape[4]\n",
    "            name = shape[5]\n",
    "            \n",
    "            print(\"\")\n",
    "            \n",
    "            if name != \"light_sunlight\" and name != \"full_sunlight\" and name != 'Humifere' and name != \"ArgileuxLimoneux\" and name != \"Calcaire\":\n",
    "                print('name = %s' % name)\n",
    "                print('pos_x = %f' % pos_x)\n",
    "                print('pos_y = %f' % pos_y)\n",
    "                print('dim_x = %f' % dim_x)\n",
    "                print('dim_y = %f' % dim_y)\n",
    "            \n",
    "            alpha = 0.4\n",
    "            if name == \"s\":\n",
    "                alpha = 0.2\n",
    "                \n",
    "            rect = matplotlib.patches.Rectangle((pos_x, pos_y),\n",
    "                                                dim_x, dim_y , color=color, alpha=alpha)\n",
    "            \n",
    "            ax.add_patch(rect)\n",
    "            # TODO Clean or delete\n",
    "            #ax.xaxis.set_ticks(range(TAILLE_W))\n",
    "            #ax.yaxis.set_ticks(range(TAILLE_H))\n",
    "            # Display in graph\n",
    "            if name != \"light_sunlight\" and name != \"full_sunlight\" and name != 'Humifere' and name != \"ArgileuxLimoneux\" and name != \"Calcaire\":\n",
    "                ax.text(pos_x + (dim_x / 2) , pos_y + (dim_y / 2) , name, fontsize=8, horizontalalignment='center',\n",
    "                    verticalalignment='center')\n",
    "            # Display in right legend\n",
    "            else:\n",
    "                if len(legend_list) == 0:\n",
    "                    ax.scatter(pos_x, pos_y, c=color, s=None, label=name, alpha=alpha, edgecolors='none')\n",
    "                    legend_list.append(name)\n",
    "                else:\n",
    "                    if name not in legend_list:\n",
    "                        ax.scatter(pos_x, pos_y, c=color, s=None, label=name, alpha=alpha, edgecolors='none')\n",
    "                        legend_list.append(name)\n",
    "                        \n",
    "        ax.legend(loc=9, bbox_to_anchor=(0.5, -0.1))\n",
    "        plt.xlim([0, TAILLE_W])\n",
    "        plt.ylim([0, TAILLE_H])\n",
    "        plt.gca().set_aspect('equal', adjustable='box')   \n",
    "        plt.show()\n",
    "        \n",
    "        if self.__solution_count >= self.__solution_limit:\n",
    "            print('Stop search after %i solutions' % self.__solution_limit)\n",
    "            self.StopSearch()\n",
    "        \n",
    "    def solution_count(self):\n",
    "        return self.__solution_count"
   ]
  },
  {
   "cell_type": "code",
   "execution_count": 553,
   "metadata": {
    "collapsed": true
   },
   "outputs": [],
   "source": [
    "def displayJSON(file):\n",
    "    print(json.dumps(file, indent=4))\n",
    "\n",
    "\n",
    "class plantBoxProblem():\n",
    "    def __init__(self, box):\n",
    "        # model initialisation\n",
    "        self.__model = cp_model.CpModel()\n",
    "        # solver creation\n",
    "        self.__solver = cp_model.CpSolver()\n",
    "        \n",
    "        # init main box\n",
    "        self.__box = box\n",
    "\n",
    "        # init list of plants\n",
    "        self.__elem_list = []\n",
    "        \n",
    "        #self.__json_file = path_json\n",
    "        \n",
    "    @property\n",
    "    def box(self):\n",
    "        return self.__box\n",
    "    \n",
    "    @property\n",
    "    def model(self):\n",
    "        return self.__model\n",
    "    \n",
    "    @property\n",
    "    def solver(self):\n",
    "        return self.__solver\n",
    "    \n",
    "    @property\n",
    "    def elem_list(self):\n",
    "        return self.__elem_list\n",
    "    \n",
    "    @property\n",
    "    def json_file(self):\n",
    "        return self.__json_file\n",
    "    \n",
    "    @box.setter\n",
    "    def box(self, value):\n",
    "        self.__box = value\n",
    "\n",
    "    @model.setter\n",
    "    def model(self, value):\n",
    "        self.__model = value\n",
    "    \n",
    "    @solver.setter\n",
    "    def solver(self, value):\n",
    "        self.__solver = value\n",
    "        \n",
    "    @elem_list.setter\n",
    "    def elem_list(self, value):\n",
    "        self.__elem_list = value\n",
    "              \n",
    "\n",
    "    def boxesDistance(self, b1, b2, min_dist = 0, max_dist = 0):\n",
    "        \n",
    "        b2_h_left_limit = self.__model.NewBoolVar(str(uuid.uuid4()))\n",
    "        b2_h_right_limit = self.__model.NewBoolVar(str(uuid.uuid4()))\n",
    "        h_perimeter_cond = self.__model.NewBoolVar(str(uuid.uuid4()))\n",
    "        b2_up_min_cst = self.__model.NewBoolVar(str(uuid.uuid4()))\n",
    "        b2_up_max_cst = self.__model.NewBoolVar(str(uuid.uuid4()))\n",
    "        b2_down_min_cst = self.__model.NewBoolVar(str(uuid.uuid4()))\n",
    "        b2_down_max_cst = self.__model.NewBoolVar(str(uuid.uuid4()))\n",
    "        b2_up_csts = self.__model.NewBoolVar(str(uuid.uuid4()))\n",
    "        b2_dw_csts = self.__model.NewBoolVar(str(uuid.uuid4()))\n",
    "        b2_v_down_limit = self.__model.NewBoolVar(str(uuid.uuid4()))\n",
    "        b2_v_up_limit = self.__model.NewBoolVar(str(uuid.uuid4()))\n",
    "        v_perimeter_cond = self.__model.NewBoolVar(str(uuid.uuid4()))\n",
    "        b2_left_min_cst = self.__model.NewBoolVar(str(uuid.uuid4()))\n",
    "        b2_left_max_cst = self.__model.NewBoolVar(str(uuid.uuid4()))\n",
    "        b2_right_min_cst = self.__model.NewBoolVar(str(uuid.uuid4()))\n",
    "        b2_right_max_cst = self.__model.NewBoolVar(str(uuid.uuid4()))\n",
    "        b2_left_csts = self.__model.NewBoolVar(str(uuid.uuid4()))\n",
    "        b2_right_csts = self.__model.NewBoolVar(str(uuid.uuid4()))\n",
    "        b2_up_dw_conclusion = self.__model.NewBoolVar(str(uuid.uuid4()))\n",
    "        b2_left_right_conclusion = self.__model.NewBoolVar(str(uuid.uuid4()))\n",
    "\n",
    "        # Horizontal constraints conditions\n",
    "        # Horizontal perimeter where a box can be\n",
    "        self.__model.Add(b2.pos_x >= b1.pos_x - int(max_dist * 10)).OnlyEnforceIf(b2_h_left_limit)\n",
    "        self.__model.Add(b2.pos_x <= b1.pos_x + b1.dim_x + int(max_dist * 10)).OnlyEnforceIf(b2_h_right_limit)\n",
    "        \n",
    "        # channeling both conditions part\n",
    "        self.__model.AddBoolAnd([b2_h_left_limit,b2_h_right_limit]).OnlyEnforceIf(h_perimeter_cond)\n",
    "                \n",
    "        #  conclusions\n",
    "        # Up constraints\n",
    "        self.__model.Add(b2.pos_y >= b1.pos_y + b1.dim_y + int(min_dist * 10)).OnlyEnforceIf(b2_up_min_cst)\n",
    "        self.__model.Add(b2.pos_y <= b1.pos_y + b1.dim_y + int(max_dist * 10)).OnlyEnforceIf(b2_up_max_cst)\n",
    "\n",
    "        # Down constraints\n",
    "        self.__model.Add(b2.pos_y <= b1.pos_y - b2.dim_y - int(min_dist * 10)).OnlyEnforceIf(b2_down_min_cst)\n",
    "        self.__model.Add(b2.pos_y >= b1.pos_y - b2.dim_y - int(max_dist * 10)).OnlyEnforceIf(b2_down_max_cst)\n",
    "        # channeling up & down constraints\n",
    "        self.__model.AddBoolAnd([b2_up_min_cst,b2_up_max_cst]).OnlyEnforceIf(b2_up_csts)\n",
    "        self.__model.AddBoolAnd([b2_down_min_cst,b2_down_max_cst]).OnlyEnforceIf(b2_dw_csts)\n",
    "\n",
    "        \n",
    "        \n",
    "        # Vertical perimeter where a box can be\n",
    "        self.__model.Add(b2.pos_y >= b1.pos_x - int(max_dist * 10)).OnlyEnforceIf(b2_v_down_limit)\n",
    "        self.__model.Add(b2.pos_y <= b1.pos_x + b1.dim_x + int(max_dist * 10)).OnlyEnforceIf(b2_v_up_limit)\n",
    "\n",
    "        # channeling both conditions part\n",
    "        self.__model.AddBoolAnd([b2_v_down_limit,b2_v_up_limit]).OnlyEnforceIf(v_perimeter_cond)\n",
    "        \n",
    "        #  conclusions\n",
    "        # left constraints\n",
    "        self.__model.Add(b2.pos_x <= b1.pos_x - b2.dim_x - int(min_dist * 10)).OnlyEnforceIf(b2_left_min_cst)\n",
    "        self.__model.Add(b2.pos_x >= b1.pos_x - b2.dim_x - int(max_dist * 10)).OnlyEnforceIf(b2_left_max_cst)\n",
    "\n",
    "        # right constraints\n",
    "        self.__model.Add(b2.pos_x >= b1.pos_x + b1.dim_x + int(min_dist * 10)).OnlyEnforceIf(b2_right_min_cst)\n",
    "        self.__model.Add(b2.pos_x <= b1.pos_x + b1.dim_x + int(max_dist * 10)).OnlyEnforceIf(b2_right_max_cst)\n",
    "\n",
    "        # channeling left & right constraints\n",
    "        self.__model.AddBoolAnd([b2_left_min_cst,b2_left_max_cst]).OnlyEnforceIf(b2_left_csts)\n",
    "        self.__model.AddBoolAnd([b2_right_min_cst,b2_right_max_cst]).OnlyEnforceIf(b2_right_csts)\n",
    "\n",
    "        # up & down conclusions => b2_up_dw_conclusion\n",
    "        self.__model.AddBoolOr([b2_up_csts, b2_dw_csts]).OnlyEnforceIf(b2_up_dw_conclusion)\n",
    "                \n",
    "        # left & right conclusions => u\n",
    "        self.__model.AddBoolOr([b2_left_csts, b2_right_csts]).OnlyEnforceIf(b2_left_right_conclusion) \n",
    "        \n",
    "        #  == True =>\n",
    "        self.__model.AddBoolAnd([b2_up_dw_conclusion, 1]).OnlyEnforceIf(h_perimeter_cond)\n",
    "        \n",
    "        #  == True =>\n",
    "        self.__model.AddBoolAnd([b2_left_right_conclusion, 1]).OnlyEnforceIf(v_perimeter_cond)\n",
    "\n",
    "        self.__model.AddBoolOr([h_perimeter_cond, v_perimeter_cond])\n",
    "        \n",
    "        \n",
    "        # Redondance\n",
    "\n",
    "        # Horizontal constraints conditions\n",
    "        # Horizontal perimeter where a box can't be\n",
    "        self.__model.Add(b2.pos_x < b1.pos_x - int(max_dist * 10)).OnlyEnforceIf(b2_h_left_limit.Not())\n",
    "        self.__model.Add(b2.pos_x > b1.pos_x + b1.dim_x + int(max_dist * 10)).OnlyEnforceIf(b2_h_right_limit.Not())\n",
    "        \n",
    "        # channeling both conditions part\n",
    "        #self.__model.AddBoolOr([b2_h_left_limit.Not(),b2_h_right_limit.Not()]).OnlyEnforceIf(h_perimeter_cond.Not())\n",
    "                \n",
    "        #  conclusions\n",
    "        # Up constraints\n",
    "        self.__model.Add(b2.pos_y < b1.pos_y + b1.dim_y + int(min_dist * 10)).OnlyEnforceIf(b2_up_min_cst.Not())\n",
    "        self.__model.Add(b2.pos_y > b1.pos_y + b1.dim_y + int(max_dist * 10)).OnlyEnforceIf(b2_up_max_cst.Not())\n",
    "\n",
    "        # Down constraints\n",
    "        self.__model.Add(b2.pos_y > b1.pos_y - b2.dim_y - int(min_dist * 10)).OnlyEnforceIf(b2_down_min_cst.Not())\n",
    "        self.__model.Add(b2.pos_y < b1.pos_y - b2.dim_y - int(max_dist * 10)).OnlyEnforceIf(b2_down_max_cst.Not())\n",
    "\n",
    "        # channeling up & down constraints\n",
    "        self.__model.AddBoolOr([b2_up_min_cst.Not(),b2_up_max_cst.Not()]).OnlyEnforceIf(b2_up_csts.Not())\n",
    "        self.__model.AddBoolOr([b2_down_min_cst.Not(),b2_down_max_cst.Not()]).OnlyEnforceIf(b2_dw_csts.Not())\n",
    "\n",
    "        \n",
    "        # Vertical constraints conditions\n",
    "        self.__model.Add(b2.pos_y < b1.pos_x - int(max_dist * 10)).OnlyEnforceIf(b2_v_down_limit.Not())\n",
    "        self.__model.Add(b2.pos_y > b1.pos_x + b1.dim_x + int(max_dist * 10)).OnlyEnforceIf(b2_v_up_limit.Not())\n",
    "\n",
    "        # channeling both conditions part\n",
    "        #self.__model.AddBoolOr([b2_v_down_limit.Not(),b2_v_up_limit.Not()]).OnlyEnforceIf(v_perimeter_cond.Not())\n",
    "        \n",
    "        #  conclusions\n",
    "        # left constraints\n",
    "        self.__model.Add(b2.pos_x > b1.pos_x - b2.dim_x - int(min_dist * 10)).OnlyEnforceIf(b2_left_min_cst.Not())\n",
    "        self.__model.Add(b2.pos_x < b1.pos_x - b2.dim_x - int(max_dist * 10)).OnlyEnforceIf(b2_left_max_cst.Not())\n",
    "\n",
    "        # right constraints\n",
    "        self.__model.Add(b2.pos_x < b1.pos_x + b1.dim_x + int(min_dist * 10)).OnlyEnforceIf(b2_right_min_cst.Not())\n",
    "        self.__model.Add(b2.pos_x > b1.pos_x + b1.dim_x + int(max_dist * 10)).OnlyEnforceIf(b2_right_max_cst.Not())\n",
    "\n",
    "        # channeling left & right constraints\n",
    "        self.__model.AddBoolOr([b2_left_min_cst.Not(),b2_left_max_cst.Not()]).OnlyEnforceIf(b2_left_csts.Not())\n",
    "        self.__model.AddBoolOr([b2_right_min_cst.Not(),b2_right_max_cst.Not()]).OnlyEnforceIf(b2_right_csts.Not())\n",
    "\n",
    "        \n",
    "        ## up & down conclusions => b2_up_dw_conclusion\n",
    "        self.__model.AddBoolAnd([b2_up_csts.Not(), b2_dw_csts.Not()]).OnlyEnforceIf(b2_up_dw_conclusion.Not())\n",
    "                \n",
    "        # left & right conclusions => b2_left_right_conclusion\n",
    "        self.__model.AddBoolAnd([b2_left_csts.Not(), b2_right_csts.Not()]).OnlyEnforceIf(b2_left_right_conclusion.Not()) \n",
    "        \n",
    "        # c == True =>\n",
    "        self.__model.AddBoolOr([b2_up_dw_conclusion.Not(), 0]).OnlyEnforceIf(h_perimeter_cond.Not())\n",
    "        \n",
    "        # l == True =>\n",
    "        self.__model.AddBoolOr([b2_left_right_conclusion.Not(), 0]).OnlyEnforceIf(v_perimeter_cond.Not())\n",
    "\n",
    "    \"\"\"\n",
    "    def plantsAssociations(self, b1, b2, dataPlants, dataAux):\n",
    "\n",
    "\n",
    "        # b2 auxiliaire de b1\n",
    "        print('{} -> {}'.format(b1.name, b2.name))\n",
    "        if dataAux.get(b2.name) != None:\n",
    "            if dataAux[b2.name][\"plantsCombinations\"].get(b1.name) != None:\n",
    "                self.boxesDistance(b1, b2, dataAux[b2.name][\"plantsCombinations\"][b1.name][\"dist_min\"],dataAux[b2.name][\"plantsCombinations\"][b1.name][\"dist_max\"])\n",
    "            else:\n",
    "                self.boxesDistance(b1, b2, 0.8, 1)\n",
    "        else:\n",
    "            if dataPlants.get(b2.name) != None:\n",
    "                # ICI Il faut être vigilant !\n",
    "                 if dataPlants[b2.name][\"plantsCombinations\"].get(b1.name) != None:\n",
    "                    self.boxesDistance(b1, b2, dataPlants[b1.name][\"plantsCombinations\"][b2.name][\"dist_min\"],dataPlants[b1.name][\"plantsCombinations\"][b2.name][\"dist_max\"])\n",
    "            else:\n",
    "                self.boxesDistance(b1, b2, 0.8, 1)\n",
    "    \"\"\"\n",
    "    def addVegetables(self, vegetableList):\n",
    "        for elem in vegetableList:\n",
    "            self.addBox(elem)\n",
    "        \n",
    "    def plantsAssociations(self, b1, b2, dataPlants, dataAux):\n",
    "        if dataAux.get(b1.name) != None:\n",
    "            # b1 fait partie d'une plante auxiliaire\n",
    "            if dataAux[b1.name][\"plantsCombinations\"].get(b2.name) != None:\n",
    "                print(\"dataAux[b1.name][\\\"plantsCombinations\\\"].get(b2.name) != None\")\n",
    "                print('{} -> {}'.format(b1.name, b2.name))\n",
    "                self.boxesDistance(b1, b2, dataAux[b1.name][\"plantsCombinations\"][b2.name][\"dist_min\"],dataAux[b1.name][\"plantsCombinations\"][b2.name][\"dist_max\"])\n",
    "                return\n",
    "        if dataPlants.get(b1.name) != None:\n",
    "            # b1 fait partie d'une plante potagère\n",
    "            if dataPlants[b1.name][\"plantsCombinations\"].get(b2.name) != None:\n",
    "                # b1 plant -> b2 plant\n",
    "                self.boxesDistance(b1, b2, dataPlants[b1.name][\"plantsCombinations\"][b2.name][\"dist_min\"],dataPlants[b1.name][\"plantsCombinations\"][b2.name][\"dist_max\"])\n",
    "                print(\"dataPlants[b1.name][\\\"plantsCombinations\\\"].get(b2.name) != None\")\n",
    "                print('{} -> {}'.format(b1.name, b2.name))\n",
    "                return\n",
    "            if dataAux.get(b2.name) != None:\n",
    "                if dataAux[b2.name][\"plantsCombinations\"].get(b1.name) != None:\n",
    "                    print(\"dataAux[b2.name][\\\"plantsCombinations\\\"].get(b1.name) != None\")\n",
    "                    print('{} -> {}'.format(b1.name, b2.name))\n",
    "                    self.boxesDistance(b1, b2, dataAux[b2.name][\"plantsCombinations\"][b1.name][\"dist_min\"],dataAux[b2.name][\"plantsCombinations\"][b1.name][\"dist_max\"])\n",
    "                    return\n",
    "            else:\n",
    "                print(\"DOIT ETRE TRAITE PAR DEFAUT\")\n",
    "\n",
    "        print(\"Else rencontré\")\n",
    "        print('{} -> {}'.format(b1.name, b2.name))\n",
    "        self.boxesDistance(b1, b2, 0.8, 1)\n",
    "\n",
    "    \n",
    "    def getAuxiliaryPlants(self, legume, dataAux):    \n",
    "        auxList = []\n",
    "        for aux_name in dataAux:          \n",
    "            if legume.name in dataAux[aux_name][\"plantsCombinations\"]:\n",
    "                auxPlant = Plant(aux_name, 0, 0, 0.3, 0.3, \"purple\", 13, [\n",
    "                                      \"Calcaire\",\n",
    "                                      \"Azote\",\n",
    "                                      \"Pauvre\",\n",
    "                                      \"Compact\",\n",
    "                                      \"ArgileuxLimoneux\"\n",
    "                                    ])\n",
    "                auxList.append(auxPlant)\n",
    "        return auxList   \n",
    "    \n",
    "    def setAssociationsConstraints(self, vegetableList):\n",
    "        while(vegetableList):\n",
    "            for x in vegetableList:\n",
    "                if x != vegetableList[0]:\n",
    "                    self.plantsAssociations(vegetableList[0], x, dataPlants, dataAux)\n",
    "            vegetableList.pop(0)\n",
    "    \n",
    "    def checkVegetablesFeasability(self, vegetableList):\n",
    "        self.setAssociationsConstraints(list(vegetableList))\n",
    "        status = self.solver.Solve(self.model)\n",
    "        if status == cp_model.FEASIBLE:\n",
    "            return True\n",
    "        else:\n",
    "            return False\n",
    "        \n",
    "    \n",
    "    def plantsLuminosity(self, plant, data):\n",
    "        \"\"\" Set noOverlap constraints with squares having farthest sunExposure values.\n",
    "        Args:\n",
    "            plant (Plant): reference plant. \n",
    "            data (Json file): json file containing sun infos. \n",
    "        Side effect:\n",
    "            set noOverlap constraints in model.\n",
    "        Returns:\n",
    "            None\n",
    "        \"\"\"\n",
    "        luminositySquares = getFarValues(data, plant.sunExposureTime, 4)\n",
    "        for item in luminositySquares:\n",
    "            self.noOverlap(plant, item)\n",
    "    \n",
    "    def plantsSoil(self, plant, data):\n",
    "        for item in data:\n",
    "            if item.soilType in plant.soilTypeAvoided:\n",
    "                print(\"plante : {} \\n item: {} \".format(plant.name, item.name))\n",
    "                self.noOverlap(plant, item)\n",
    "            \n",
    "    def checkOrientation(self, plant):\n",
    "        half_h = int(TAILLE_H / 2) * 10\n",
    "        half_w = int(TAILLE_W / 2) * 10\n",
    "        \n",
    "        if plant.orientation != \"None\":\n",
    "            for orien in plant.orientation:   \n",
    "                if orien == \"N\":\n",
    "                    self.__model.Add(((plant.pos_y + plant.dim_y) - plant.dim_y) > half_h)\n",
    "                if orien == \"S\":\n",
    "                    self.__model.Add(((plant.pos_y + plant.dim_y) - plant.dim_y) < half_h)\n",
    "                if orien == \"E\": \n",
    "                    self.__model.Add(((plant.pos_x + plant.dim_x) - plant.dim_x) > half_w)\n",
    "                if orien == \"W\": \n",
    "                    self.__model.Add(((plant.pos_x + plant.dim_x) - plant.dim_x) < half_w)\n",
    "        \n",
    "        \n",
    "    def checkInside(self, b1, b2):\n",
    "        \"\"\" Make sure one block goes into another\n",
    "        Args:\n",
    "            b1 (Box): first box to fit in b2. \n",
    "            b2 (Box): second box containing b1. \n",
    "        Side effect:\n",
    "            set fit constraint b1 in b2\n",
    "        Returns:\n",
    "            None\n",
    "        \"\"\"\n",
    "        self.__model.Add(b1.pos_x >= b2.pos_x)\n",
    "        self.__model.Add(b1.pos_y >= b2.pos_y)\n",
    "        self.__model.Add(b1.pos_x + b1.dim_x <= b2.pos_x + b2.dim_x)\n",
    "        self.__model.Add(b1.pos_y + b1.dim_y <= b2.pos_y + b2.dim_y)\n",
    "    \n",
    "    def noOverlap(self, b1, b2):\n",
    "        \"\"\" Set constraints 2 boxes don't overlap each other\n",
    "        Args: \n",
    "            b1 (Box): first box\n",
    "            b2 (Box): second box\n",
    "        Side effect:\n",
    "           set noOverlap constraints in model.\n",
    "        Returns:\n",
    "            None\n",
    "        \"\"\"\n",
    "        a = self.__model.NewBoolVar(str(uuid.uuid4()))\n",
    "        b = self.__model.NewBoolVar(str(uuid.uuid4()))\n",
    "        c = self.__model.NewBoolVar(str(uuid.uuid4()))\n",
    "        d = self.__model.NewBoolVar(str(uuid.uuid4()))\n",
    "        \n",
    "        self.__model.Add(b1.pos_x + b1.dim_x <= b2.pos_x).OnlyEnforceIf(a)\n",
    "        self.__model.Add(b2.pos_x + b2.dim_x <= b1.pos_x).OnlyEnforceIf(b)\n",
    "        self.__model.Add(b1.pos_y + b1.dim_y <= b2.pos_y).OnlyEnforceIf(c)\n",
    "        self.__model.Add(b2.pos_y + b2.dim_y <= b1.pos_y).OnlyEnforceIf(d)\n",
    "        \n",
    "        # (redundant) constraints to help the solver to cut some branches\n",
    "        self.__model.Add(b1.pos_x + b1.dim_x > b2.pos_x).OnlyEnforceIf(a.Not())\n",
    "        self.__model.Add(b2.pos_x + b2.dim_x > b1.pos_x).OnlyEnforceIf(b.Not())\n",
    "        self.__model.Add(b1.pos_y + b1.dim_y > b2.pos_y).OnlyEnforceIf(c.Not())\n",
    "        self.__model.Add(b2.pos_y + b2.dim_y > b1.pos_y).OnlyEnforceIf(d.Not())\n",
    "        \n",
    "        self.__model.AddBoolOr([a,b,c,d])\n",
    "        \n",
    "    def addBox(self, box):\n",
    "        \"\"\" Adding a box in model\n",
    "        \n",
    "        Args: \n",
    "            box (Box): box to add in model\n",
    "        Side effect:\n",
    "            Set domain variables for pos_x, pos_y, dim_x, dim_y \n",
    "        Returns:\n",
    "            None\n",
    "        \"\"\"\n",
    "        # If we can move the box \n",
    "        if isinstance(box, BoxMovable):\n",
    "            box.pos_x = self.__model.NewIntVar(0, self.__box.dim_x, 'b%i_pos_x' % len(self.__elem_list))    \n",
    "            box.pos_y = self.__model.NewIntVar(0, self.__box.dim_y, 'b%i_pos_y' % len(self.__elem_list))\n",
    "\n",
    "            # if we have a square\n",
    "            if box.dim_x == box.dim_y:\n",
    "                box.dim_x = self.__model.NewIntVar(box.dim_x, box.dim_x, 'b%i_dim_x' % len(self.__elem_list))  \n",
    "                box.dim_y = self.__model.NewIntVar(box.dim_y, box.dim_y, 'b%i_dim_y' % len(self.__elem_list))\n",
    "            else:\n",
    "                b = box\n",
    "                if box.dim_x < box.dim_y:\n",
    "                    x = self.__model.NewEnumeratedIntVar([b.dim_x, b.dim_x, b.dim_y, b.dim_y], 'b%i_dim_x' % len(self.__elem_list))\n",
    "                    y = self.__model.NewEnumeratedIntVar([b.dim_x, b.dim_x, b.dim_y, b.dim_y], 'b%i_dim_y' % len(self.__elem_list))\n",
    "                    b.dim_x = x\n",
    "                    b.dim_y = y\n",
    "                else:\n",
    "                    x = self.__model.NewEnumeratedIntVar([b.dim_y, b.dim_y, b.dim_x, b.dim_x ], 'b%i_dim_x' % len(self.__elem_list))\n",
    "                    y = self.__model.NewEnumeratedIntVar([b.dim_y, b.dim_y, b.dim_x, b.dim_x], 'b%i_dim_y' % len(self.__elem_list))\n",
    "                    b.dim_x = x\n",
    "                    b.dim_y = y\n",
    "                # This constraint allows rotation to 90°\n",
    "                self.__model.Add(b.dim_x != b.dim_y) \n",
    "        else: \n",
    "            box.pos_x = self.__model.NewIntVar(box.pos_x, box.pos_x, 'b%i_pos_x' % len(self.__elem_list))    \n",
    "            box.pos_y = self.__model.NewIntVar(box.pos_y, box.pos_y, 'b%i_pos_y' % len(self.__elem_list))\n",
    "            box.dim_x = self.__model.NewIntVar(box.dim_x, box.dim_x, 'b%i_dim_x' % len(self.__elem_list))  \n",
    "            box.dim_y = self.__model.NewIntVar(box.dim_y, box.dim_y, 'b%i_dim_y' % len(self.__elem_list))\n",
    " \n",
    "        self.checkInside(box, self.__box)\n",
    "        self.__elem_list.append(box)\n",
    "   \n",
    "\n",
    "    def solve(self):\n",
    "        l = []\n",
    "        for elem in self.__elem_list:\n",
    "            sub_list = []\n",
    "            sub_list.append(elem.pos_x)\n",
    "            sub_list.append(elem.pos_y)\n",
    "            sub_list.append(elem.dim_x)\n",
    "            sub_list.append(elem.dim_y)\n",
    "            sub_list.append(elem.color)\n",
    "            sub_list.append(elem.name)\n",
    "            #sub_list.append(elem.orientation)\n",
    "            l.append(sub_list)\n",
    "      \n",
    "        solution_printer = VarArraySolutionPrinter(l, 1000)\n",
    "        status = self.__solver.SearchForAllSolutions(self.__model, solution_printer)\n",
    "\n",
    "        print('Status = %s' % self.__solver.StatusName(status))\n",
    "        print('Number of solutions found: %i' % solution_printer.solution_count())"
   ]
  },
  {
   "cell_type": "code",
   "execution_count": 554,
   "metadata": {},
   "outputs": [],
   "source": [
    "listOfPlants = []    \n",
    "luminositySquares = []\n",
    "soilSquares = []\n",
    "path = []\n",
    "\n",
    "plantsJson = \"./data_model/plant-associations.json\"\n",
    "mapsJson = \"./data_model/maps.json\"\n",
    "plantsAux = \"./data_model/plant-services.json\"\n",
    "\n",
    "with open(plantsJson, 'r') as f:\n",
    "    dataPlants = json.load(f)\n",
    "    \n",
    "\n",
    "with open(mapsJson, 'r') as f:\n",
    "    dataMaps = json.load(f)\n",
    "    # Choose a random number\n",
    "    #dataMaps = dataMaps[random.randint(0,2)]\n",
    "    dataMaps = dataMaps[0]\n",
    "\n",
    "with open(plantsAux, 'r') as f:\n",
    "    dataAux = json.load(f)\n",
    "    \n",
    "TAILLE_W = dataMaps[\"dimensions\"]['TAILLE_W']\n",
    "TAILLE_H = dataMaps[\"dimensions\"]['TAILLE_H']"
   ]
  },
  {
   "cell_type": "markdown",
   "metadata": {},
   "source": [
    "## User Interface\n",
    "Pemamind's minimalist interface functions"
   ]
  },
  {
   "cell_type": "markdown",
   "metadata": {},
   "source": [
    "# SAVE for test\n",
    "\"\"\"\n",
    "    l = [Plant(\"Carotte\", 0, 0, 1, 0.5, \"orange\", 6, [\n",
    "                                    \"Calcaire\",\n",
    "                                    \"Azote\",\n",
    "                                    \"Pauvre\",\n",
    "                                    \"Compact\"\n",
    "                                  ]),\n",
    "         Plant(\"Poireau\", 0, 0, 0.5, 0.8, \"green\", 13, [\n",
    "                                      \"Calcaire\",\n",
    "                                      \"Azote\",\n",
    "                                      \"Pauvre\",\n",
    "                                      \"Compact\"\n",
    "                                    ]),\n",
    "          Plant(\"Ail\", 0, 0, 0.75, 0.5, \"pink\", 3, [\n",
    "                                  \"Humifere\",\n",
    "                                  \"Azote\",\n",
    "                                  \"Pauvre\",\n",
    "                                  \"Compact\"\n",
    "                                ])]\n",
    "    \n",
    "    l = [Plant(\"Carotte\", 0, 0, 1, 0.5, \"orange\", 6, [\n",
    "                                    \"Calcaire\",\n",
    "                                    \"Azote\",\n",
    "                                    \"Pauvre\",\n",
    "                                    \"Compact\"\n",
    "                                  ]),\n",
    "         Plant(\"Poireau\", 0, 0, 0.5, 0.8, \"green\", 13, [\n",
    "                                      \"Calcaire\",\n",
    "                                      \"Azote\",\n",
    "                                      \"Pauvre\",\n",
    "                                      \"Compact\"\n",
    "                                    ]),\n",
    "          Plant(\"Ail\", 0, 0, 0.75, 0.5, \"pink\", 3, [\n",
    "                                  \"Humifere\",\n",
    "                                  \"Azote\",\n",
    "                                  \"Pauvre\",\n",
    "                                  \"Compact\"\n",
    "                                ])]\n",
    "\"\"\""
   ]
  },
  {
   "cell_type": "code",
   "execution_count": 555,
   "metadata": {
    "scrolled": true
   },
   "outputs": [],
   "source": [
    "def modifyUserString(string):\n",
    "    string_format = \"\"\n",
    "    for c in range(len(string)):\n",
    "        if c == 0:\n",
    "            string_format += str(string[c]).upper()\n",
    "        else:\n",
    "            string_format += str(string[c]).lower() \n",
    "    return string_format\n",
    "    \n",
    "\n",
    "def quantityComputation(qt):\n",
    "    # Bout de code fais rapidement\n",
    "    if qt < 5:\n",
    "        loop_count = 1\n",
    "        if qt > 0 and qt < 3:\n",
    "            dimX = 1\n",
    "            dimY = 2\n",
    "        elif qt >= 3 and qt < 5:\n",
    "            dimX = 2\n",
    "            dimY = 2\n",
    "            # Or dimY = 2 / dimX = 1\n",
    "        else:\n",
    "            dimX = 3\n",
    "            dimY = 3\n",
    "    elif qt >= 5 and qt < 10:\n",
    "        loop_count = 2\n",
    "        if qt >= 5 and qt <= 7:\n",
    "            dimX = 3\n",
    "            dimY = 4\n",
    "        elif qt > 7 and qt < 9:\n",
    "            dimX = 2\n",
    "            dimY = 4\n",
    "        else:\n",
    "            dimX = 3\n",
    "            dimY = 5\n",
    "    else:\n",
    "        loop_count = 3\n",
    "        dimX = 4\n",
    "        dimY = 5\n",
    "        \n",
    "    return loop_count, dimX, dimY\n",
    "\n",
    "def quantityComputationNew(name, nbPlant):\n",
    "    dim_x = nbPlant * dataPlants[name][\"distSamePlant\"]\n",
    "    if dim_x < TAILLE_W:\n",
    "        dim_y = dataPlants[name][\"distLine\"]\n",
    "    else:\n",
    "        delta = dim_x - TAILLE_W\n",
    "        # Ici c'etait juste un peu trop gros, donc on peut y caller sur sur deux lignes maintenant\n",
    "        if delta < TAILLE_W:\n",
    "            dim_x = TAILLE_W\n",
    "            dim_y = dataPlants[name][\"distLine\"] * 2 \n",
    "        else:\n",
    "            # Ici c'est encore plus gros, donc on peut y caller sur sur trois lignes maintenant\n",
    "            dim_x = TAILLE_W\n",
    "            dim_y = dataPlants[name][\"distLine\"] * 3\n",
    "    return [dim_x, dim_y]\n",
    "\n",
    "    \n",
    "def insertPlantsWithQuantity(listOfPlants, plantName, qt):\n",
    "    loop_count, dimX, dimY = quantityComputation(int(qt))\n",
    "    for i in range(loop_count):\n",
    "        listOfPlants.append(Plant(plantName, 0, 0, dimX, dimY, dataPlants[plantName][\"color\"], dataPlants[plantName][\"sunExposureTimeInHour\"], dataPlants[plantName][\"soilTypeAvoided\"]))\n",
    "    return listOfPlants\n",
    "\n",
    "def displayListOfPlants(l):\n",
    "    print([[x.name,l.count(x)] for x in set(l)])\n",
    "    \n",
    "def loadPlantsDebug():\n",
    "    print(\"loadPlantDebug\")\n",
    "    \n",
    "    listOfPlants = []\n",
    "    poireau = \"Poireau\"\n",
    "    oignon = \"Oignon\"\n",
    "    carotte = \"Carotte\"\n",
    "    pois = \"Pois\"\n",
    "    ail = \"Ail\"\n",
    "    tomate = \"Tomate\"\n",
    "    patate = \"Patate\"\n",
    "    \n",
    "    gardenDim = {}\n",
    "    garden = []\n",
    "    garden.append(poireau)\n",
    "    garden.append(oignon)\n",
    "    garden.append(carotte)\n",
    "    garden.append(pois)\n",
    "    garden.append(ail)\n",
    "    \n",
    "    # TODO ca devrait à peu pres marcher comme ca \n",
    "    #garden.append(tomate)\n",
    "    #garden.append(patate)\n",
    "    \n",
    "    dimMin = 5\n",
    "    dimMax = 20\n",
    "    \n",
    "    # To calculate dim_x and dim_y for all vegetables\n",
    "    for legume in garden:\n",
    "        gardenDim[legume] = quantityComputationNew(legume, randint(dimMin, dimMax))\n",
    "    print(gardenDim)   \n",
    "    \n",
    "    l = [ \n",
    "    Plant(poireau, 0, 0, gardenDim[poireau][0], gardenDim[poireau][1], dataPlants[poireau][\"color\"], 6, [\n",
    "                                    \"Calcaire\",\n",
    "                                    \"Azote\",\n",
    "                                    \"Pauvre\",\n",
    "                                    \"Compact\"\n",
    "                                  ]),\n",
    "    Plant(oignon, 0, 0, gardenDim[oignon][0], gardenDim[oignon][1], dataPlants[oignon][\"color\"], 6, [\n",
    "                                    \"Calcaire\",\n",
    "                                    \"Azote\",\n",
    "                                    \"Pauvre\",\n",
    "                                    \"Compact\"\n",
    "                                  ]),\n",
    "    Plant(carotte, 0, 0, gardenDim[carotte][0], gardenDim[carotte][1], dataPlants[carotte][\"color\"], 6, [\n",
    "                                    \"Calcaire\",\n",
    "                                    \"Azote\",\n",
    "                                    \"Pauvre\",\n",
    "                                    \"Compact\"\n",
    "                                  ]),\n",
    "    Plant(pois, 0, 0, gardenDim[pois][0], gardenDim[pois][1], dataPlants[pois][\"color\"], 6, [\n",
    "                                \"Calcaire\",\n",
    "                                \"Azote\",\n",
    "                                \"Pauvre\",\n",
    "                                \"Compact\"\n",
    "                              ])\n",
    "        \n",
    "    # TODO ca devrait à peu pres marcher comme ca \n",
    "    #,Plant(tomate, 0, 0, gardenDim[tomate][0], gardenDim[tomate][1], dataPlants[tomate][\"color\"], 6, [\n",
    "    #                            \"Calcaire\",\n",
    "    #                            \"Azote\",\n",
    "    #                            \"Pauvre\",\n",
    "    #                            \"Compact\"\n",
    "    #                          ])      \n",
    "    #,Plant(patate, 0, 0, gardenDim[patate][0], gardenDim[patate][1], dataPlants[patate][\"color\"], 6, [\n",
    "    #                       \"Calcaire\",\n",
    "    #                       \"Azote\",\n",
    "    #                       \"Pauvre\",\n",
    "    #                       \"Compact\"\n",
    "    #                     ])\n",
    "        \n",
    "      #,Plant(ail, 0, 0, 0.5, 1, dataPlants[ail][\"color\"], 6, [\n",
    "      #                      \"Calcaire\",\n",
    "      #                     \"Azote\",\n",
    "      #                    \"Pauvre\",\n",
    "      #                   \"Compact\"\n",
    "      #                ])\n",
    "        \n",
    "      ]\n",
    "                                    \n",
    "    for item in l:\n",
    "        listOfPlants.append(item)\n",
    "\n",
    "              \n",
    "    garden = BoxFixed('Box', 0, 0, TAILLE_W, TAILLE_H, \"white\")\n",
    "    blockProblem = createModel(garden, listOfPlants)\n",
    "    \n",
    "    if blockProblem != -1:\n",
    "        blockProblem.solve()\n",
    "        print('Statistics')\n",
    "        print('  - conflicts       : %i' % blockProblem.solver.NumConflicts())\n",
    "        print('  - branches        : %i' % blockProblem.solver.NumBranches())\n",
    "        print('  - wall time       : %f s' % blockProblem.solver.WallTime())\n",
    "    else:\n",
    "        print(\"PROBLEM\")\n",
    "\n",
    "    \n",
    "def askUserModifyChoice(listOfPlants):\n",
    "    print(\"\\nAie Aie ...\")\n",
    "    print(\"Ton choix cher petit jardinier me semble difficile à satisfaire :( \")\n",
    "    print(\"- Voici les plantes que tu désires ajouter\")\n",
    " \n",
    "    # TODO faire une function qui fais la liste bien présentée\n",
    "    displayListOfPlants(listOfPlants)\n",
    "    \n",
    "    present = False\n",
    "    while True:\n",
    "        print(\"- Pourrions nous réduire la quantité d'une plante afin de satisfaire le modèle ?\")\n",
    "        answer = input()\n",
    "        answer = modifyUserString(answer)\n",
    "        if answer == \"Oui\":\n",
    "            print(\"- Quelle plante ?\")\n",
    "            plant = True\n",
    "            while type(plant) is not str:\n",
    "                plant = input()\n",
    "            plant = modifyUserString(plant)\n",
    "            for e in listOfPlants:\n",
    "                if e.name == plant:\n",
    "                    while True:\n",
    "                        print(\"Veux tu supprimer cette plante ou réduire sa quantité ?\")\n",
    "                        print(\"'Supprimer' ou 'Reduire' :)\")\n",
    "                        answ = input()\n",
    "                        answ = modifyUserString(answ)\n",
    "                        if answ == \"Supprimer\":\n",
    "                            listOfPlants = [x for x in listOfPlants if plant not in x.name]\n",
    "                            present = True\n",
    "                            break\n",
    "                        if answ == \"Reduire\":\n",
    "                            listOfPlants = [x for x in listOfPlants if plant not in x.name]\n",
    "                            print(\"Quelle est la nouvelle quantité pour {}\".format(plant))\n",
    "                            qt = input()\n",
    "                            listOfPlants = insertPlantsWithQuantity(listOfPlants, plant, qt)\n",
    "                            present = True\n",
    "                            break\n",
    "                    break\n",
    "        elif answer == \"Non\":\n",
    "            raise Exception(\"L'utilisateur ne veut pas changer son choix /!\\ En construction /!\\ \")\n",
    "                    \n",
    "        if present:\n",
    "            print(\"Liste mise à jour ...\")\n",
    "            return listOfPlants\n",
    "        else:\n",
    "            print(\"Element non présent dans votre liste\")\n",
    "        \n",
    "        \n",
    "def welcome():\n",
    "    print(\"             Bonjour petit paysan débutant ! \\n                 Bienvenue sur Permamind !\\n\\n\")\n",
    "    print(\"- Pourrais tu me fournir les données du terrain que tu désires aménager s'il te plait ?\")\n",
    "    print(\"    ... /!\\ En construction /!\\ Récupération JSON simulant les données du terrain ...\")    \n",
    "    print(\"    Je vais te fournir les espèces de légumes bien adapté à ton terrain.\")\n",
    "\n",
    "def askUserAndAdjust(listOfPlants):\n",
    "    welcome()\n",
    "    while True:\n",
    "        print(\"- Fais ta sélection parmis la liste proposée !\")\n",
    "        for e in dataPlants:\n",
    "            print(\"   *\", e)\n",
    "        plant = True\n",
    "        while type(plant) is not str:\n",
    "            plant = input()\n",
    "        plant = modifyUserString(plant)\n",
    "        if plant in dataPlants:\n",
    "            print(\"- Tu as choisi {}\".format(plant))\n",
    "            print(\"    Quelle quantité de {} desires tu ?\".format(str(plant)))\n",
    "            qt = input()\n",
    "            print(\"- Tu as choisi de planter {} {}(s)\".format(qt, str(plant)))\n",
    "            \n",
    "            listOfPlants = insertPlantsWithQuantity(listOfPlants, plant, qt)\n",
    "            \n",
    "            while True:\n",
    "                listOfElem = copy.deepcopy(listOfPlants)                                                                                                         \n",
    "                garden = BoxFixed('Box', 0, 0, TAILLE_W, TAILLE_H, \"white\")\n",
    "                blockProblem = createModel(garden, listOfElem)\n",
    "\n",
    "                status = blockProblem.solver.Solve(blockProblem.model)\n",
    "                if status == cp_model.FEASIBLE:\n",
    "                    print(\"- Desires tu continuer ?\")\n",
    "                    choice = input()\n",
    "                    choice = modifyUserString(choice)\n",
    "                    if choice == \"Non\":\n",
    "                        return blockProblem, listOfPlants\n",
    "                    else:\n",
    "                        break\n",
    "                else:\n",
    "                    listOfPlants = askUserModifyChoice(listOfPlants)\n",
    "\n",
    "        else:\n",
    "            print(\"Ce que tu as choisi n'est pas dans la base.\")\n",
    "        \n",
    "        # TDOO Fonction qui fais la liste des plantes intégrées ...\n",
    "    "
   ]
  },
  {
   "cell_type": "code",
   "execution_count": 556,
   "metadata": {
    "collapsed": true
   },
   "outputs": [],
   "source": [
    "def emptyAuxList(listOfPlants):\n",
    "    count = 0\n",
    "    for plant in listOfPlants:\n",
    "        if  len(plant[\"aux_plants\"]) == 0:\n",
    "            count += 1\n",
    "    if count == len(listOfPlants):\n",
    "        return True\n",
    "    else:\n",
    "        return False\n",
    "\n",
    "\n",
    "def addServicePlant(plantDict, plantIndex):\n",
    "    if len(plantDict[plantIndex][\"aux_plants\"]) != 0:\n",
    "        auxPlant = plantDict[plantIndex][\"aux_plants\"].pop(0)\n",
    "        print(\"ajout auxiliaire: {}\".format(auxPlant))\n",
    "        return auxPlant\n",
    "    else:\n",
    "        return -1\n",
    "\n",
    "def createModel(field, vegetableList):\n",
    "    listBis = copy.deepcopy(vegetableList)\n",
    "    \n",
    "    blockProblem = plantBoxProblem(field)\n",
    "    blockProblem.addVegetables(listBis)\n",
    "    \n",
    "    if blockProblem.checkVegetablesFeasability(listBis):\n",
    "        \n",
    "        listOfPlants = []\n",
    "        # Ici on crée un dictionnaire avec chaque plante et ses auxilières\n",
    "        for veg in vegetableList:\n",
    "            myDict = {'vegetable': veg, 'aux_plants': blockProblem.getAuxiliaryPlants(veg, dataAux)}\n",
    "            listOfPlants.append(myDict)\n",
    "\n",
    "        index = 0\n",
    "        listBis = copy.deepcopy(vegetableList)\n",
    "        while True:\n",
    "            \n",
    "            if emptyAuxList(listOfPlants):\n",
    "                blockProblem = plantBoxProblem(field)\n",
    "                blockProblem.addVegetables(listBis)\n",
    "                blockProblem.setAssociationsConstraints(listBis)\n",
    "                return blockProblem            \n",
    "            \n",
    "            auxPlant = addServicePlant(listOfPlants, index)\n",
    "            if auxPlant != -1:\n",
    "                listBis.append(auxPlant)\n",
    "            listTemp = copy.deepcopy(listBis)\n",
    "            \n",
    "            blockProblem = plantBoxProblem(field)\n",
    "            blockProblem.addVegetables(listTemp)\n",
    "\n",
    "            if blockProblem.checkVegetablesFeasability(listTemp):  \n",
    "                \n",
    "                if index > len(vegetableList):\n",
    "                    index = 0\n",
    "                else:\n",
    "                    index += 1\n",
    "                    \n",
    "                # Ca fait quoi ici ca ?   \n",
    "                continue\n",
    "            else:\n",
    "                listBis.pop(-1)\n",
    "                blockProblem = plantBoxProblem(field)\n",
    "                blockProblem.addVegetables(listBis)\n",
    "                blockProblem.setAssociationsConstraints(listBis)\n",
    "                \n",
    "                return blockProblem           \n",
    "    else:\n",
    "        print(\"Ces plantes potagères ne peuvent pas être mises dans le modèle\")\n",
    "        print(\"Modifier vegetableList\")\n",
    "        return -1\n",
    "    \n",
    "\n",
    "\n",
    "\n",
    "\n",
    "\n",
    "\"\"\"\n",
    "def complete_model(self, list_of_vegetables):\n",
    "        #[listOfPlants.append(aux_p) for aux_p in blockProblem.getAuxiliaryPlants(elem, dataAux)]\n",
    "    listOfPlants = copy.deepcopy(list_of_vegetables)\n",
    "    \n",
    "    for elem in list_of_vegetables:\n",
    "        status = self.solver.Solve(blockProblem.model)\n",
    "        if status == cp_model.FEASIBLE:\n",
    "            [listOfPlants.append(aux_p) for aux_p in self.getAuxiliaryPlants(elem, dataAux)]\n",
    "            while(list_of_vegetables):\n",
    "                for x in list_of_vegetables:\n",
    "                    if x != list_of_vegetables[0]:\n",
    "                        self.plantsAssociations(list_of_vegetables[0], x, dataPlants, dataAux)\n",
    "                list_of_vegetables.pop(0)\n",
    "\"\"\"          \n",
    "            \n",
    "        \n",
    "def problem_resolution():\n",
    "    loadPlantsDebug()\n",
    "    \n",
    "    #blockProblem, new_listOfPlants = askUserAndAdjust(listOfPlants)\n",
    "    #if len(new_listOfPlants) < 1:\n",
    "     #   print(\"Nothing in my list. Need to treat this case before in the code\")\n",
    "    #else:\n",
    "    #    blockProblem.solve()\n",
    "        # Statistics.\n",
    "    #    print()\n",
    "    #    print('Statistics')\n",
    "    #    print('  - conflicts       : %i' % blockProblem.solver.NumConflicts())\n",
    "    #    print('  - branches        : %i' % blockProblem.solver.NumBranches())\n",
    "    #    print('  - wall time       : %f s' % blockProblem.solver.WallTime())\n",
    "    \n",
    "\n",
    "# http://socialcompare.com/fr/comparison/association-de-legumes-au-jardin-potager-bio"
   ]
  },
  {
   "cell_type": "code",
   "execution_count": 557,
   "metadata": {
    "scrolled": true
   },
   "outputs": [
    {
     "name": "stderr",
     "output_type": "stream",
     "text": [
      "No handles with labels found to put in legend.\n"
     ]
    },
    {
     "name": "stdout",
     "output_type": "stream",
     "text": [
      "loadPlantDebug\n",
      "{'Poireau': [2, 0.3], 'Oignon': [0.8, 0.3], 'Carotte': [0.5, 0.25], 'Pois': [0.8, 0.5], 'Ail': [0.88, 0.15]}\n",
      "dataPlants[b1.name][\"plantsCombinations\"].get(b2.name) != None\n",
      "Poireau -> Oignon\n",
      "dataPlants[b1.name][\"plantsCombinations\"].get(b2.name) != None\n",
      "Poireau -> Carotte\n",
      "dataPlants[b1.name][\"plantsCombinations\"].get(b2.name) != None\n",
      "Poireau -> Pois\n",
      "dataPlants[b1.name][\"plantsCombinations\"].get(b2.name) != None\n",
      "Oignon -> Carotte\n",
      "dataPlants[b1.name][\"plantsCombinations\"].get(b2.name) != None\n",
      "Oignon -> Pois\n",
      "dataPlants[b1.name][\"plantsCombinations\"].get(b2.name) != None\n",
      "Carotte -> Pois\n",
      "ajout auxiliaire: name: Asperge \n",
      " pos_x: 0 \n",
      " pos_y: 0\n",
      "dataPlants[b1.name][\"plantsCombinations\"].get(b2.name) != None\n",
      "Poireau -> Oignon\n",
      "dataPlants[b1.name][\"plantsCombinations\"].get(b2.name) != None\n",
      "Poireau -> Carotte\n",
      "dataPlants[b1.name][\"plantsCombinations\"].get(b2.name) != None\n",
      "Poireau -> Pois\n",
      "dataAux[b2.name][\"plantsCombinations\"].get(b1.name) != None\n",
      "Poireau -> Asperge\n",
      "dataPlants[b1.name][\"plantsCombinations\"].get(b2.name) != None\n",
      "Oignon -> Carotte\n",
      "dataPlants[b1.name][\"plantsCombinations\"].get(b2.name) != None\n",
      "Oignon -> Pois\n",
      "Else rencontré\n",
      "Oignon -> Asperge\n",
      "dataPlants[b1.name][\"plantsCombinations\"].get(b2.name) != None\n",
      "Carotte -> Pois\n",
      "Else rencontré\n",
      "Carotte -> Asperge\n",
      "dataAux[b2.name][\"plantsCombinations\"].get(b1.name) != None\n",
      "Pois -> Asperge\n",
      "ajout auxiliaire: name: Aneth \n",
      " pos_x: 0 \n",
      " pos_y: 0\n",
      "dataPlants[b1.name][\"plantsCombinations\"].get(b2.name) != None\n",
      "Poireau -> Oignon\n",
      "dataPlants[b1.name][\"plantsCombinations\"].get(b2.name) != None\n",
      "Poireau -> Carotte\n",
      "dataPlants[b1.name][\"plantsCombinations\"].get(b2.name) != None\n",
      "Poireau -> Pois\n",
      "dataAux[b2.name][\"plantsCombinations\"].get(b1.name) != None\n",
      "Poireau -> Asperge\n",
      "Else rencontré\n",
      "Poireau -> Aneth\n",
      "dataPlants[b1.name][\"plantsCombinations\"].get(b2.name) != None\n",
      "Oignon -> Carotte\n",
      "dataPlants[b1.name][\"plantsCombinations\"].get(b2.name) != None\n",
      "Oignon -> Pois\n",
      "Else rencontré\n",
      "Oignon -> Asperge\n",
      "dataAux[b2.name][\"plantsCombinations\"].get(b1.name) != None\n",
      "Oignon -> Aneth\n",
      "dataPlants[b1.name][\"plantsCombinations\"].get(b2.name) != None\n",
      "Carotte -> Pois\n",
      "Else rencontré\n",
      "Carotte -> Asperge\n",
      "Else rencontré\n",
      "Carotte -> Aneth\n",
      "dataAux[b2.name][\"plantsCombinations\"].get(b1.name) != None\n",
      "Pois -> Asperge\n",
      "Else rencontré\n",
      "Pois -> Aneth\n",
      "dataAux[b1.name][\"plantsCombinations\"].get(b2.name) != None\n",
      "Asperge -> Aneth\n",
      "dataPlants[b1.name][\"plantsCombinations\"].get(b2.name) != None\n",
      "Poireau -> Oignon\n",
      "dataPlants[b1.name][\"plantsCombinations\"].get(b2.name) != None\n",
      "Poireau -> Carotte\n",
      "dataPlants[b1.name][\"plantsCombinations\"].get(b2.name) != None\n",
      "Poireau -> Pois\n",
      "dataAux[b2.name][\"plantsCombinations\"].get(b1.name) != None\n",
      "Poireau -> Asperge\n",
      "dataPlants[b1.name][\"plantsCombinations\"].get(b2.name) != None\n",
      "Oignon -> Carotte\n",
      "dataPlants[b1.name][\"plantsCombinations\"].get(b2.name) != None\n",
      "Oignon -> Pois\n",
      "Else rencontré\n",
      "Oignon -> Asperge\n",
      "dataPlants[b1.name][\"plantsCombinations\"].get(b2.name) != None\n",
      "Carotte -> Pois\n",
      "Else rencontré\n",
      "Carotte -> Asperge\n",
      "dataAux[b2.name][\"plantsCombinations\"].get(b1.name) != None\n",
      "Pois -> Asperge\n",
      "\n",
      "name = Poireau\n",
      "pos_x = 0.300000\n",
      "pos_y = 0.000000\n",
      "dim_x = 0.300000\n",
      "dim_y = 2.000000\n",
      "\n",
      "name = Oignon\n",
      "pos_x = 1.100000\n",
      "pos_y = 0.000000\n",
      "dim_x = 0.800000\n",
      "dim_y = 0.300000\n",
      "\n",
      "name = Carotte\n",
      "pos_x = 1.800000\n",
      "pos_y = 0.300000\n",
      "dim_x = 0.200000\n",
      "dim_y = 0.500000\n",
      "\n",
      "name = Pois\n",
      "pos_x = 1.500000\n",
      "pos_y = 1.200000\n",
      "dim_x = 0.500000\n",
      "dim_y = 0.800000\n",
      "\n",
      "name = Asperge\n",
      "pos_x = 0.700000\n",
      "pos_y = 1.100000\n",
      "dim_x = 0.300000\n",
      "dim_y = 0.300000\n"
     ]
    },
    {
     "data": {
      "image/png": "[encoded data removed]",
      "text/plain": [
       "<Figure size 432x288 with 1 Axes>"
      ]
     },
     "metadata": {},
     "output_type": "display_data"
    },
    {
     "name": "stderr",
     "output_type": "stream",
     "text": [
      "No handles with labels found to put in legend.\n"
     ]
    },
    {
     "name": "stdout",
     "output_type": "stream",
     "text": [
      "\n",
      "name = Poireau\n",
      "pos_x = 0.300000\n",
      "pos_y = 0.000000\n",
      "dim_x = 0.300000\n",
      "dim_y = 2.000000\n",
      "\n",
      "name = Oignon\n",
      "pos_x = 1.200000\n",
      "pos_y = 0.000000\n",
      "dim_x = 0.800000\n",
      "dim_y = 0.300000\n",
      "\n",
      "name = Carotte\n",
      "pos_x = 1.800000\n",
      "pos_y = 0.300000\n",
      "dim_x = 0.200000\n",
      "dim_y = 0.500000\n",
      "\n",
      "name = Pois\n",
      "pos_x = 1.500000\n",
      "pos_y = 1.200000\n",
      "dim_x = 0.500000\n",
      "dim_y = 0.800000\n",
      "\n",
      "name = Asperge\n",
      "pos_x = 0.700000\n",
      "pos_y = 1.100000\n",
      "dim_x = 0.300000\n",
      "dim_y = 0.300000\n"
     ]
    },
    {
     "data": {
      "image/png": "[encoded data removed]",
      "text/plain": [
       "<Figure size 432x288 with 1 Axes>"
      ]
     },
     "metadata": {},
     "output_type": "display_data"
    },
    {
     "name": "stderr",
     "output_type": "stream",
     "text": [
      "No handles with labels found to put in legend.\n"
     ]
    },
    {
     "name": "stdout",
     "output_type": "stream",
     "text": [
      "\n",
      "name = Poireau\n",
      "pos_x = 0.300000\n",
      "pos_y = 0.000000\n",
      "dim_x = 0.300000\n",
      "dim_y = 2.000000\n",
      "\n",
      "name = Oignon\n",
      "pos_x = 0.700000\n",
      "pos_y = 0.000000\n",
      "dim_x = 0.800000\n",
      "dim_y = 0.300000\n",
      "\n",
      "name = Carotte\n",
      "pos_x = 1.800000\n",
      "pos_y = 0.300000\n",
      "dim_x = 0.200000\n",
      "dim_y = 0.500000\n",
      "\n",
      "name = Pois\n",
      "pos_x = 1.500000\n",
      "pos_y = 1.200000\n",
      "dim_x = 0.500000\n",
      "dim_y = 0.800000\n",
      "\n",
      "name = Asperge\n",
      "pos_x = 0.700000\n",
      "pos_y = 1.100000\n",
      "dim_x = 0.300000\n",
      "dim_y = 0.300000\n"
     ]
    },
    {
     "data": {
      "image/png": "[encoded data removed]",
      "text/plain": [
       "<Figure size 432x288 with 1 Axes>"
      ]
     },
     "metadata": {},
     "output_type": "display_data"
    },
    {
     "name": "stderr",
     "output_type": "stream",
     "text": [
      "No handles with labels found to put in legend.\n"
     ]
    },
    {
     "name": "stdout",
     "output_type": "stream",
     "text": [
      "\n",
      "name = Poireau\n",
      "pos_x = 0.000000\n",
      "pos_y = 1.500000\n",
      "dim_x = 2.000000\n",
      "dim_y = 0.300000\n",
      "\n",
      "name = Oignon\n",
      "pos_x = 0.000000\n",
      "pos_y = 0.000000\n",
      "dim_x = 0.300000\n",
      "dim_y = 0.800000\n",
      "\n",
      "name = Carotte\n",
      "pos_x = 0.300000\n",
      "pos_y = 0.000000\n",
      "dim_x = 0.200000\n",
      "dim_y = 0.500000\n",
      "\n",
      "name = Pois\n",
      "pos_x = 1.200000\n",
      "pos_y = 0.000000\n",
      "dim_x = 0.800000\n",
      "dim_y = 0.500000\n",
      "\n",
      "name = Asperge\n",
      "pos_x = 1.300000\n",
      "pos_y = 0.700000\n",
      "dim_x = 0.300000\n",
      "dim_y = 0.300000\n"
     ]
    },
    {
     "data": {
      "image/png": "[encoded data removed]",
      "text/plain": [
       "<Figure size 432x288 with 1 Axes>"
      ]
     },
     "metadata": {},
     "output_type": "display_data"
    },
    {
     "name": "stderr",
     "output_type": "stream",
     "text": [
      "No handles with labels found to put in legend.\n"
     ]
    },
    {
     "name": "stdout",
     "output_type": "stream",
     "text": [
      "\n",
      "name = Poireau\n",
      "pos_x = 0.000000\n",
      "pos_y = 1.500000\n",
      "dim_x = 2.000000\n",
      "dim_y = 0.300000\n",
      "\n",
      "name = Oignon\n",
      "pos_x = 0.000000\n",
      "pos_y = 0.000000\n",
      "dim_x = 0.300000\n",
      "dim_y = 0.800000\n",
      "\n",
      "name = Carotte\n",
      "pos_x = 0.300000\n",
      "pos_y = 0.000000\n",
      "dim_x = 0.200000\n",
      "dim_y = 0.500000\n",
      "\n",
      "name = Pois\n",
      "pos_x = 1.200000\n",
      "pos_y = 0.100000\n",
      "dim_x = 0.800000\n",
      "dim_y = 0.500000\n",
      "\n",
      "name = Asperge\n",
      "pos_x = 1.300000\n",
      "pos_y = 0.700000\n",
      "dim_x = 0.300000\n",
      "dim_y = 0.300000\n"
     ]
    },
    {
     "data": {
      "image/png": "[encoded data removed]",
      "text/plain": [
       "<Figure size 432x288 with 1 Axes>"
      ]
     },
     "metadata": {},
     "output_type": "display_data"
    },
    {
     "name": "stderr",
     "output_type": "stream",
     "text": [
      "No handles with labels found to put in legend.\n"
     ]
    },
    {
     "name": "stdout",
     "output_type": "stream",
     "text": [
      "\n",
      "name = Poireau\n",
      "pos_x = 0.000000\n",
      "pos_y = 1.500000\n",
      "dim_x = 2.000000\n",
      "dim_y = 0.300000\n",
      "\n",
      "name = Oignon\n",
      "pos_x = 0.000000\n",
      "pos_y = 0.100000\n",
      "dim_x = 0.300000\n",
      "dim_y = 0.800000\n",
      "\n",
      "name = Carotte\n",
      "pos_x = 0.300000\n",
      "pos_y = 0.000000\n",
      "dim_x = 0.200000\n",
      "dim_y = 0.500000\n",
      "\n",
      "name = Pois\n",
      "pos_x = 1.200000\n",
      "pos_y = 0.000000\n",
      "dim_x = 0.800000\n",
      "dim_y = 0.500000\n",
      "\n",
      "name = Asperge\n",
      "pos_x = 1.300000\n",
      "pos_y = 0.700000\n",
      "dim_x = 0.300000\n",
      "dim_y = 0.300000\n"
     ]
    },
    {
     "data": {
      "image/png": "[encoded data removed]",
      "text/plain": [
       "<Figure size 432x288 with 1 Axes>"
      ]
     },
     "metadata": {},
     "output_type": "display_data"
    },
    {
     "name": "stderr",
     "output_type": "stream",
     "text": [
      "No handles with labels found to put in legend.\n"
     ]
    },
    {
     "name": "stdout",
     "output_type": "stream",
     "text": [
      "\n",
      "name = Poireau\n",
      "pos_x = 0.000000\n",
      "pos_y = 1.500000\n",
      "dim_x = 2.000000\n",
      "dim_y = 0.300000\n",
      "\n",
      "name = Oignon\n",
      "pos_x = 0.000000\n",
      "pos_y = 0.100000\n",
      "dim_x = 0.300000\n",
      "dim_y = 0.800000\n",
      "\n",
      "name = Carotte\n",
      "pos_x = 0.300000\n",
      "pos_y = 0.000000\n",
      "dim_x = 0.200000\n",
      "dim_y = 0.500000\n",
      "\n",
      "name = Pois\n",
      "pos_x = 1.200000\n",
      "pos_y = 0.100000\n",
      "dim_x = 0.800000\n",
      "dim_y = 0.500000\n",
      "\n",
      "name = Asperge\n",
      "pos_x = 1.300000\n",
      "pos_y = 0.700000\n",
      "dim_x = 0.300000\n",
      "dim_y = 0.300000\n"
     ]
    },
    {
     "data": {
      "image/png": "[encoded data removed]",
      "text/plain": [
       "<Figure size 432x288 with 1 Axes>"
      ]
     },
     "metadata": {},
     "output_type": "display_data"
    },
    {
     "name": "stdout",
     "output_type": "stream",
     "text": [
      "\n",
      "name = Poireau\n",
      "pos_x = 0.000000\n",
      "pos_y = 1.500000\n",
      "dim_x = 2.000000\n",
      "dim_y = 0.300000\n",
      "\n",
      "name = Oignon\n",
      "pos_x = 0.000000\n",
      "pos_y = 0.200000\n",
      "dim_x = 0.300000\n",
      "dim_y = 0.800000\n",
      "\n",
      "name = Carotte\n",
      "pos_x = 0.300000\n",
      "pos_y = 0.000000\n",
      "dim_x = 0.200000\n",
      "dim_y = 0.500000\n"
     ]
    },
    {
     "name": "stderr",
     "output_type": "stream",
     "text": [
      "No handles with labels found to put in legend.\n"
     ]
    },
    {
     "name": "stdout",
     "output_type": "stream",
     "text": [
      "\n",
      "name = Pois\n",
      "pos_x = 1.200000\n",
      "pos_y = 0.000000\n",
      "dim_x = 0.800000\n",
      "dim_y = 0.500000\n",
      "\n",
      "name = Asperge\n",
      "pos_x = 1.300000\n",
      "pos_y = 0.700000\n",
      "dim_x = 0.300000\n",
      "dim_y = 0.300000\n"
     ]
    },
    {
     "data": {
      "image/png": "[encoded data removed]",
      "text/plain": [
       "<Figure size 432x288 with 1 Axes>"
      ]
     },
     "metadata": {},
     "output_type": "display_data"
    },
    {
     "name": "stderr",
     "output_type": "stream",
     "text": [
      "No handles with labels found to put in legend.\n"
     ]
    },
    {
     "name": "stdout",
     "output_type": "stream",
     "text": [
      "\n",
      "name = Poireau\n",
      "pos_x = 0.000000\n",
      "pos_y = 1.500000\n",
      "dim_x = 2.000000\n",
      "dim_y = 0.300000\n",
      "\n",
      "name = Oignon\n",
      "pos_x = 0.000000\n",
      "pos_y = 0.000000\n",
      "dim_x = 0.300000\n",
      "dim_y = 0.800000\n",
      "\n",
      "name = Carotte\n",
      "pos_x = 0.300000\n",
      "pos_y = 0.000000\n",
      "dim_x = 0.200000\n",
      "dim_y = 0.500000\n",
      "\n",
      "name = Pois\n",
      "pos_x = 1.200000\n",
      "pos_y = 0.000000\n",
      "dim_x = 0.800000\n",
      "dim_y = 0.500000\n",
      "\n",
      "name = Asperge\n",
      "pos_x = 1.300000\n",
      "pos_y = 0.800000\n",
      "dim_x = 0.300000\n",
      "dim_y = 0.300000\n"
     ]
    },
    {
     "data": {
      "image/png": "[encoded data removed]",
      "text/plain": [
       "<Figure size 432x288 with 1 Axes>"
      ]
     },
     "metadata": {},
     "output_type": "display_data"
    },
    {
     "name": "stderr",
     "output_type": "stream",
     "text": [
      "No handles with labels found to put in legend.\n"
     ]
    },
    {
     "name": "stdout",
     "output_type": "stream",
     "text": [
      "\n",
      "name = Poireau\n",
      "pos_x = 0.000000\n",
      "pos_y = 1.500000\n",
      "dim_x = 2.000000\n",
      "dim_y = 0.300000\n",
      "\n",
      "name = Oignon\n",
      "pos_x = 0.000000\n",
      "pos_y = 0.000000\n",
      "dim_x = 0.300000\n",
      "dim_y = 0.800000\n",
      "\n",
      "name = Carotte\n",
      "pos_x = 0.300000\n",
      "pos_y = 0.000000\n",
      "dim_x = 0.200000\n",
      "dim_y = 0.500000\n",
      "\n",
      "name = Pois\n",
      "pos_x = 1.200000\n",
      "pos_y = 0.100000\n",
      "dim_x = 0.800000\n",
      "dim_y = 0.500000\n",
      "\n",
      "name = Asperge\n",
      "pos_x = 1.300000\n",
      "pos_y = 0.800000\n",
      "dim_x = 0.300000\n",
      "dim_y = 0.300000\n"
     ]
    },
    {
     "data": {
      "image/png": "[encoded data removed]",
      "text/plain": [
       "<Figure size 432x288 with 1 Axes>"
      ]
     },
     "metadata": {},
     "output_type": "display_data"
    },
    {
     "name": "stderr",
     "output_type": "stream",
     "text": [
      "No handles with labels found to put in legend.\n"
     ]
    },
    {
     "name": "stdout",
     "output_type": "stream",
     "text": [
      "\n",
      "name = Poireau\n",
      "pos_x = 0.000000\n",
      "pos_y = 1.600000\n",
      "dim_x = 2.000000\n",
      "dim_y = 0.300000\n",
      "\n",
      "name = Oignon\n",
      "pos_x = 0.000000\n",
      "pos_y = 0.000000\n",
      "dim_x = 0.300000\n",
      "dim_y = 0.800000\n",
      "\n",
      "name = Carotte\n",
      "pos_x = 0.300000\n",
      "pos_y = 0.000000\n",
      "dim_x = 0.200000\n",
      "dim_y = 0.500000\n",
      "\n",
      "name = Pois\n",
      "pos_x = 1.200000\n",
      "pos_y = 0.000000\n",
      "dim_x = 0.800000\n",
      "dim_y = 0.500000\n",
      "\n",
      "name = Asperge\n",
      "pos_x = 1.300000\n",
      "pos_y = 0.800000\n",
      "dim_x = 0.300000\n",
      "dim_y = 0.300000\n"
     ]
    },
    {
     "data": {
      "image/png": "[encoded data removed]",
      "text/plain": [
       "<Figure size 432x288 with 1 Axes>"
      ]
     },
     "metadata": {},
     "output_type": "display_data"
    },
    {
     "name": "stderr",
     "output_type": "stream",
     "text": [
      "No handles with labels found to put in legend.\n"
     ]
    },
    {
     "name": "stdout",
     "output_type": "stream",
     "text": [
      "\n",
      "name = Poireau\n",
      "pos_x = 0.000000\n",
      "pos_y = 1.500000\n",
      "dim_x = 2.000000\n",
      "dim_y = 0.300000\n",
      "\n",
      "name = Oignon\n",
      "pos_x = 0.000000\n",
      "pos_y = 0.300000\n",
      "dim_x = 0.300000\n",
      "dim_y = 0.800000\n",
      "\n",
      "name = Carotte\n",
      "pos_x = 0.300000\n",
      "pos_y = 0.000000\n",
      "dim_x = 0.200000\n",
      "dim_y = 0.500000\n",
      "\n",
      "name = Pois\n",
      "pos_x = 1.200000\n",
      "pos_y = 0.000000\n",
      "dim_x = 0.800000\n",
      "dim_y = 0.500000\n",
      "\n",
      "name = Asperge\n",
      "pos_x = 1.300000\n",
      "pos_y = 0.700000\n",
      "dim_x = 0.300000\n",
      "dim_y = 0.300000\n"
     ]
    },
    {
     "data": {
      "image/png": "[encoded data removed]",
      "text/plain": [
       "<Figure size 432x288 with 1 Axes>"
      ]
     },
     "metadata": {},
     "output_type": "display_data"
    },
    {
     "name": "stderr",
     "output_type": "stream",
     "text": [
      "No handles with labels found to put in legend.\n"
     ]
    },
    {
     "name": "stdout",
     "output_type": "stream",
     "text": [
      "\n",
      "name = Poireau\n",
      "pos_x = 0.000000\n",
      "pos_y = 1.500000\n",
      "dim_x = 2.000000\n",
      "dim_y = 0.300000\n",
      "\n",
      "name = Oignon\n",
      "pos_x = 0.000000\n",
      "pos_y = 0.000000\n",
      "dim_x = 0.300000\n",
      "dim_y = 0.800000\n",
      "\n",
      "name = Carotte\n",
      "pos_x = 0.300000\n",
      "pos_y = 0.000000\n",
      "dim_x = 0.200000\n",
      "dim_y = 0.500000\n",
      "\n",
      "name = Pois\n",
      "pos_x = 1.200000\n",
      "pos_y = 0.000000\n",
      "dim_x = 0.800000\n",
      "dim_y = 0.500000\n",
      "\n",
      "name = Asperge\n",
      "pos_x = 1.300000\n",
      "pos_y = 0.900000\n",
      "dim_x = 0.300000\n",
      "dim_y = 0.300000\n"
     ]
    },
    {
     "data": {
      "image/png": "[encoded data removed]",
      "text/plain": [
       "<Figure size 432x288 with 1 Axes>"
      ]
     },
     "metadata": {},
     "output_type": "display_data"
    },
    {
     "name": "stderr",
     "output_type": "stream",
     "text": [
      "No handles with labels found to put in legend.\n"
     ]
    },
    {
     "name": "stdout",
     "output_type": "stream",
     "text": [
      "\n",
      "name = Poireau\n",
      "pos_x = 0.000000\n",
      "pos_y = 1.500000\n",
      "dim_x = 2.000000\n",
      "dim_y = 0.300000\n",
      "\n",
      "name = Oignon\n",
      "pos_x = 0.000000\n",
      "pos_y = 0.000000\n",
      "dim_x = 0.300000\n",
      "dim_y = 0.800000\n",
      "\n",
      "name = Carotte\n",
      "pos_x = 0.300000\n",
      "pos_y = 0.000000\n",
      "dim_x = 0.200000\n",
      "dim_y = 0.500000\n",
      "\n",
      "name = Pois\n",
      "pos_x = 1.200000\n",
      "pos_y = 0.000000\n",
      "dim_x = 0.800000\n",
      "dim_y = 0.500000\n",
      "\n",
      "name = Asperge\n",
      "pos_x = 1.300000\n",
      "pos_y = 1.000000\n",
      "dim_x = 0.300000\n",
      "dim_y = 0.300000\n"
     ]
    },
    {
     "data": {
      "image/png": "[encoded data removed]",
      "text/plain": [
       "<Figure size 432x288 with 1 Axes>"
      ]
     },
     "metadata": {},
     "output_type": "display_data"
    },
    {
     "name": "stderr",
     "output_type": "stream",
     "text": [
      "No handles with labels found to put in legend.\n"
     ]
    },
    {
     "name": "stdout",
     "output_type": "stream",
     "text": [
      "\n",
      "name = Poireau\n",
      "pos_x = 0.000000\n",
      "pos_y = 1.500000\n",
      "dim_x = 2.000000\n",
      "dim_y = 0.300000\n",
      "\n",
      "name = Oignon\n",
      "pos_x = 0.000000\n",
      "pos_y = 0.000000\n",
      "dim_x = 0.300000\n",
      "dim_y = 0.800000\n",
      "\n",
      "name = Carotte\n",
      "pos_x = 0.300000\n",
      "pos_y = 0.000000\n",
      "dim_x = 0.200000\n",
      "dim_y = 0.500000\n",
      "\n",
      "name = Pois\n",
      "pos_x = 1.200000\n",
      "pos_y = 0.100000\n",
      "dim_x = 0.800000\n",
      "dim_y = 0.500000\n",
      "\n",
      "name = Asperge\n",
      "pos_x = 1.300000\n",
      "pos_y = 0.900000\n",
      "dim_x = 0.300000\n",
      "dim_y = 0.300000\n"
     ]
    },
    {
     "data": {
      "image/png": "[encoded data removed]",
      "text/plain": [
       "<Figure size 432x288 with 1 Axes>"
      ]
     },
     "metadata": {},
     "output_type": "display_data"
    },
    {
     "name": "stderr",
     "output_type": "stream",
     "text": [
      "No handles with labels found to put in legend.\n"
     ]
    },
    {
     "name": "stdout",
     "output_type": "stream",
     "text": [
      "\n",
      "name = Poireau\n",
      "pos_x = 0.000000\n",
      "pos_y = 1.600000\n",
      "dim_x = 2.000000\n",
      "dim_y = 0.300000\n",
      "\n",
      "name = Oignon\n",
      "pos_x = 0.000000\n",
      "pos_y = 0.000000\n",
      "dim_x = 0.300000\n",
      "dim_y = 0.800000\n",
      "\n",
      "name = Carotte\n",
      "pos_x = 0.300000\n",
      "pos_y = 0.000000\n",
      "dim_x = 0.200000\n",
      "dim_y = 0.500000\n",
      "\n",
      "name = Pois\n",
      "pos_x = 1.200000\n",
      "pos_y = 0.100000\n",
      "dim_x = 0.800000\n",
      "dim_y = 0.500000\n",
      "\n",
      "name = Asperge\n",
      "pos_x = 1.300000\n",
      "pos_y = 0.800000\n",
      "dim_x = 0.300000\n",
      "dim_y = 0.300000\n"
     ]
    },
    {
     "data": {
      "image/png": "[encoded data removed]",
      "text/plain": [
       "<Figure size 432x288 with 1 Axes>"
      ]
     },
     "metadata": {},
     "output_type": "display_data"
    },
    {
     "name": "stderr",
     "output_type": "stream",
     "text": [
      "No handles with labels found to put in legend.\n"
     ]
    },
    {
     "name": "stdout",
     "output_type": "stream",
     "text": [
      "\n",
      "name = Poireau\n",
      "pos_x = 0.000000\n",
      "pos_y = 1.500000\n",
      "dim_x = 2.000000\n",
      "dim_y = 0.300000\n",
      "\n",
      "name = Oignon\n",
      "pos_x = 0.000000\n",
      "pos_y = 0.200000\n",
      "dim_x = 0.300000\n",
      "dim_y = 0.800000\n",
      "\n",
      "name = Carotte\n",
      "pos_x = 0.300000\n",
      "pos_y = 0.000000\n",
      "dim_x = 0.200000\n",
      "dim_y = 0.500000\n",
      "\n",
      "name = Pois\n",
      "pos_x = 1.200000\n",
      "pos_y = 0.100000\n",
      "dim_x = 0.800000\n",
      "dim_y = 0.500000\n",
      "\n",
      "name = Asperge\n",
      "pos_x = 1.300000\n",
      "pos_y = 0.700000\n",
      "dim_x = 0.300000\n",
      "dim_y = 0.300000\n"
     ]
    },
    {
     "data": {
      "image/png": "[encoded data removed]",
      "text/plain": [
       "<Figure size 432x288 with 1 Axes>"
      ]
     },
     "metadata": {},
     "output_type": "display_data"
    },
    {
     "name": "stderr",
     "output_type": "stream",
     "text": [
      "No handles with labels found to put in legend.\n"
     ]
    },
    {
     "name": "stdout",
     "output_type": "stream",
     "text": [
      "\n",
      "name = Poireau\n",
      "pos_x = 0.000000\n",
      "pos_y = 1.600000\n",
      "dim_x = 2.000000\n",
      "dim_y = 0.300000\n",
      "\n",
      "name = Oignon\n",
      "pos_x = 0.000000\n",
      "pos_y = 0.000000\n",
      "dim_x = 0.300000\n",
      "dim_y = 0.800000\n",
      "\n",
      "name = Carotte\n",
      "pos_x = 0.300000\n",
      "pos_y = 0.000000\n",
      "dim_x = 0.200000\n",
      "dim_y = 0.500000\n",
      "\n",
      "name = Pois\n",
      "pos_x = 1.200000\n",
      "pos_y = 0.000000\n",
      "dim_x = 0.800000\n",
      "dim_y = 0.500000\n",
      "\n",
      "name = Asperge\n",
      "pos_x = 1.300000\n",
      "pos_y = 0.900000\n",
      "dim_x = 0.300000\n",
      "dim_y = 0.300000\n"
     ]
    },
    {
     "data": {
      "image/png": "[encoded data removed]",
      "text/plain": [
       "<Figure size 432x288 with 1 Axes>"
      ]
     },
     "metadata": {},
     "output_type": "display_data"
    },
    {
     "name": "stderr",
     "output_type": "stream",
     "text": [
      "No handles with labels found to put in legend.\n"
     ]
    },
    {
     "name": "stdout",
     "output_type": "stream",
     "text": [
      "\n",
      "name = Poireau\n",
      "pos_x = 0.000000\n",
      "pos_y = 1.500000\n",
      "dim_x = 2.000000\n",
      "dim_y = 0.300000\n",
      "\n",
      "name = Oignon\n",
      "pos_x = 0.000000\n",
      "pos_y = 0.000000\n",
      "dim_x = 0.300000\n",
      "dim_y = 0.800000\n",
      "\n",
      "name = Carotte\n",
      "pos_x = 0.300000\n",
      "pos_y = 0.000000\n",
      "dim_x = 0.200000\n",
      "dim_y = 0.500000\n",
      "\n",
      "name = Pois\n",
      "pos_x = 1.200000\n",
      "pos_y = 0.100000\n",
      "dim_x = 0.800000\n",
      "dim_y = 0.500000\n",
      "\n",
      "name = Asperge\n",
      "pos_x = 1.300000\n",
      "pos_y = 1.000000\n",
      "dim_x = 0.300000\n",
      "dim_y = 0.300000\n"
     ]
    },
    {
     "data": {
      "image/png": "[encoded data removed]",
      "text/plain": [
       "<Figure size 432x288 with 1 Axes>"
      ]
     },
     "metadata": {},
     "output_type": "display_data"
    },
    {
     "name": "stderr",
     "output_type": "stream",
     "text": [
      "No handles with labels found to put in legend.\n"
     ]
    },
    {
     "name": "stdout",
     "output_type": "stream",
     "text": [
      "\n",
      "name = Poireau\n",
      "pos_x = 0.000000\n",
      "pos_y = 1.500000\n",
      "dim_x = 2.000000\n",
      "dim_y = 0.300000\n",
      "\n",
      "name = Oignon\n",
      "pos_x = 0.000000\n",
      "pos_y = 0.400000\n",
      "dim_x = 0.300000\n",
      "dim_y = 0.800000\n",
      "\n",
      "name = Carotte\n",
      "pos_x = 0.300000\n",
      "pos_y = 0.000000\n",
      "dim_x = 0.200000\n",
      "dim_y = 0.500000\n",
      "\n",
      "name = Pois\n",
      "pos_x = 1.200000\n",
      "pos_y = 0.000000\n",
      "dim_x = 0.800000\n",
      "dim_y = 0.500000\n",
      "\n",
      "name = Asperge\n",
      "pos_x = 1.300000\n",
      "pos_y = 0.700000\n",
      "dim_x = 0.300000\n",
      "dim_y = 0.300000\n"
     ]
    },
    {
     "data": {
      "image/png": "[encoded data removed]",
      "text/plain": [
       "<Figure size 432x288 with 1 Axes>"
      ]
     },
     "metadata": {},
     "output_type": "display_data"
    },
    {
     "name": "stderr",
     "output_type": "stream",
     "text": [
      "No handles with labels found to put in legend.\n"
     ]
    },
    {
     "name": "stdout",
     "output_type": "stream",
     "text": [
      "\n",
      "name = Poireau\n",
      "pos_x = 0.000000\n",
      "pos_y = 1.600000\n",
      "dim_x = 2.000000\n",
      "dim_y = 0.300000\n",
      "\n",
      "name = Oignon\n",
      "pos_x = 0.000000\n",
      "pos_y = 0.000000\n",
      "dim_x = 0.300000\n",
      "dim_y = 0.800000\n",
      "\n",
      "name = Carotte\n",
      "pos_x = 0.300000\n",
      "pos_y = 0.000000\n",
      "dim_x = 0.200000\n",
      "dim_y = 0.500000\n",
      "\n",
      "name = Pois\n",
      "pos_x = 1.200000\n",
      "pos_y = 0.000000\n",
      "dim_x = 0.800000\n",
      "dim_y = 0.500000\n",
      "\n",
      "name = Asperge\n",
      "pos_x = 1.300000\n",
      "pos_y = 1.000000\n",
      "dim_x = 0.300000\n",
      "dim_y = 0.300000\n"
     ]
    },
    {
     "data": {
      "image/png": "[encoded data removed]",
      "text/plain": [
       "<Figure size 432x288 with 1 Axes>"
      ]
     },
     "metadata": {},
     "output_type": "display_data"
    },
    {
     "name": "stdout",
     "output_type": "stream",
     "text": [
      "\n",
      "name = Poireau\n",
      "pos_x = 0.000000\n",
      "pos_y = 1.500000\n",
      "dim_x = 2.000000\n",
      "dim_y = 0.300000\n",
      "\n",
      "name = Oignon\n",
      "pos_x = 0.000000\n",
      "pos_y = 0.000000\n",
      "dim_x = 0.300000\n",
      "dim_y = 0.800000\n",
      "\n",
      "name = Carotte\n",
      "pos_x = 0.300000\n",
      "pos_y = 0.000000\n",
      "dim_x = 0.200000"
     ]
    },
    {
     "name": "stderr",
     "output_type": "stream",
     "text": [
      "No handles with labels found to put in legend.\n"
     ]
    },
    {
     "name": "stdout",
     "output_type": "stream",
     "text": [
      "\n",
      "dim_y = 0.500000\n",
      "\n",
      "name = Pois\n",
      "pos_x = 1.200000\n",
      "pos_y = 0.100000\n",
      "dim_x = 0.800000\n",
      "dim_y = 0.500000\n",
      "\n",
      "name = Asperge\n",
      "pos_x = 1.300000\n",
      "pos_y = 1.100000\n",
      "dim_x = 0.300000\n",
      "dim_y = 0.300000\n"
     ]
    },
    {
     "data": {
      "image/png": "[encoded data removed]",
      "text/plain": [
       "<Figure size 432x288 with 1 Axes>"
      ]
     },
     "metadata": {},
     "output_type": "display_data"
    },
    {
     "name": "stderr",
     "output_type": "stream",
     "text": [
      "No handles with labels found to put in legend.\n"
     ]
    },
    {
     "name": "stdout",
     "output_type": "stream",
     "text": [
      "\n",
      "name = Poireau\n",
      "pos_x = 0.000000\n",
      "pos_y = 1.500000\n",
      "dim_x = 2.000000\n",
      "dim_y = 0.300000\n",
      "\n",
      "name = Oignon\n",
      "pos_x = 0.000000\n",
      "pos_y = 0.100000\n",
      "dim_x = 0.300000\n",
      "dim_y = 0.800000\n",
      "\n",
      "name = Carotte\n",
      "pos_x = 0.300000\n",
      "pos_y = 0.000000\n",
      "dim_x = 0.200000\n",
      "dim_y = 0.500000\n",
      "\n",
      "name = Pois\n",
      "pos_x = 1.200000\n",
      "pos_y = 0.000000\n",
      "dim_x = 0.800000\n",
      "dim_y = 0.500000\n",
      "\n",
      "name = Asperge\n",
      "pos_x = 1.300000\n",
      "pos_y = 0.800000\n",
      "dim_x = 0.300000\n",
      "dim_y = 0.300000\n"
     ]
    },
    {
     "data": {
      "image/png": "[encoded data removed]",
      "text/plain": [
       "<Figure size 432x288 with 1 Axes>"
      ]
     },
     "metadata": {},
     "output_type": "display_data"
    },
    {
     "name": "stderr",
     "output_type": "stream",
     "text": [
      "No handles with labels found to put in legend.\n"
     ]
    },
    {
     "name": "stdout",
     "output_type": "stream",
     "text": [
      "\n",
      "name = Poireau\n",
      "pos_x = 0.000000\n",
      "pos_y = 1.600000\n",
      "dim_x = 2.000000\n",
      "dim_y = 0.300000\n",
      "\n",
      "name = Oignon\n",
      "pos_x = 0.000000\n",
      "pos_y = 0.000000\n",
      "dim_x = 0.300000\n",
      "dim_y = 0.800000\n",
      "\n",
      "name = Carotte\n",
      "pos_x = 0.300000\n",
      "pos_y = 0.000000\n",
      "dim_x = 0.200000\n",
      "dim_y = 0.500000\n",
      "\n",
      "name = Pois\n",
      "pos_x = 1.200000\n",
      "pos_y = 0.200000\n",
      "dim_x = 0.800000\n",
      "dim_y = 0.500000\n",
      "\n",
      "name = Asperge\n",
      "pos_x = 1.300000\n",
      "pos_y = 0.800000\n",
      "dim_x = 0.300000\n",
      "dim_y = 0.300000\n"
     ]
    },
    {
     "data": {
      "image/png": "[encoded data removed]",
      "text/plain": [
       "<Figure size 432x288 with 1 Axes>"
      ]
     },
     "metadata": {},
     "output_type": "display_data"
    },
    {
     "name": "stderr",
     "output_type": "stream",
     "text": [
      "No handles with labels found to put in legend.\n"
     ]
    },
    {
     "name": "stdout",
     "output_type": "stream",
     "text": [
      "\n",
      "name = Poireau\n",
      "pos_x = 0.000000\n",
      "pos_y = 1.600000\n",
      "dim_x = 2.000000\n",
      "dim_y = 0.300000\n",
      "\n",
      "name = Oignon\n",
      "pos_x = 0.000000\n",
      "pos_y = 0.000000\n",
      "dim_x = 0.300000\n",
      "dim_y = 0.800000\n",
      "\n",
      "name = Carotte\n",
      "pos_x = 0.300000\n",
      "pos_y = 0.100000\n",
      "dim_x = 0.200000\n",
      "dim_y = 0.500000\n",
      "\n",
      "name = Pois\n",
      "pos_x = 1.200000\n",
      "pos_y = 0.000000\n",
      "dim_x = 0.800000\n",
      "dim_y = 0.500000\n",
      "\n",
      "name = Asperge\n",
      "pos_x = 1.300000\n",
      "pos_y = 0.800000\n",
      "dim_x = 0.300000\n",
      "dim_y = 0.300000\n"
     ]
    },
    {
     "data": {
      "image/png": "[encoded data removed]",
      "text/plain": [
       "<Figure size 432x288 with 1 Axes>"
      ]
     },
     "metadata": {},
     "output_type": "display_data"
    },
    {
     "name": "stderr",
     "output_type": "stream",
     "text": [
      "No handles with labels found to put in legend.\n"
     ]
    },
    {
     "name": "stdout",
     "output_type": "stream",
     "text": [
      "\n",
      "name = Poireau\n",
      "pos_x = 0.000000\n",
      "pos_y = 1.600000\n",
      "dim_x = 2.000000\n",
      "dim_y = 0.300000\n",
      "\n",
      "name = Oignon\n",
      "pos_x = 0.000000\n",
      "pos_y = 0.000000\n",
      "dim_x = 0.300000\n",
      "dim_y = 0.800000\n",
      "\n",
      "name = Carotte\n",
      "pos_x = 0.300000\n",
      "pos_y = 0.000000\n",
      "dim_x = 0.200000\n",
      "dim_y = 0.500000\n",
      "\n",
      "name = Pois\n",
      "pos_x = 1.200000\n",
      "pos_y = 0.100000\n",
      "dim_x = 0.800000\n",
      "dim_y = 0.500000\n",
      "\n",
      "name = Asperge\n",
      "pos_x = 1.300000\n",
      "pos_y = 0.900000\n",
      "dim_x = 0.300000\n",
      "dim_y = 0.300000\n"
     ]
    },
    {
     "data": {
      "image/png": "[encoded data removed]",
      "text/plain": [
       "<Figure size 432x288 with 1 Axes>"
      ]
     },
     "metadata": {},
     "output_type": "display_data"
    },
    {
     "name": "stderr",
     "output_type": "stream",
     "text": [
      "No handles with labels found to put in legend.\n"
     ]
    },
    {
     "name": "stdout",
     "output_type": "stream",
     "text": [
      "\n",
      "name = Poireau\n",
      "pos_x = 0.000000\n",
      "pos_y = 1.500000\n",
      "dim_x = 2.000000\n",
      "dim_y = 0.300000\n",
      "\n",
      "name = Oignon\n",
      "pos_x = 0.000000\n",
      "pos_y = 0.200000\n",
      "dim_x = 0.300000\n",
      "dim_y = 0.800000\n",
      "\n",
      "name = Carotte\n",
      "pos_x = 0.300000\n",
      "pos_y = 0.000000\n",
      "dim_x = 0.200000\n",
      "dim_y = 0.500000\n",
      "\n",
      "name = Pois\n",
      "pos_x = 1.200000\n",
      "pos_y = 0.000000\n",
      "dim_x = 0.800000\n",
      "dim_y = 0.500000\n",
      "\n",
      "name = Asperge\n",
      "pos_x = 1.300000\n",
      "pos_y = 0.800000\n",
      "dim_x = 0.300000\n",
      "dim_y = 0.300000\n"
     ]
    },
    {
     "data": {
      "image/png": "[encoded data removed]",
      "text/plain": [
       "<Figure size 432x288 with 1 Axes>"
      ]
     },
     "metadata": {},
     "output_type": "display_data"
    },
    {
     "name": "stderr",
     "output_type": "stream",
     "text": [
      "No handles with labels found to put in legend.\n"
     ]
    },
    {
     "name": "stdout",
     "output_type": "stream",
     "text": [
      "\n",
      "name = Poireau\n",
      "pos_x = 0.000000\n",
      "pos_y = 1.500000\n",
      "dim_x = 2.000000\n",
      "dim_y = 0.300000\n",
      "\n",
      "name = Oignon\n",
      "pos_x = 0.000000\n",
      "pos_y = 0.100000\n",
      "dim_x = 0.300000\n",
      "dim_y = 0.800000\n",
      "\n",
      "name = Carotte\n",
      "pos_x = 0.300000\n",
      "pos_y = 0.000000\n",
      "dim_x = 0.200000\n",
      "dim_y = 0.500000\n",
      "\n",
      "name = Pois\n",
      "pos_x = 1.200000\n",
      "pos_y = 0.000000\n",
      "dim_x = 0.800000\n",
      "dim_y = 0.500000\n",
      "\n",
      "name = Asperge\n",
      "pos_x = 1.300000\n",
      "pos_y = 0.900000\n",
      "dim_x = 0.300000\n",
      "dim_y = 0.300000\n"
     ]
    },
    {
     "data": {
      "image/png": "[encoded data removed]",
      "text/plain": [
       "<Figure size 432x288 with 1 Axes>"
      ]
     },
     "metadata": {},
     "output_type": "display_data"
    },
    {
     "name": "stderr",
     "output_type": "stream",
     "text": [
      "No handles with labels found to put in legend.\n"
     ]
    },
    {
     "name": "stdout",
     "output_type": "stream",
     "text": [
      "\n",
      "name = Poireau\n",
      "pos_x = 0.000000\n",
      "pos_y = 1.600000\n",
      "dim_x = 2.000000\n",
      "dim_y = 0.300000\n",
      "\n",
      "name = Oignon\n",
      "pos_x = 0.000000\n",
      "pos_y = 0.000000\n",
      "dim_x = 0.300000\n",
      "dim_y = 0.800000\n",
      "\n",
      "name = Carotte\n",
      "pos_x = 0.300000\n",
      "pos_y = 0.000000\n",
      "dim_x = 0.200000\n",
      "dim_y = 0.500000\n",
      "\n",
      "name = Pois\n",
      "pos_x = 1.200000\n",
      "pos_y = 0.200000\n",
      "dim_x = 0.800000\n",
      "dim_y = 0.500000\n",
      "\n",
      "name = Asperge\n",
      "pos_x = 1.300000\n",
      "pos_y = 0.900000\n",
      "dim_x = 0.300000\n",
      "dim_y = 0.300000\n"
     ]
    },
    {
     "data": {
      "image/png": "[encoded data removed]",
      "text/plain": [
       "<Figure size 432x288 with 1 Axes>"
      ]
     },
     "metadata": {},
     "output_type": "display_data"
    },
    {
     "name": "stderr",
     "output_type": "stream",
     "text": [
      "No handles with labels found to put in legend.\n"
     ]
    },
    {
     "name": "stdout",
     "output_type": "stream",
     "text": [
      "\n",
      "name = Poireau\n",
      "pos_x = 0.000000\n",
      "pos_y = 1.500000\n",
      "dim_x = 2.000000\n",
      "dim_y = 0.300000\n",
      "\n",
      "name = Oignon\n",
      "pos_x = 0.000000\n",
      "pos_y = 0.300000\n",
      "dim_x = 0.300000\n",
      "dim_y = 0.800000\n",
      "\n",
      "name = Carotte\n",
      "pos_x = 0.300000\n",
      "pos_y = 0.000000\n",
      "dim_x = 0.200000\n",
      "dim_y = 0.500000\n",
      "\n",
      "name = Pois\n",
      "pos_x = 1.200000\n",
      "pos_y = 0.000000\n",
      "dim_x = 0.800000\n",
      "dim_y = 0.500000\n",
      "\n",
      "name = Asperge\n",
      "pos_x = 1.300000\n",
      "pos_y = 0.800000\n",
      "dim_x = 0.300000\n",
      "dim_y = 0.300000\n"
     ]
    },
    {
     "data": {
      "image/png": "[encoded data removed]",
      "text/plain": [
       "<Figure size 432x288 with 1 Axes>"
      ]
     },
     "metadata": {},
     "output_type": "display_data"
    },
    {
     "name": "stdout",
     "output_type": "stream",
     "text": [
      "\n",
      "name = Poireau\n",
      "pos_x = 0.000000\n",
      "pos_y = 1.600000\n",
      "dim_x = 2.000000\n",
      "dim_y = 0.300000\n",
      "\n",
      "name = Oignon\n",
      "pos_x = 0.000000\n",
      "pos_y = 0.000000\n",
      "dim_x = 0.300000\n",
      "dim_y = 0.800000\n",
      "\n",
      "name = Carotte\n",
      "pos_x = 0.300000\n",
      "pos_y = 0.100000\n",
      "dim_x = 0.200000\n",
      "dim_y = 0.500000\n",
      "\n",
      "name = Pois\n",
      "pos_x = 1.200000\n",
      "pos_y = 0.000000\n",
      "dim_x = 0.800000"
     ]
    },
    {
     "name": "stderr",
     "output_type": "stream",
     "text": [
      "No handles with labels found to put in legend.\n"
     ]
    },
    {
     "name": "stdout",
     "output_type": "stream",
     "text": [
      "\n",
      "dim_y = 0.500000\n",
      "\n",
      "name = Asperge\n",
      "pos_x = 1.300000\n",
      "pos_y = 0.900000\n",
      "dim_x = 0.300000\n",
      "dim_y = 0.300000\n"
     ]
    },
    {
     "data": {
      "image/png": "[encoded data removed]",
      "text/plain": [
       "<Figure size 432x288 with 1 Axes>"
      ]
     },
     "metadata": {},
     "output_type": "display_data"
    },
    {
     "name": "stderr",
     "output_type": "stream",
     "text": [
      "No handles with labels found to put in legend.\n"
     ]
    },
    {
     "name": "stdout",
     "output_type": "stream",
     "text": [
      "\n",
      "name = Poireau\n",
      "pos_x = 0.000000\n",
      "pos_y = 1.500000\n",
      "dim_x = 2.000000\n",
      "dim_y = 0.300000\n",
      "\n",
      "name = Oignon\n",
      "pos_x = 0.000000\n",
      "pos_y = 0.400000\n",
      "dim_x = 0.300000\n",
      "dim_y = 0.800000\n",
      "\n",
      "name = Carotte\n",
      "pos_x = 0.300000\n",
      "pos_y = 0.000000\n",
      "dim_x = 0.200000\n",
      "dim_y = 0.500000\n",
      "\n",
      "name = Pois\n",
      "pos_x = 1.200000\n",
      "pos_y = 0.000000\n",
      "dim_x = 0.800000\n",
      "dim_y = 0.500000\n",
      "\n",
      "name = Asperge\n",
      "pos_x = 1.300000\n",
      "pos_y = 0.800000\n",
      "dim_x = 0.300000\n",
      "dim_y = 0.300000\n"
     ]
    },
    {
     "data": {
      "image/png": "[encoded data removed]",
      "text/plain": [
       "<Figure size 432x288 with 1 Axes>"
      ]
     },
     "metadata": {},
     "output_type": "display_data"
    },
    {
     "name": "stderr",
     "output_type": "stream",
     "text": [
      "No handles with labels found to put in legend.\n"
     ]
    },
    {
     "name": "stdout",
     "output_type": "stream",
     "text": [
      "\n",
      "name = Poireau\n",
      "pos_x = 0.000000\n",
      "pos_y = 1.500000\n",
      "dim_x = 2.000000\n",
      "dim_y = 0.300000\n",
      "\n",
      "name = Oignon\n",
      "pos_x = 0.000000\n",
      "pos_y = 0.200000\n",
      "dim_x = 0.300000\n",
      "dim_y = 0.800000\n",
      "\n",
      "name = Carotte\n",
      "pos_x = 0.300000\n",
      "pos_y = 0.000000\n",
      "dim_x = 0.200000\n",
      "dim_y = 0.500000\n",
      "\n",
      "name = Pois\n",
      "pos_x = 1.200000\n",
      "pos_y = 0.000000\n",
      "dim_x = 0.800000\n",
      "dim_y = 0.500000\n",
      "\n",
      "name = Asperge\n",
      "pos_x = 1.300000\n",
      "pos_y = 0.900000\n",
      "dim_x = 0.300000\n",
      "dim_y = 0.300000\n"
     ]
    },
    {
     "data": {
      "image/png": "[encoded data removed]",
      "text/plain": [
       "<Figure size 432x288 with 1 Axes>"
      ]
     },
     "metadata": {},
     "output_type": "display_data"
    },
    {
     "name": "stderr",
     "output_type": "stream",
     "text": [
      "No handles with labels found to put in legend.\n"
     ]
    },
    {
     "name": "stdout",
     "output_type": "stream",
     "text": [
      "\n",
      "name = Poireau\n",
      "pos_x = 0.000000\n",
      "pos_y = 1.500000\n",
      "dim_x = 2.000000\n",
      "dim_y = 0.300000\n",
      "\n",
      "name = Oignon\n",
      "pos_x = 0.000000\n",
      "pos_y = 0.100000\n",
      "dim_x = 0.300000\n",
      "dim_y = 0.800000\n",
      "\n",
      "name = Carotte\n",
      "pos_x = 0.300000\n",
      "pos_y = 0.000000\n",
      "dim_x = 0.200000\n",
      "dim_y = 0.500000\n",
      "\n",
      "name = Pois\n",
      "pos_x = 1.200000\n",
      "pos_y = 0.000000\n",
      "dim_x = 0.800000\n",
      "dim_y = 0.500000\n",
      "\n",
      "name = Asperge\n",
      "pos_x = 1.300000\n",
      "pos_y = 1.000000\n",
      "dim_x = 0.300000\n",
      "dim_y = 0.300000\n"
     ]
    },
    {
     "data": {
      "image/png": "[encoded data removed]",
      "text/plain": [
       "<Figure size 432x288 with 1 Axes>"
      ]
     },
     "metadata": {},
     "output_type": "display_data"
    },
    {
     "name": "stderr",
     "output_type": "stream",
     "text": [
      "No handles with labels found to put in legend.\n"
     ]
    },
    {
     "name": "stdout",
     "output_type": "stream",
     "text": [
      "\n",
      "name = Poireau\n",
      "pos_x = 0.000000\n",
      "pos_y = 1.600000\n",
      "dim_x = 2.000000\n",
      "dim_y = 0.300000\n",
      "\n",
      "name = Oignon\n",
      "pos_x = 0.000000\n",
      "pos_y = 0.000000\n",
      "dim_x = 0.300000\n",
      "dim_y = 0.800000\n",
      "\n",
      "name = Carotte\n",
      "pos_x = 0.300000\n",
      "pos_y = 0.000000\n",
      "dim_x = 0.200000\n",
      "dim_y = 0.500000\n",
      "\n",
      "name = Pois\n",
      "pos_x = 1.200000\n",
      "pos_y = 0.100000\n",
      "dim_x = 0.800000\n",
      "dim_y = 0.500000\n",
      "\n",
      "name = Asperge\n",
      "pos_x = 1.300000\n",
      "pos_y = 1.000000\n",
      "dim_x = 0.300000\n",
      "dim_y = 0.300000\n"
     ]
    },
    {
     "data": {
      "image/png": "[encoded data removed]",
      "text/plain": [
       "<Figure size 432x288 with 1 Axes>"
      ]
     },
     "metadata": {},
     "output_type": "display_data"
    },
    {
     "name": "stderr",
     "output_type": "stream",
     "text": [
      "No handles with labels found to put in legend.\n"
     ]
    },
    {
     "name": "stdout",
     "output_type": "stream",
     "text": [
      "\n",
      "name = Poireau\n",
      "pos_x = 0.000000\n",
      "pos_y = 1.500000\n",
      "dim_x = 2.000000\n",
      "dim_y = 0.300000\n",
      "\n",
      "name = Oignon\n",
      "pos_x = 0.000000\n",
      "pos_y = 0.200000\n",
      "dim_x = 0.300000\n",
      "dim_y = 0.800000\n",
      "\n",
      "name = Carotte\n",
      "pos_x = 0.300000\n",
      "pos_y = 0.000000\n",
      "dim_x = 0.200000\n",
      "dim_y = 0.500000\n",
      "\n",
      "name = Pois\n",
      "pos_x = 1.200000\n",
      "pos_y = 0.000000\n",
      "dim_x = 0.800000\n",
      "dim_y = 0.500000\n",
      "\n",
      "name = Asperge\n",
      "pos_x = 1.300000\n",
      "pos_y = 1.000000\n",
      "dim_x = 0.300000\n",
      "dim_y = 0.300000\n"
     ]
    },
    {
     "data": {
      "image/png": "[encoded data removed]",
      "text/plain": [
       "<Figure size 432x288 with 1 Axes>"
      ]
     },
     "metadata": {},
     "output_type": "display_data"
    },
    {
     "name": "stderr",
     "output_type": "stream",
     "text": [
      "No handles with labels found to put in legend.\n"
     ]
    },
    {
     "name": "stdout",
     "output_type": "stream",
     "text": [
      "\n",
      "name = Poireau\n",
      "pos_x = 0.000000\n",
      "pos_y = 1.600000\n",
      "dim_x = 2.000000\n",
      "dim_y = 0.300000\n",
      "\n",
      "name = Oignon\n",
      "pos_x = 0.000000\n",
      "pos_y = 0.000000\n",
      "dim_x = 0.300000\n",
      "dim_y = 0.800000\n",
      "\n",
      "name = Carotte\n",
      "pos_x = 0.300000\n",
      "pos_y = 0.100000\n",
      "dim_x = 0.200000\n",
      "dim_y = 0.500000\n",
      "\n",
      "name = Pois\n",
      "pos_x = 1.200000\n",
      "pos_y = 0.000000\n",
      "dim_x = 0.800000\n",
      "dim_y = 0.500000\n",
      "\n",
      "name = Asperge\n",
      "pos_x = 1.300000\n",
      "pos_y = 1.000000\n",
      "dim_x = 0.300000\n",
      "dim_y = 0.300000\n"
     ]
    },
    {
     "data": {
      "image/png": "[encoded data removed]",
      "text/plain": [
       "<Figure size 432x288 with 1 Axes>"
      ]
     },
     "metadata": {},
     "output_type": "display_data"
    },
    {
     "name": "stderr",
     "output_type": "stream",
     "text": [
      "No handles with labels found to put in legend.\n"
     ]
    },
    {
     "name": "stdout",
     "output_type": "stream",
     "text": [
      "\n",
      "name = Poireau\n",
      "pos_x = 0.000000\n",
      "pos_y = 1.600000\n",
      "dim_x = 2.000000\n",
      "dim_y = 0.300000\n",
      "\n",
      "name = Oignon\n",
      "pos_x = 0.000000\n",
      "pos_y = 0.000000\n",
      "dim_x = 0.300000\n",
      "dim_y = 0.800000\n",
      "\n",
      "name = Carotte\n",
      "pos_x = 0.300000\n",
      "pos_y = 0.000000\n",
      "dim_x = 0.200000\n",
      "dim_y = 0.500000\n",
      "\n",
      "name = Pois\n",
      "pos_x = 1.200000\n",
      "pos_y = 0.200000\n",
      "dim_x = 0.800000\n",
      "dim_y = 0.500000\n",
      "\n",
      "name = Asperge\n",
      "pos_x = 1.300000\n",
      "pos_y = 1.000000\n",
      "dim_x = 0.300000\n",
      "dim_y = 0.300000\n"
     ]
    },
    {
     "data": {
      "image/png": "[encoded data removed]",
      "text/plain": [
       "<Figure size 432x288 with 1 Axes>"
      ]
     },
     "metadata": {},
     "output_type": "display_data"
    },
    {
     "name": "stderr",
     "output_type": "stream",
     "text": [
      "No handles with labels found to put in legend.\n"
     ]
    },
    {
     "name": "stdout",
     "output_type": "stream",
     "text": [
      "\n",
      "name = Poireau\n",
      "pos_x = 0.000000\n",
      "pos_y = 1.500000\n",
      "dim_x = 2.000000\n",
      "dim_y = 0.300000\n",
      "\n",
      "name = Oignon\n",
      "pos_x = 0.000000\n",
      "pos_y = 0.300000\n",
      "dim_x = 0.300000\n",
      "dim_y = 0.800000\n",
      "\n",
      "name = Carotte\n",
      "pos_x = 0.300000\n",
      "pos_y = 0.000000\n",
      "dim_x = 0.200000\n",
      "dim_y = 0.500000\n",
      "\n",
      "name = Pois\n",
      "pos_x = 1.200000\n",
      "pos_y = 0.000000\n",
      "dim_x = 0.800000\n",
      "dim_y = 0.500000\n",
      "\n",
      "name = Asperge\n",
      "pos_x = 1.300000\n",
      "pos_y = 0.900000\n",
      "dim_x = 0.300000\n",
      "dim_y = 0.300000\n"
     ]
    },
    {
     "data": {
      "image/png": "[encoded data removed]",
      "text/plain": [
       "<Figure size 432x288 with 1 Axes>"
      ]
     },
     "metadata": {},
     "output_type": "display_data"
    },
    {
     "name": "stderr",
     "output_type": "stream",
     "text": [
      "No handles with labels found to put in legend.\n"
     ]
    },
    {
     "name": "stdout",
     "output_type": "stream",
     "text": [
      "\n",
      "name = Poireau\n",
      "pos_x = 0.000000\n",
      "pos_y = 1.500000\n",
      "dim_x = 2.000000\n",
      "dim_y = 0.300000\n",
      "\n",
      "name = Oignon\n",
      "pos_x = 0.000000\n",
      "pos_y = 0.400000\n",
      "dim_x = 0.300000\n",
      "dim_y = 0.800000\n",
      "\n",
      "name = Carotte\n",
      "pos_x = 0.300000\n",
      "pos_y = 0.000000\n",
      "dim_x = 0.200000\n",
      "dim_y = 0.500000\n",
      "\n",
      "name = Pois\n",
      "pos_x = 1.200000\n",
      "pos_y = 0.000000\n",
      "dim_x = 0.800000\n",
      "dim_y = 0.500000\n",
      "\n",
      "name = Asperge\n",
      "pos_x = 1.300000\n",
      "pos_y = 0.900000\n",
      "dim_x = 0.300000\n",
      "dim_y = 0.300000\n"
     ]
    },
    {
     "data": {
      "image/png": "[encoded data removed]",
      "text/plain": [
       "<Figure size 432x288 with 1 Axes>"
      ]
     },
     "metadata": {},
     "output_type": "display_data"
    },
    {
     "name": "stderr",
     "output_type": "stream",
     "text": [
      "No handles with labels found to put in legend.\n"
     ]
    },
    {
     "name": "stdout",
     "output_type": "stream",
     "text": [
      "\n",
      "name = Poireau\n",
      "pos_x = 0.000000\n",
      "pos_y = 1.600000\n",
      "dim_x = 2.000000\n",
      "dim_y = 0.300000\n",
      "\n",
      "name = Oignon\n",
      "pos_x = 0.000000\n",
      "pos_y = 0.000000\n",
      "dim_x = 0.300000\n",
      "dim_y = 0.800000\n",
      "\n",
      "name = Carotte\n",
      "pos_x = 0.300000\n",
      "pos_y = 0.000000\n",
      "dim_x = 0.200000\n",
      "dim_y = 0.500000\n",
      "\n",
      "name = Pois\n",
      "pos_x = 1.200000\n",
      "pos_y = 0.100000\n",
      "dim_x = 0.800000\n",
      "dim_y = 0.500000\n",
      "\n",
      "name = Asperge\n",
      "pos_x = 1.300000\n",
      "pos_y = 1.100000\n",
      "dim_x = 0.300000\n",
      "dim_y = 0.300000\n"
     ]
    },
    {
     "data": {
      "image/png": "[encoded data removed]",
      "text/plain": [
       "<Figure size 432x288 with 1 Axes>"
      ]
     },
     "metadata": {},
     "output_type": "display_data"
    },
    {
     "name": "stderr",
     "output_type": "stream",
     "text": [
      "No handles with labels found to put in legend.\n"
     ]
    },
    {
     "name": "stdout",
     "output_type": "stream",
     "text": [
      "\n",
      "name = Poireau\n",
      "pos_x = 0.000000\n",
      "pos_y = 1.500000\n",
      "dim_x = 2.000000\n",
      "dim_y = 0.300000\n",
      "\n",
      "name = Oignon\n",
      "pos_x = 0.000000\n",
      "pos_y = 0.300000\n",
      "dim_x = 0.300000\n",
      "dim_y = 0.800000\n",
      "\n",
      "name = Carotte\n",
      "pos_x = 0.300000\n",
      "pos_y = 0.000000\n",
      "dim_x = 0.200000\n",
      "dim_y = 0.500000\n",
      "\n",
      "name = Pois\n",
      "pos_x = 1.200000\n",
      "pos_y = 0.000000\n",
      "dim_x = 0.800000\n",
      "dim_y = 0.500000\n",
      "\n",
      "name = Asperge\n",
      "pos_x = 1.300000\n",
      "pos_y = 1.000000\n",
      "dim_x = 0.300000\n",
      "dim_y = 0.300000\n"
     ]
    },
    {
     "data": {
      "image/png": "[encoded data removed]",
      "text/plain": [
       "<Figure size 432x288 with 1 Axes>"
      ]
     },
     "metadata": {},
     "output_type": "display_data"
    },
    {
     "name": "stderr",
     "output_type": "stream",
     "text": [
      "No handles with labels found to put in legend.\n"
     ]
    },
    {
     "name": "stdout",
     "output_type": "stream",
     "text": [
      "\n",
      "name = Poireau\n",
      "pos_x = 0.000000\n",
      "pos_y = 1.600000\n",
      "dim_x = 2.000000\n",
      "dim_y = 0.300000\n",
      "\n",
      "name = Oignon\n",
      "pos_x = 0.000000\n",
      "pos_y = 0.000000\n",
      "dim_x = 0.300000\n",
      "dim_y = 0.800000\n",
      "\n",
      "name = Carotte\n",
      "pos_x = 0.300000\n",
      "pos_y = 0.000000\n",
      "dim_x = 0.200000\n",
      "dim_y = 0.500000\n",
      "\n",
      "name = Pois\n",
      "pos_x = 1.200000\n",
      "pos_y = 0.200000\n",
      "dim_x = 0.800000\n",
      "dim_y = 0.500000\n",
      "\n",
      "name = Asperge\n",
      "pos_x = 1.300000\n",
      "pos_y = 1.100000\n",
      "dim_x = 0.300000\n",
      "dim_y = 0.300000\n"
     ]
    },
    {
     "data": {
      "image/png": "[encoded data removed]",
      "text/plain": [
       "<Figure size 432x288 with 1 Axes>"
      ]
     },
     "metadata": {},
     "output_type": "display_data"
    },
    {
     "name": "stderr",
     "output_type": "stream",
     "text": [
      "No handles with labels found to put in legend.\n"
     ]
    },
    {
     "name": "stdout",
     "output_type": "stream",
     "text": [
      "\n",
      "name = Poireau\n",
      "pos_x = 0.000000\n",
      "pos_y = 1.500000\n",
      "dim_x = 2.000000\n",
      "dim_y = 0.300000\n",
      "\n",
      "name = Oignon\n",
      "pos_x = 0.000000\n",
      "pos_y = 0.400000\n",
      "dim_x = 0.300000\n",
      "dim_y = 0.800000\n",
      "\n",
      "name = Carotte\n",
      "pos_x = 0.300000\n",
      "pos_y = 0.000000\n",
      "dim_x = 0.200000\n",
      "dim_y = 0.500000\n",
      "\n",
      "name = Pois\n",
      "pos_x = 1.200000\n",
      "pos_y = 0.000000\n",
      "dim_x = 0.800000\n",
      "dim_y = 0.500000\n",
      "\n",
      "name = Asperge\n",
      "pos_x = 1.300000\n",
      "pos_y = 1.000000\n",
      "dim_x = 0.300000\n",
      "dim_y = 0.300000\n"
     ]
    },
    {
     "data": {
      "image/png": "[encoded data removed]",
      "text/plain": [
       "<Figure size 432x288 with 1 Axes>"
      ]
     },
     "metadata": {},
     "output_type": "display_data"
    },
    {
     "name": "stderr",
     "output_type": "stream",
     "text": [
      "No handles with labels found to put in legend.\n"
     ]
    },
    {
     "name": "stdout",
     "output_type": "stream",
     "text": [
      "\n",
      "name = Poireau\n",
      "pos_x = 0.000000\n",
      "pos_y = 1.600000\n",
      "dim_x = 2.000000\n",
      "dim_y = 0.300000\n",
      "\n",
      "name = Oignon\n",
      "pos_x = 0.000000\n",
      "pos_y = 0.100000\n",
      "dim_x = 0.300000\n",
      "dim_y = 0.800000\n",
      "\n",
      "name = Carotte\n",
      "pos_x = 0.300000\n",
      "pos_y = 0.000000\n",
      "dim_x = 0.200000\n",
      "dim_y = 0.500000\n",
      "\n",
      "name = Pois\n",
      "pos_x = 1.200000\n",
      "pos_y = 0.000000\n",
      "dim_x = 0.800000\n",
      "dim_y = 0.500000\n",
      "\n",
      "name = Asperge\n",
      "pos_x = 1.300000\n",
      "pos_y = 0.800000\n",
      "dim_x = 0.300000\n",
      "dim_y = 0.300000\n"
     ]
    },
    {
     "data": {
      "image/png": "[encoded data removed]",
      "text/plain": [
       "<Figure size 432x288 with 1 Axes>"
      ]
     },
     "metadata": {},
     "output_type": "display_data"
    },
    {
     "name": "stderr",
     "output_type": "stream",
     "text": [
      "No handles with labels found to put in legend.\n"
     ]
    },
    {
     "name": "stdout",
     "output_type": "stream",
     "text": [
      "\n",
      "name = Poireau\n",
      "pos_x = 0.000000\n",
      "pos_y = 1.600000\n",
      "dim_x = 2.000000\n",
      "dim_y = 0.300000\n",
      "\n",
      "name = Oignon\n",
      "pos_x = 0.000000\n",
      "pos_y = 0.100000\n",
      "dim_x = 0.300000\n",
      "dim_y = 0.800000\n",
      "\n",
      "name = Carotte\n",
      "pos_x = 0.300000\n",
      "pos_y = 0.000000\n",
      "dim_x = 0.200000\n",
      "dim_y = 0.500000\n",
      "\n",
      "name = Pois\n",
      "pos_x = 1.200000\n",
      "pos_y = 0.000000\n",
      "dim_x = 0.800000\n",
      "dim_y = 0.500000\n",
      "\n",
      "name = Asperge\n",
      "pos_x = 1.300000\n",
      "pos_y = 0.900000\n",
      "dim_x = 0.300000\n",
      "dim_y = 0.300000\n"
     ]
    },
    {
     "data": {
      "image/png": "[encoded data removed]",
      "text/plain": [
       "<Figure size 432x288 with 1 Axes>"
      ]
     },
     "metadata": {},
     "output_type": "display_data"
    },
    {
     "name": "stderr",
     "output_type": "stream",
     "text": [
      "No handles with labels found to put in legend.\n"
     ]
    },
    {
     "name": "stdout",
     "output_type": "stream",
     "text": [
      "\n",
      "name = Poireau\n",
      "pos_x = 0.000000\n",
      "pos_y = 1.600000\n",
      "dim_x = 2.000000\n",
      "dim_y = 0.300000\n",
      "\n",
      "name = Oignon\n",
      "pos_x = 0.000000\n",
      "pos_y = 0.100000\n",
      "dim_x = 0.300000\n",
      "dim_y = 0.800000\n",
      "\n",
      "name = Carotte\n",
      "pos_x = 0.300000\n",
      "pos_y = 0.000000\n",
      "dim_x = 0.200000\n",
      "dim_y = 0.500000\n",
      "\n",
      "name = Pois\n",
      "pos_x = 1.200000\n",
      "pos_y = 0.000000\n",
      "dim_x = 0.800000\n",
      "dim_y = 0.500000\n",
      "\n",
      "name = Asperge\n",
      "pos_x = 1.300000\n",
      "pos_y = 1.000000\n",
      "dim_x = 0.300000\n",
      "dim_y = 0.300000\n"
     ]
    },
    {
     "data": {
      "image/png": "[encoded data removed]",
      "text/plain": [
       "<Figure size 432x288 with 1 Axes>"
      ]
     },
     "metadata": {},
     "output_type": "display_data"
    },
    {
     "name": "stderr",
     "output_type": "stream",
     "text": [
      "No handles with labels found to put in legend.\n"
     ]
    },
    {
     "name": "stdout",
     "output_type": "stream",
     "text": [
      "\n",
      "name = Poireau\n",
      "pos_x = 0.000000\n",
      "pos_y = 1.600000\n",
      "dim_x = 2.000000\n",
      "dim_y = 0.300000\n",
      "\n",
      "name = Oignon\n",
      "pos_x = 0.000000\n",
      "pos_y = 0.000000\n",
      "dim_x = 0.300000\n",
      "dim_y = 0.800000\n",
      "\n",
      "name = Carotte\n",
      "pos_x = 0.300000\n",
      "pos_y = 0.000000\n",
      "dim_x = 0.200000\n",
      "dim_y = 0.500000\n",
      "\n",
      "name = Pois\n",
      "pos_x = 1.200000\n",
      "pos_y = 0.200000\n",
      "dim_x = 0.800000\n",
      "dim_y = 0.500000\n",
      "\n",
      "name = Asperge\n",
      "pos_x = 1.300000\n",
      "pos_y = 1.200000\n",
      "dim_x = 0.300000\n",
      "dim_y = 0.300000\n"
     ]
    },
    {
     "data": {
      "image/png": "[encoded data removed]",
      "text/plain": [
       "<Figure size 432x288 with 1 Axes>"
      ]
     },
     "metadata": {},
     "output_type": "display_data"
    },
    {
     "name": "stderr",
     "output_type": "stream",
     "text": [
      "No handles with labels found to put in legend.\n"
     ]
    },
    {
     "name": "stdout",
     "output_type": "stream",
     "text": [
      "\n",
      "name = Poireau\n",
      "pos_x = 0.000000\n",
      "pos_y = 1.700000\n",
      "dim_x = 2.000000\n",
      "dim_y = 0.300000\n",
      "\n",
      "name = Oignon\n",
      "pos_x = 0.000000\n",
      "pos_y = 0.100000\n",
      "dim_x = 0.300000\n",
      "dim_y = 0.800000\n",
      "\n",
      "name = Carotte\n",
      "pos_x = 0.300000\n",
      "pos_y = 0.000000\n",
      "dim_x = 0.200000\n",
      "dim_y = 0.500000\n",
      "\n",
      "name = Pois\n",
      "pos_x = 1.200000\n",
      "pos_y = 0.000000\n",
      "dim_x = 0.800000\n",
      "dim_y = 0.500000\n",
      "\n",
      "name = Asperge\n",
      "pos_x = 1.300000\n",
      "pos_y = 0.900000\n",
      "dim_x = 0.300000\n",
      "dim_y = 0.300000\n"
     ]
    },
    {
     "data": {
      "image/png": "[encoded data removed]",
      "text/plain": [
       "<Figure size 432x288 with 1 Axes>"
      ]
     },
     "metadata": {},
     "output_type": "display_data"
    },
    {
     "name": "stderr",
     "output_type": "stream",
     "text": [
      "No handles with labels found to put in legend.\n"
     ]
    },
    {
     "name": "stdout",
     "output_type": "stream",
     "text": [
      "\n",
      "name = Poireau\n",
      "pos_x = 0.000000\n",
      "pos_y = 1.700000\n",
      "dim_x = 2.000000\n",
      "dim_y = 0.300000\n",
      "\n",
      "name = Oignon\n",
      "pos_x = 0.000000\n",
      "pos_y = 0.100000\n",
      "dim_x = 0.300000\n",
      "dim_y = 0.800000\n",
      "\n",
      "name = Carotte\n",
      "pos_x = 0.300000\n",
      "pos_y = 0.000000\n",
      "dim_x = 0.200000\n",
      "dim_y = 0.500000\n",
      "\n",
      "name = Pois\n",
      "pos_x = 1.200000\n",
      "pos_y = 0.000000\n",
      "dim_x = 0.800000\n",
      "dim_y = 0.500000\n",
      "\n",
      "name = Asperge\n",
      "pos_x = 1.300000\n",
      "pos_y = 1.000000\n",
      "dim_x = 0.300000\n",
      "dim_y = 0.300000\n"
     ]
    },
    {
     "data": {
      "image/png": "[encoded data removed]",
      "text/plain": [
       "<Figure size 432x288 with 1 Axes>"
      ]
     },
     "metadata": {},
     "output_type": "display_data"
    },
    {
     "name": "stderr",
     "output_type": "stream",
     "text": [
      "No handles with labels found to put in legend.\n"
     ]
    },
    {
     "name": "stdout",
     "output_type": "stream",
     "text": [
      "\n",
      "name = Poireau\n",
      "pos_x = 0.000000\n",
      "pos_y = 1.600000\n",
      "dim_x = 2.000000\n",
      "dim_y = 0.300000\n",
      "\n",
      "name = Oignon\n",
      "pos_x = 0.000000\n",
      "pos_y = 0.200000\n",
      "dim_x = 0.300000\n",
      "dim_y = 0.800000\n",
      "\n",
      "name = Carotte\n",
      "pos_x = 0.300000\n",
      "pos_y = 0.000000\n",
      "dim_x = 0.200000\n",
      "dim_y = 0.500000\n",
      "\n",
      "name = Pois\n",
      "pos_x = 1.200000\n",
      "pos_y = 0.000000\n",
      "dim_x = 0.800000\n",
      "dim_y = 0.500000\n",
      "\n",
      "name = Asperge\n",
      "pos_x = 1.300000\n",
      "pos_y = 0.800000\n",
      "dim_x = 0.300000\n",
      "dim_y = 0.300000\n"
     ]
    },
    {
     "data": {
      "image/png": "[encoded data removed]",
      "text/plain": [
       "<Figure size 432x288 with 1 Axes>"
      ]
     },
     "metadata": {},
     "output_type": "display_data"
    },
    {
     "name": "stderr",
     "output_type": "stream",
     "text": [
      "No handles with labels found to put in legend.\n"
     ]
    },
    {
     "name": "stdout",
     "output_type": "stream",
     "text": [
      "\n",
      "name = Poireau\n",
      "pos_x = 0.000000\n",
      "pos_y = 1.600000\n",
      "dim_x = 2.000000\n",
      "dim_y = 0.300000\n",
      "\n",
      "name = Oignon\n",
      "pos_x = 0.000000\n",
      "pos_y = 0.000000\n",
      "dim_x = 0.300000\n",
      "dim_y = 0.800000\n",
      "\n",
      "name = Carotte\n",
      "pos_x = 0.300000\n",
      "pos_y = 0.100000\n",
      "dim_x = 0.200000\n",
      "dim_y = 0.500000\n",
      "\n",
      "name = Pois\n",
      "pos_x = 1.200000\n",
      "pos_y = 0.100000\n",
      "dim_x = 0.800000\n",
      "dim_y = 0.500000\n",
      "\n",
      "name = Asperge\n",
      "pos_x = 1.300000\n",
      "pos_y = 0.800000\n",
      "dim_x = 0.300000\n",
      "dim_y = 0.300000\n"
     ]
    },
    {
     "data": {
      "image/png": "[encoded data removed]",
      "text/plain": [
       "<Figure size 432x288 with 1 Axes>"
      ]
     },
     "metadata": {},
     "output_type": "display_data"
    },
    {
     "name": "stderr",
     "output_type": "stream",
     "text": [
      "No handles with labels found to put in legend.\n"
     ]
    },
    {
     "name": "stdout",
     "output_type": "stream",
     "text": [
      "\n",
      "name = Poireau\n",
      "pos_x = 0.000000\n",
      "pos_y = 1.600000\n",
      "dim_x = 2.000000\n",
      "dim_y = 0.300000\n",
      "\n",
      "name = Oignon\n",
      "pos_x = 0.000000\n",
      "pos_y = 0.200000\n",
      "dim_x = 0.300000\n",
      "dim_y = 0.800000\n",
      "\n",
      "name = Carotte\n",
      "pos_x = 0.300000\n",
      "pos_y = 0.000000\n",
      "dim_x = 0.200000\n",
      "dim_y = 0.500000\n",
      "\n",
      "name = Pois\n",
      "pos_x = 1.200000\n",
      "pos_y = 0.000000\n",
      "dim_x = 0.800000\n",
      "dim_y = 0.500000\n",
      "\n",
      "name = Asperge\n",
      "pos_x = 1.300000\n",
      "pos_y = 0.900000\n",
      "dim_x = 0.300000\n",
      "dim_y = 0.300000\n"
     ]
    },
    {
     "data": {
      "image/png": "[encoded data removed]",
      "text/plain": [
       "<Figure size 432x288 with 1 Axes>"
      ]
     },
     "metadata": {},
     "output_type": "display_data"
    },
    {
     "name": "stderr",
     "output_type": "stream",
     "text": [
      "No handles with labels found to put in legend.\n"
     ]
    },
    {
     "name": "stdout",
     "output_type": "stream",
     "text": [
      "\n",
      "name = Poireau\n",
      "pos_x = 0.000000\n",
      "pos_y = 1.500000\n",
      "dim_x = 2.000000\n",
      "dim_y = 0.300000\n",
      "\n",
      "name = Oignon\n",
      "pos_x = 0.000000\n",
      "pos_y = 0.100000\n",
      "dim_x = 0.300000\n",
      "dim_y = 0.800000\n",
      "\n",
      "name = Carotte\n",
      "pos_x = 0.300000\n",
      "pos_y = 0.000000\n",
      "dim_x = 0.200000\n",
      "dim_y = 0.500000\n",
      "\n",
      "name = Pois\n",
      "pos_x = 1.200000\n",
      "pos_y = 0.100000\n",
      "dim_x = 0.800000\n",
      "dim_y = 0.500000\n",
      "\n",
      "name = Asperge\n",
      "pos_x = 1.300000\n",
      "pos_y = 0.800000\n",
      "dim_x = 0.300000\n",
      "dim_y = 0.300000\n"
     ]
    },
    {
     "data": {
      "image/png": "[encoded data removed]",
      "text/plain": [
       "<Figure size 432x288 with 1 Axes>"
      ]
     },
     "metadata": {},
     "output_type": "display_data"
    },
    {
     "name": "stderr",
     "output_type": "stream",
     "text": [
      "No handles with labels found to put in legend.\n"
     ]
    },
    {
     "name": "stdout",
     "output_type": "stream",
     "text": [
      "\n",
      "name = Poireau\n",
      "pos_x = 0.000000\n",
      "pos_y = 1.600000\n",
      "dim_x = 2.000000\n",
      "dim_y = 0.300000\n",
      "\n",
      "name = Oignon\n",
      "pos_x = 0.000000\n",
      "pos_y = 0.200000\n",
      "dim_x = 0.300000\n",
      "dim_y = 0.800000\n",
      "\n",
      "name = Carotte\n",
      "pos_x = 0.300000\n",
      "pos_y = 0.000000\n",
      "dim_x = 0.200000\n",
      "dim_y = 0.500000\n",
      "\n",
      "name = Pois\n",
      "pos_x = 1.200000\n",
      "pos_y = 0.000000\n",
      "dim_x = 0.800000\n",
      "dim_y = 0.500000\n",
      "\n",
      "name = Asperge\n",
      "pos_x = 1.300000\n",
      "pos_y = 1.000000\n",
      "dim_x = 0.300000\n",
      "dim_y = 0.300000\n"
     ]
    },
    {
     "data": {
      "image/png": "[encoded data removed]",
      "text/plain": [
       "<Figure size 432x288 with 1 Axes>"
      ]
     },
     "metadata": {},
     "output_type": "display_data"
    },
    {
     "name": "stderr",
     "output_type": "stream",
     "text": [
      "No handles with labels found to put in legend.\n"
     ]
    },
    {
     "name": "stdout",
     "output_type": "stream",
     "text": [
      "\n",
      "name = Poireau\n",
      "pos_x = 0.000000\n",
      "pos_y = 1.500000\n",
      "dim_x = 2.000000\n",
      "dim_y = 0.300000\n",
      "\n",
      "name = Oignon\n",
      "pos_x = 0.000000\n",
      "pos_y = 0.300000\n",
      "dim_x = 0.300000\n",
      "dim_y = 0.800000\n",
      "\n",
      "name = Carotte\n",
      "pos_x = 0.300000\n",
      "pos_y = 0.000000\n",
      "dim_x = 0.200000\n",
      "dim_y = 0.500000\n",
      "\n",
      "name = Pois\n",
      "pos_x = 1.200000\n",
      "pos_y = 0.100000\n",
      "dim_x = 0.800000\n",
      "dim_y = 0.500000\n",
      "\n",
      "name = Asperge\n",
      "pos_x = 1.300000\n",
      "pos_y = 0.700000\n",
      "dim_x = 0.300000\n",
      "dim_y = 0.300000\n"
     ]
    },
    {
     "data": {
      "image/png": "[encoded data removed]",
      "text/plain": [
       "<Figure size 432x288 with 1 Axes>"
      ]
     },
     "metadata": {},
     "output_type": "display_data"
    },
    {
     "name": "stderr",
     "output_type": "stream",
     "text": [
      "No handles with labels found to put in legend.\n"
     ]
    },
    {
     "name": "stdout",
     "output_type": "stream",
     "text": [
      "\n",
      "name = Poireau\n",
      "pos_x = 0.000000\n",
      "pos_y = 1.600000\n",
      "dim_x = 2.000000\n",
      "dim_y = 0.300000\n",
      "\n",
      "name = Oignon\n",
      "pos_x = 0.000000\n",
      "pos_y = 0.000000\n",
      "dim_x = 0.300000\n",
      "dim_y = 0.800000\n",
      "\n",
      "name = Carotte\n",
      "pos_x = 0.300000\n",
      "pos_y = 0.100000\n",
      "dim_x = 0.200000\n",
      "dim_y = 0.500000\n",
      "\n",
      "name = Pois\n",
      "pos_x = 1.200000\n",
      "pos_y = 0.200000\n",
      "dim_x = 0.800000\n",
      "dim_y = 0.500000\n",
      "\n",
      "name = Asperge\n",
      "pos_x = 1.300000\n",
      "pos_y = 0.800000\n",
      "dim_x = 0.300000\n",
      "dim_y = 0.300000\n"
     ]
    },
    {
     "data": {
      "image/png": "[encoded data removed]",
      "text/plain": [
       "<Figure size 432x288 with 1 Axes>"
      ]
     },
     "metadata": {},
     "output_type": "display_data"
    },
    {
     "name": "stderr",
     "output_type": "stream",
     "text": [
      "No handles with labels found to put in legend.\n"
     ]
    },
    {
     "name": "stdout",
     "output_type": "stream",
     "text": [
      "\n",
      "name = Poireau\n",
      "pos_x = 0.000000\n",
      "pos_y = 1.600000\n",
      "dim_x = 2.000000\n",
      "dim_y = 0.300000\n",
      "\n",
      "name = Oignon\n",
      "pos_x = 0.000000\n",
      "pos_y = 0.300000\n",
      "dim_x = 0.300000\n",
      "dim_y = 0.800000\n",
      "\n",
      "name = Carotte\n",
      "pos_x = 0.300000\n",
      "pos_y = 0.000000\n",
      "dim_x = 0.200000\n",
      "dim_y = 0.500000\n",
      "\n",
      "name = Pois\n",
      "pos_x = 1.200000\n",
      "pos_y = 0.000000\n",
      "dim_x = 0.800000\n",
      "dim_y = 0.500000\n",
      "\n",
      "name = Asperge\n",
      "pos_x = 1.300000\n",
      "pos_y = 0.800000\n",
      "dim_x = 0.300000\n",
      "dim_y = 0.300000\n"
     ]
    },
    {
     "data": {
      "image/png": "[encoded data removed]",
      "text/plain": [
       "<Figure size 432x288 with 1 Axes>"
      ]
     },
     "metadata": {},
     "output_type": "display_data"
    },
    {
     "name": "stderr",
     "output_type": "stream",
     "text": [
      "No handles with labels found to put in legend.\n"
     ]
    },
    {
     "name": "stdout",
     "output_type": "stream",
     "text": [
      "\n",
      "name = Poireau\n",
      "pos_x = 0.000000\n",
      "pos_y = 1.500000\n",
      "dim_x = 2.000000\n",
      "dim_y = 0.300000\n",
      "\n",
      "name = Oignon\n",
      "pos_x = 0.000000\n",
      "pos_y = 0.400000\n",
      "dim_x = 0.300000\n",
      "dim_y = 0.800000\n",
      "\n",
      "name = Carotte\n",
      "pos_x = 0.300000\n",
      "pos_y = 0.000000\n",
      "dim_x = 0.200000\n",
      "dim_y = 0.500000\n",
      "\n",
      "name = Pois\n",
      "pos_x = 1.200000\n",
      "pos_y = 0.100000\n",
      "dim_x = 0.800000\n",
      "dim_y = 0.500000\n",
      "\n",
      "name = Asperge\n",
      "pos_x = 1.300000\n",
      "pos_y = 0.700000\n",
      "dim_x = 0.300000\n",
      "dim_y = 0.300000\n"
     ]
    },
    {
     "data": {
      "image/png": "[encoded data removed]",
      "text/plain": [
       "<Figure size 432x288 with 1 Axes>"
      ]
     },
     "metadata": {},
     "output_type": "display_data"
    },
    {
     "name": "stderr",
     "output_type": "stream",
     "text": [
      "No handles with labels found to put in legend.\n"
     ]
    },
    {
     "name": "stdout",
     "output_type": "stream",
     "text": [
      "\n",
      "name = Poireau\n",
      "pos_x = 0.000000\n",
      "pos_y = 1.600000\n",
      "dim_x = 2.000000\n",
      "dim_y = 0.300000\n",
      "\n",
      "name = Oignon\n",
      "pos_x = 0.000000\n",
      "pos_y = 0.000000\n",
      "dim_x = 0.300000\n",
      "dim_y = 0.800000\n",
      "\n",
      "name = Carotte\n",
      "pos_x = 0.300000\n",
      "pos_y = 0.100000\n",
      "dim_x = 0.200000\n",
      "dim_y = 0.500000\n",
      "\n",
      "name = Pois\n",
      "pos_x = 1.200000\n",
      "pos_y = 0.100000\n",
      "dim_x = 0.800000\n",
      "dim_y = 0.500000\n",
      "\n",
      "name = Asperge\n",
      "pos_x = 1.300000\n",
      "pos_y = 0.900000\n",
      "dim_x = 0.300000\n",
      "dim_y = 0.300000\n"
     ]
    },
    {
     "data": {
      "image/png": "[encoded data removed]",
      "text/plain": [
       "<Figure size 432x288 with 1 Axes>"
      ]
     },
     "metadata": {},
     "output_type": "display_data"
    },
    {
     "name": "stderr",
     "output_type": "stream",
     "text": [
      "No handles with labels found to put in legend.\n"
     ]
    },
    {
     "name": "stdout",
     "output_type": "stream",
     "text": [
      "\n",
      "name = Poireau\n",
      "pos_x = 0.000000\n",
      "pos_y = 1.600000\n",
      "dim_x = 2.000000\n",
      "dim_y = 0.300000\n",
      "\n",
      "name = Oignon\n",
      "pos_x = 0.000000\n",
      "pos_y = 0.300000\n",
      "dim_x = 0.300000\n",
      "dim_y = 0.800000\n",
      "\n",
      "name = Carotte\n",
      "pos_x = 0.300000\n",
      "pos_y = 0.000000\n",
      "dim_x = 0.200000\n",
      "dim_y = 0.500000\n",
      "\n",
      "name = Pois\n",
      "pos_x = 1.200000\n",
      "pos_y = 0.000000\n",
      "dim_x = 0.800000\n",
      "dim_y = 0.500000\n",
      "\n",
      "name = Asperge\n",
      "pos_x = 1.300000\n",
      "pos_y = 0.900000\n",
      "dim_x = 0.300000\n",
      "dim_y = 0.300000\n"
     ]
    },
    {
     "data": {
      "image/png": "[encoded data removed]",
      "text/plain": [
       "<Figure size 432x288 with 1 Axes>"
      ]
     },
     "metadata": {},
     "output_type": "display_data"
    },
    {
     "name": "stderr",
     "output_type": "stream",
     "text": [
      "No handles with labels found to put in legend.\n"
     ]
    },
    {
     "name": "stdout",
     "output_type": "stream",
     "text": [
      "\n",
      "name = Poireau\n",
      "pos_x = 0.000000\n",
      "pos_y = 1.500000\n",
      "dim_x = 2.000000\n",
      "dim_y = 0.300000\n",
      "\n",
      "name = Oignon\n",
      "pos_x = 0.000000\n",
      "pos_y = 0.100000\n",
      "dim_x = 0.300000\n",
      "dim_y = 0.800000\n",
      "\n",
      "name = Carotte\n",
      "pos_x = 0.300000\n",
      "pos_y = 0.000000\n",
      "dim_x = 0.200000\n",
      "dim_y = 0.500000\n",
      "\n",
      "name = Pois\n",
      "pos_x = 1.200000\n",
      "pos_y = 0.100000\n",
      "dim_x = 0.800000\n",
      "dim_y = 0.500000\n",
      "\n",
      "name = Asperge\n",
      "pos_x = 1.300000\n",
      "pos_y = 0.900000\n",
      "dim_x = 0.300000\n",
      "dim_y = 0.300000\n"
     ]
    },
    {
     "data": {
      "image/png": "[encoded data removed]",
      "text/plain": [
       "<Figure size 432x288 with 1 Axes>"
      ]
     },
     "metadata": {},
     "output_type": "display_data"
    },
    {
     "name": "stderr",
     "output_type": "stream",
     "text": [
      "No handles with labels found to put in legend.\n"
     ]
    },
    {
     "name": "stdout",
     "output_type": "stream",
     "text": [
      "\n",
      "name = Poireau\n",
      "pos_x = 0.000000\n",
      "pos_y = 1.500000\n",
      "dim_x = 2.000000\n",
      "dim_y = 0.300000\n",
      "\n",
      "name = Oignon\n",
      "pos_x = 0.000000\n",
      "pos_y = 0.100000\n",
      "dim_x = 0.300000\n",
      "dim_y = 0.800000\n",
      "\n",
      "name = Carotte\n",
      "pos_x = 0.300000\n",
      "pos_y = 0.000000\n",
      "dim_x = 0.200000\n",
      "dim_y = 0.500000\n",
      "\n",
      "name = Pois\n",
      "pos_x = 1.200000\n",
      "pos_y = 0.100000\n",
      "dim_x = 0.800000\n",
      "dim_y = 0.500000\n",
      "\n",
      "name = Asperge\n",
      "pos_x = 1.300000\n",
      "pos_y = 1.000000\n",
      "dim_x = 0.300000\n",
      "dim_y = 0.300000\n"
     ]
    },
    {
     "data": {
      "image/png": "[encoded data removed]",
      "text/plain": [
       "<Figure size 432x288 with 1 Axes>"
      ]
     },
     "metadata": {},
     "output_type": "display_data"
    },
    {
     "name": "stderr",
     "output_type": "stream",
     "text": [
      "No handles with labels found to put in legend.\n"
     ]
    },
    {
     "name": "stdout",
     "output_type": "stream",
     "text": [
      "\n",
      "name = Poireau\n",
      "pos_x = 0.000000\n",
      "pos_y = 1.600000\n",
      "dim_x = 2.000000\n",
      "dim_y = 0.300000\n",
      "\n",
      "name = Oignon\n",
      "pos_x = 0.000000\n",
      "pos_y = 0.000000\n",
      "dim_x = 0.300000\n",
      "dim_y = 0.800000\n",
      "\n",
      "name = Carotte\n",
      "pos_x = 0.300000\n",
      "pos_y = 0.100000\n",
      "dim_x = 0.200000\n",
      "dim_y = 0.500000\n",
      "\n",
      "name = Pois\n",
      "pos_x = 1.200000\n",
      "pos_y = 0.100000\n",
      "dim_x = 0.800000\n",
      "dim_y = 0.500000\n",
      "\n",
      "name = Asperge\n",
      "pos_x = 1.300000\n",
      "pos_y = 1.000000\n",
      "dim_x = 0.300000\n",
      "dim_y = 0.300000\n"
     ]
    },
    {
     "data": {
      "image/png": "[encoded data removed]",
      "text/plain": [
       "<Figure size 432x288 with 1 Axes>"
      ]
     },
     "metadata": {},
     "output_type": "display_data"
    },
    {
     "name": "stderr",
     "output_type": "stream",
     "text": [
      "No handles with labels found to put in legend.\n"
     ]
    },
    {
     "name": "stdout",
     "output_type": "stream",
     "text": [
      "\n",
      "name = Poireau\n",
      "pos_x = 0.000000\n",
      "pos_y = 1.600000\n",
      "dim_x = 2.000000\n",
      "dim_y = 0.300000\n",
      "\n",
      "name = Oignon\n",
      "pos_x = 0.000000\n",
      "pos_y = 0.400000\n",
      "dim_x = 0.300000\n",
      "dim_y = 0.800000\n",
      "\n",
      "name = Carotte\n",
      "pos_x = 0.300000\n",
      "pos_y = 0.000000\n",
      "dim_x = 0.200000\n",
      "dim_y = 0.500000\n",
      "\n",
      "name = Pois\n",
      "pos_x = 1.200000\n",
      "pos_y = 0.000000\n",
      "dim_x = 0.800000\n",
      "dim_y = 0.500000\n",
      "\n",
      "name = Asperge\n",
      "pos_x = 1.300000\n",
      "pos_y = 0.800000\n",
      "dim_x = 0.300000\n",
      "dim_y = 0.300000\n"
     ]
    },
    {
     "data": {
      "image/png": "[encoded data removed]",
      "text/plain": [
       "<Figure size 432x288 with 1 Axes>"
      ]
     },
     "metadata": {},
     "output_type": "display_data"
    },
    {
     "name": "stderr",
     "output_type": "stream",
     "text": [
      "No handles with labels found to put in legend.\n"
     ]
    },
    {
     "name": "stdout",
     "output_type": "stream",
     "text": [
      "\n",
      "name = Poireau\n",
      "pos_x = 0.000000\n",
      "pos_y = 1.500000\n",
      "dim_x = 2.000000\n",
      "dim_y = 0.300000\n",
      "\n",
      "name = Oignon\n",
      "pos_x = 0.000000\n",
      "pos_y = 0.100000\n",
      "dim_x = 0.300000\n",
      "dim_y = 0.800000\n",
      "\n",
      "name = Carotte\n",
      "pos_x = 0.300000\n",
      "pos_y = 0.000000\n",
      "dim_x = 0.200000\n",
      "dim_y = 0.500000\n",
      "\n",
      "name = Pois\n",
      "pos_x = 1.200000\n",
      "pos_y = 0.100000\n",
      "dim_x = 0.800000\n",
      "dim_y = 0.500000\n",
      "\n",
      "name = Asperge\n",
      "pos_x = 1.300000\n",
      "pos_y = 1.100000\n",
      "dim_x = 0.300000\n",
      "dim_y = 0.300000\n"
     ]
    },
    {
     "data": {
      "image/png": "[encoded data removed]",
      "text/plain": [
       "<Figure size 432x288 with 1 Axes>"
      ]
     },
     "metadata": {},
     "output_type": "display_data"
    },
    {
     "name": "stderr",
     "output_type": "stream",
     "text": [
      "No handles with labels found to put in legend.\n"
     ]
    },
    {
     "name": "stdout",
     "output_type": "stream",
     "text": [
      "\n",
      "name = Poireau\n",
      "pos_x = 0.000000\n",
      "pos_y = 1.500000\n",
      "dim_x = 2.000000\n",
      "dim_y = 0.300000\n",
      "\n",
      "name = Oignon\n",
      "pos_x = 0.000000\n",
      "pos_y = 0.200000\n",
      "dim_x = 0.300000\n",
      "dim_y = 0.800000\n",
      "\n",
      "name = Carotte\n",
      "pos_x = 0.300000\n",
      "pos_y = 0.000000\n",
      "dim_x = 0.200000\n",
      "dim_y = 0.500000\n",
      "\n",
      "name = Pois\n",
      "pos_x = 1.200000\n",
      "pos_y = 0.100000\n",
      "dim_x = 0.800000\n",
      "dim_y = 0.500000\n",
      "\n",
      "name = Asperge\n",
      "pos_x = 1.300000\n",
      "pos_y = 0.800000\n",
      "dim_x = 0.300000\n",
      "dim_y = 0.300000\n"
     ]
    },
    {
     "data": {
      "image/png": "[encoded data removed]",
      "text/plain": [
       "<Figure size 432x288 with 1 Axes>"
      ]
     },
     "metadata": {},
     "output_type": "display_data"
    },
    {
     "name": "stderr",
     "output_type": "stream",
     "text": [
      "No handles with labels found to put in legend.\n"
     ]
    },
    {
     "name": "stdout",
     "output_type": "stream",
     "text": [
      "\n",
      "name = Poireau\n",
      "pos_x = 0.000000\n",
      "pos_y = 1.500000\n",
      "dim_x = 2.000000\n",
      "dim_y = 0.300000\n",
      "\n",
      "name = Oignon\n",
      "pos_x = 0.000000\n",
      "pos_y = 0.300000\n",
      "dim_x = 0.300000\n",
      "dim_y = 0.800000\n",
      "\n",
      "name = Carotte\n",
      "pos_x = 0.300000\n",
      "pos_y = 0.000000\n",
      "dim_x = 0.200000\n",
      "dim_y = 0.500000\n",
      "\n",
      "name = Pois\n",
      "pos_x = 1.200000\n",
      "pos_y = 0.100000\n",
      "dim_x = 0.800000\n",
      "dim_y = 0.500000\n",
      "\n",
      "name = Asperge\n",
      "pos_x = 1.300000\n",
      "pos_y = 0.800000\n",
      "dim_x = 0.300000\n",
      "dim_y = 0.300000\n"
     ]
    },
    {
     "data": {
      "image/png": "[encoded data removed]",
      "text/plain": [
       "<Figure size 432x288 with 1 Axes>"
      ]
     },
     "metadata": {},
     "output_type": "display_data"
    },
    {
     "name": "stderr",
     "output_type": "stream",
     "text": [
      "No handles with labels found to put in legend.\n"
     ]
    },
    {
     "name": "stdout",
     "output_type": "stream",
     "text": [
      "\n",
      "name = Poireau\n",
      "pos_x = 0.000000\n",
      "pos_y = 1.700000\n",
      "dim_x = 2.000000\n",
      "dim_y = 0.300000\n",
      "\n",
      "name = Oignon\n",
      "pos_x = 0.000000\n",
      "pos_y = 0.200000\n",
      "dim_x = 0.300000\n",
      "dim_y = 0.800000\n",
      "\n",
      "name = Carotte\n",
      "pos_x = 0.300000\n",
      "pos_y = 0.000000\n",
      "dim_x = 0.200000\n",
      "dim_y = 0.500000\n",
      "\n",
      "name = Pois\n",
      "pos_x = 1.200000\n",
      "pos_y = 0.000000\n",
      "dim_x = 0.800000\n",
      "dim_y = 0.500000\n",
      "\n",
      "name = Asperge\n",
      "pos_x = 1.300000\n",
      "pos_y = 0.900000\n",
      "dim_x = 0.300000\n",
      "dim_y = 0.300000\n"
     ]
    },
    {
     "data": {
      "image/png": "[encoded data removed]",
      "text/plain": [
       "<Figure size 432x288 with 1 Axes>"
      ]
     },
     "metadata": {},
     "output_type": "display_data"
    },
    {
     "name": "stderr",
     "output_type": "stream",
     "text": [
      "No handles with labels found to put in legend.\n"
     ]
    },
    {
     "name": "stdout",
     "output_type": "stream",
     "text": [
      "\n",
      "name = Poireau\n",
      "pos_x = 0.000000\n",
      "pos_y = 1.600000\n",
      "dim_x = 2.000000\n",
      "dim_y = 0.300000\n",
      "\n",
      "name = Oignon\n",
      "pos_x = 0.000000\n",
      "pos_y = 0.400000\n",
      "dim_x = 0.300000\n",
      "dim_y = 0.800000\n",
      "\n",
      "name = Carotte\n",
      "pos_x = 0.300000\n",
      "pos_y = 0.000000\n",
      "dim_x = 0.200000\n",
      "dim_y = 0.500000\n",
      "\n",
      "name = Pois\n",
      "pos_x = 1.200000\n",
      "pos_y = 0.000000\n",
      "dim_x = 0.800000\n",
      "dim_y = 0.500000\n",
      "\n",
      "name = Asperge\n",
      "pos_x = 1.300000\n",
      "pos_y = 0.900000\n",
      "dim_x = 0.300000\n",
      "dim_y = 0.300000\n"
     ]
    },
    {
     "data": {
      "image/png": "[encoded data removed]",
      "text/plain": [
       "<Figure size 432x288 with 1 Axes>"
      ]
     },
     "metadata": {},
     "output_type": "display_data"
    },
    {
     "name": "stdout",
     "output_type": "stream",
     "text": [
      "Status = FEASIBLE\n",
      "Number of solutions found: 70\n",
      "Statistics\n",
      "  - conflicts       : 35\n",
      "  - branches        : 1597\n",
      "  - wall time       : 11.128301 s\n"
     ]
    }
   ],
   "source": [
    "problem_resolution()"
   ]
  },
  {
   "cell_type": "code",
   "execution_count": null,
   "metadata": {},
   "outputs": [],
   "source": [
    "\n",
    "\n"
   ]
  },
  {
   "cell_type": "code",
   "execution_count": null,
   "metadata": {
    "collapsed": true
   },
   "outputs": [],
   "source": []
  }
 ],
 "metadata": {
  "kernelspec": {
   "display_name": "Python 3",
   "language": "python",
   "name": "python3"
  },
  "language_info": {
   "codemirror_mode": {
    "name": "ipython",
    "version": 3
   },
   "file_extension": ".py",
   "mimetype": "text/x-python",
   "name": "python",
   "nbconvert_exporter": "python",
   "pygments_lexer": "ipython3",
   "version": "3.6.7"
  }
 },
 "nbformat": 4,
 "nbformat_minor": 2
}
