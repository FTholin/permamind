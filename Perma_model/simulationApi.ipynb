{
 "cells": [
  {
   "cell_type": "code",
   "execution_count": null,
   "metadata": {},
   "outputs": [],
   "source": [
    "import requests\n",
    "import matplotlib\n",
    "from ast import literal_eval\n",
    "import matplotlib.pyplot as plt\n",
    "import json\n",
    "import sys\n",
    "import urllib3\n",
    "import urllib.request\n",
    "\n",
    "\n",
    "urlData = \"http://127.0.0.1:5000/all/\"\n",
    "webURL = urllib.request.urlopen(urlData)\n",
    "data = webURL.read()\n",
    "encoding = webURL.info().get_content_charset('utf-8')\n",
    "json = json.loads(data.decode(encoding))"
   ]
  },
  {
   "cell_type": "code",
   "execution_count": null,
   "metadata": {
    "scrolled": true
   },
   "outputs": [],
   "source": [
    "TAILLE_W = 1\n",
    "TAILLE_H = 4\n",
    "\n",
    "fig = plt.figure()\n",
    "ax = fig.add_subplot(111)\n",
    "\n",
    "for legume in json:\n",
    "    print(legume)\n",
    "    \n",
    "    rect = matplotlib.patches.Rectangle((legume[\"pos_x\"] , legume[\"pos_y\"] ), legume[\"dim_x\"] , legume[\"dim_y\"], color=legume[\"color\"])\n",
    "    ax.add_patch(rect)\n",
    "\n",
    "    ax.xaxis.set_ticks(range(TAILLE_W))\n",
    "    ax.yaxis.set_ticks(range(TAILLE_H))\n",
    "\n",
    "    # Display in graph\n",
    "    if legume[\"name\"] != \"light_sunlight\" and legume[\"name\"] != \"full_sunlight\" and legume[\"name\"] != 'Humifere' and legume[\"name\"] != \"ArgileuxLimoneux\" and legume[\"name\"] != \"Calcaire\":\n",
    "        ax.text(legume[\"pos_x\"] + (legume[\"dim_x\"] / 2) , legume[\"pos_y\"]  + (legume[\"dim_y\"]  / 2) , legume[\"name\"], fontsize=8, horizontalalignment='center',\n",
    "            verticalalignment='center')\n",
    "        \n",
    "    # Display in right legend\n",
    "    else:\n",
    "        if len(legend_list) == 0:\n",
    "            ax.scatter(legume[\"pos_x\"], legume[\"pos_y\"], c=legume[\"color\"], s=None, label=legume[\"name\"], alpha=0.8, edgecolors='none')\n",
    "            legend_list.append(legume[\"name\"])\n",
    "        else:\n",
    "            if name not in legend_list:\n",
    "                ax.scatter(legume[\"pos_x\"], legume[\"pos_y\"], c=legume[\"color\"], s=None, label=legume[\"name\"], alpha=0.4, edgecolors='none')\n",
    "                legend_list.append(name)\n",
    "\n",
    "\n",
    "ax.legend(loc=9, bbox_to_anchor=(0.5, -0.1))\n",
    "plt.xlim([0, TAILLE_W])\n",
    "plt.ylim([0, TAILLE_H])\n",
    "plt.gca().set_aspect('equal', adjustable='box')   \n",
    "plt.show()"
   ]
  },
  {
   "cell_type": "code",
   "execution_count": null,
   "metadata": {},
   "outputs": [],
   "source": []
  }
 ],
 "metadata": {
  "kernelspec": {
   "display_name": "Python (myenv)",
   "language": "python",
   "name": "myenv"
  },
  "language_info": {
   "codemirror_mode": {
    "name": "ipython",
    "version": 3
   },
   "file_extension": ".py",
   "mimetype": "text/x-python",
   "name": "python",
   "nbconvert_exporter": "python",
   "pygments_lexer": "ipython3",
   "version": "3.6.7"
  }
 },
 "nbformat": 4,
 "nbformat_minor": 2
}
