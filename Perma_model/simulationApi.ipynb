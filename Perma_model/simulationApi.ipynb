{
 "cells": [
  {
   "cell_type": "code",
   "execution_count": null,
   "metadata": {},
   "outputs": [],
   "source": [
    "import requests\n",
    "import matplotlib\n",
    "from ast import literal_eval\n",
    "import matplotlib.pyplot as plt\n",
    "import json\n",
    "import sys\n",
    "import urllib3\n",
    "import urllib.request\n",
    "import requests\n",
    "\n",
    "debug = False\n",
    "if debug:\n",
    "    add = \"127.0.0.1\"\n",
    "else:\n",
    "    add = \"109.238.10.82\""
   ]
  },
  {
   "cell_type": "code",
   "execution_count": null,
   "metadata": {},
   "outputs": [],
   "source": [
    "adress = 'http://'+add+':5000/get/vegetable'\n",
    "r = requests.get(adress)\n",
    "print(r.text)"
   ]
  },
  {
   "cell_type": "code",
   "execution_count": null,
   "metadata": {},
   "outputs": [],
   "source": [
    "JSON = {\n",
    "    \"vegetables\":{\n",
    "        \"Poireau\":{\n",
    "           \"plants\":30\n",
    "        },\n",
    "        \"Oignon\":{\n",
    "            \"plants\":10\n",
    "        },\n",
    "        \"Carotte\":{\n",
    "            \"plants\":50\n",
    "        },\n",
    "        \"Pois\":{\n",
    "            \"plants\":20\n",
    "        },\n",
    "        \"Ail\":{\n",
    "            \"plants\":40\n",
    "        },\n",
    "        \"Patate\":{\n",
    "            \"plants\":10\n",
    "        }\n",
    "    },\n",
    "    \"map\":{\n",
    "        \"sizeW\": 3,\n",
    "        \"sizeH\": 5,\n",
    "        \"soilType\":\"Humifere\"\n",
    "    },\n",
    "    \"name\": \"mello_123456789\"\n",
    "}\n",
    "\n",
    "user = \"mello\"\n",
    "idJardin = \"123456789\"\n",
    "headers = {'Content-type': 'application/json', 'Accept': 'text/plain'}\n",
    "r = requests.post(\"http://\"+add+\":5000/send/\" + user + \"/\" + idJardin, data = json.dumps(JSON), headers=headers)\n",
    "print(r.text)"
   ]
  },
  {
   "cell_type": "code",
   "execution_count": null,
   "metadata": {
    "scrolled": false
   },
   "outputs": [],
   "source": [
    "user = \"mello_123456789\"\n",
    "iteration = \"100\"\n",
    "r = requests.get('http://'+add+':5000/generate/' + user + '/' + iteration)\n",
    "print(r.text)"
   ]
  },
  {
   "cell_type": "code",
   "execution_count": null,
   "metadata": {},
   "outputs": [],
   "source": [
    "user = \"mello\"\n",
    "idJardin = \"123456789\"\n",
    "version = \"5\"\n",
    "adress = 'http://'+add+':5000/get/' + user +'/' + idJardin + '/' + version\n",
    "r = requests.get(adress)\n",
    "print(r.text)"
   ]
  },
  {
   "cell_type": "code",
   "execution_count": null,
   "metadata": {},
   "outputs": [],
   "source": []
  },
  {
   "cell_type": "code",
   "execution_count": null,
   "metadata": {},
   "outputs": [],
   "source": []
  }
 ],
 "metadata": {
  "kernelspec": {
   "display_name": "Python 3",
   "language": "python",
   "name": "python3"
  },
  "language_info": {
   "codemirror_mode": {
    "name": "ipython",
    "version": 3
   },
   "file_extension": ".py",
   "mimetype": "text/x-python",
   "name": "python",
   "nbconvert_exporter": "python",
   "pygments_lexer": "ipython3",
   "version": "3.6.8"
  }
 },
 "nbformat": 4,
 "nbformat_minor": 2
}
