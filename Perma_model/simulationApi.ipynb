{
 "cells": [
  {
   "cell_type": "code",
   "execution_count": null,
   "metadata": {},
   "outputs": [],
   "source": [
    "import requests\n",
    "import matplotlib\n",
    "from ast import literal_eval\n",
    "import matplotlib.pyplot as plt\n",
    "import json\n",
    "import sys\n",
    "import urllib3\n",
    "import urllib.request\n",
    "import requests"
   ]
  },
  {
   "cell_type": "code",
   "execution_count": null,
   "metadata": {},
   "outputs": [],
   "source": [
    "adress = 'http://127.0.0.1:5000/get/vegetable'\n",
    "r = requests.get(adress)\n",
    "print(r.text)"
   ]
  },
  {
   "cell_type": "code",
   "execution_count": null,
   "metadata": {},
   "outputs": [],
   "source": [
    "adress = 'http://127.0.0.1:5000/get/TEST1.json'\n",
    "r = requests.get(adress)\n",
    "print(r.json)"
   ]
  },
  {
   "cell_type": "code",
   "execution_count": null,
   "metadata": {},
   "outputs": [],
   "source": [
    "JSON = {\n",
    "    \"vegetables\":{\n",
    "        \"Poireau\":{\n",
    "           \"plants\":30\n",
    "        },\n",
    "        \"Oignon\":{\n",
    "            \"plants\":10\n",
    "        },\n",
    "        \"Carotte\":{\n",
    "            \"plants\":50\n",
    "        },\n",
    "        \"Pois\":{\n",
    "            \"plants\":20\n",
    "        },\n",
    "        \"Ail\":{\n",
    "            \"plants\":40\n",
    "        },\n",
    "        \"Patate\":{\n",
    "            \"plants\":10\n",
    "        }\n",
    "    },\n",
    "    \"map\":{\n",
    "        \"sizeW\": 3,\n",
    "        \"sizeH\": 5,\n",
    "        \"soilType\":\"Humifere\"\n",
    "    }\n",
    "}\n",
    "user = \"mello_1\"\n",
    "headers = {'Content-type': 'application/json', 'Accept': 'text/plain'}\n",
    "r = requests.post(\"http://127.0.0.1:5000/send/\" + user, data = json.dumps(JSON), headers=headers)\n",
    "print(r.text)"
   ]
  },
  {
   "cell_type": "code",
   "execution_count": null,
   "metadata": {},
   "outputs": [],
   "source": [
    "user = \"mello_1\"\n",
    "iteration = 10\n",
    "r = requests.get('http://127.0.0.1:5000/generate/' + user + '/' + str(iteration))\n",
    "print(r.text)"
   ]
  }
 ],
 "metadata": {
  "kernelspec": {
   "display_name": "Python (myenv)",
   "language": "python",
   "name": "myenv"
  },
  "language_info": {
   "codemirror_mode": {
    "name": "ipython",
    "version": 3
   },
   "file_extension": ".py",
   "mimetype": "text/x-python",
   "name": "python",
   "nbconvert_exporter": "python",
   "pygments_lexer": "ipython3",
   "version": "3.6.7"
  }
 },
 "nbformat": 4,
 "nbformat_minor": 2
}
