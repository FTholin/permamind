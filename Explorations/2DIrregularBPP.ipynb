{
 "cells": [
  {
   "cell_type": "markdown",
   "metadata": {},
   "source": [
    "# Étude modélisation 2D irregular BPP\n",
    "\n",
    "Dans ce notebook on étudie l'implémentation du problème de bin packing avec des formes irrégulières.\n",
    "\n",
    "http://www.cs.stir.ac.uk/~goc/papers/EffectiveHueristic2DAOR2013.pdf\n",
    "\n",
    "http://eprints.whiterose.ac.uk/139290/1/BCP-EJOR.pdf"
   ]
  },
  {
   "cell_type": "code",
   "execution_count": 1,
   "metadata": {},
   "outputs": [],
   "source": [
    "from __future__ import absolute_import\n",
    "from __future__ import division\n",
    "from __future__ import print_function\n",
    "\n",
    "from ortools.sat.python import cp_model\n",
    "\n",
    "import matplotlib\n",
    "import matplotlib.pyplot as plt\n",
    "import functools \n",
    "\n",
    "import uuid"
   ]
  },
  {
   "cell_type": "code",
   "execution_count": 2,
   "metadata": {},
   "outputs": [],
   "source": [
    "class Box(object):\n",
    "    def __init__(self, name, pos_x, pos_y, dim_x, dim_y):\n",
    "        self.__name = name\n",
    "        self.__pos_x = int(pos_x)\n",
    "        self.__pos_y = int(pos_y)\n",
    "        self.__dim_x = int(dim_x)\n",
    "        self.__dim_y = int(dim_y)\n",
    "\n",
    "    @property\n",
    "    def name(self):\n",
    "        return self.__name\n",
    "    \n",
    "    @property\n",
    "    def pos_x(self):\n",
    "        return self.__pos_x\n",
    "    \n",
    "    @property\n",
    "    def pos_y(self):\n",
    "        return self.__pos_y\n",
    "    \n",
    "    @property\n",
    "    def dim_x(self):\n",
    "        return self.__dim_x\n",
    "    \n",
    "    @property\n",
    "    def dim_y(self):\n",
    "        return self.__dim_y\n",
    "    \n",
    "    @name.setter\n",
    "    def name(self, value):\n",
    "        self.__name = value\n",
    "    \n",
    "    @pos_x.setter\n",
    "    def pos_x(self, value):\n",
    "        self.__pos_x = value\n",
    "    \n",
    "    @pos_y.setter\n",
    "    def pos_y(self, value):\n",
    "        self.__pos_y = value\n",
    "        \n",
    "    @dim_x.setter\n",
    "    def dim_x(self, value):\n",
    "        self.__dim_x = value\n",
    "        \n",
    "    @dim_y.setter\n",
    "    def dim_y(self, value):\n",
    "        self.__dim_y = value\n"
   ]
  },
  {
   "cell_type": "code",
   "execution_count": 3,
   "metadata": {},
   "outputs": [],
   "source": [
    "class Shape(object):\n",
    "    def __init__(self, piece_coordinates):\n",
    "        self.__coordinates = piece_coordinates\n",
    "    \n",
    "    @property\n",
    "    def coordinates(self):\n",
    "        return self.__coordinates\n",
    "    "
   ]
  },
  {
   "cell_type": "code",
   "execution_count": 4,
   "metadata": {},
   "outputs": [],
   "source": [
    "class VarArraySolutionPrinter(cp_model.CpSolverSolutionCallback):\n",
    "    \"\"\"Print intermediate solutions.\"\"\"\n",
    "\n",
    "    def __init__(self, variable_list, limit):\n",
    "        cp_model.CpSolverSolutionCallback.__init__(self)\n",
    "        self.__variable_list = variable_list\n",
    "        self.__solution_count = 0\n",
    "        self.__solution_limit = limit\n",
    "\n",
    "    def on_solution_callback(self):\n",
    "        self.__solution_count += 1\n",
    "        fig = plt.figure()\n",
    "        ax = fig.add_subplot(111)\n",
    "       \n",
    "        colors = ['gold', 'red', 'yellow', 'pink', 'blue', 'cyan', 'black', 'magenta']\n",
    "        \n",
    "        for shape, color in zip(self.__variable_list, colors):\n",
    "            l = []\n",
    "            for elem in shape:\n",
    "                print('({},{})'.format(self.Value(elem[0]), self.Value(elem[1])))\n",
    "                l.append([self.Value(elem[0]), self.Value(elem[1])])\n",
    "                \n",
    "        rect = matplotlib.patches.Polygon(l,  color)\n",
    "        ax.add_patch(rect)\n",
    "        plt.xlim([0,10])\n",
    "        plt.ylim([0, 10])\n",
    "        plt.gca().set_aspect('equal', adjustable='box')    \n",
    "        plt.show()\n",
    "        \n",
    "        \n",
    "\n",
    "    def solution_count(self):\n",
    "        return self.__solution_count"
   ]
  },
  {
   "cell_type": "code",
   "execution_count": 5,
   "metadata": {},
   "outputs": [],
   "source": [
    "class BlockBoxProblemBis(object):\n",
    "    def __init__(self, box):\n",
    "        # model initialisation\n",
    "        self.__model = cp_model.CpModel()\n",
    "        # solver creation\n",
    "        self.__solver = cp_model.CpSolver()\n",
    "        \n",
    "        # init main box\n",
    "        self.__box = box\n",
    "\n",
    "        # init list of blocks\n",
    "        self.__block_list = []\n",
    "    \n",
    "    @property\n",
    "    def box(self):\n",
    "        return self.__box\n",
    "    \n",
    "    @property\n",
    "    def model(self):\n",
    "        return self.__model\n",
    "    \n",
    "    @property\n",
    "    def solver(self):\n",
    "        return self.__solver\n",
    "    \n",
    "    @box.setter\n",
    "    def box(self, value):\n",
    "        self.__box = value\n",
    "\n",
    "    @model.setter\n",
    "    def model(self, value):\n",
    "        self.__model = value\n",
    "    \n",
    "    @solver.setter\n",
    "    def solver(self, value):\n",
    "        self.__solver = value\n",
    "        \n",
    "    def check_inside(self, x, y):\n",
    "        self.__model.Add(x >= self.__box.pos_x)\n",
    "        self.__model.Add(y >= self.__box.pos_y)\n",
    "        self.__model.Add(x <= self.__box.pos_x + self.__box.dim_x)\n",
    "        self.__model.Add(y <= self.__box.pos_y + self.__box.dim_y)  \n",
    "        \n",
    "    def addShape(self, shape):\n",
    "        array = []\n",
    "        \n",
    "        lowestA = min(shape.coordinates, key = lambda a: a.x)\n",
    "        \n",
    "        x = self.__model.NewIntVar(0, self.__box.dim_x, 'b%i_pos_x' % len(self.__block_list))    \n",
    "        y = self.__model.NewIntVar(0, self.__box.dim_y, 'b%i_pos_y' % len(self.__block_list)) \n",
    "        \n",
    "        diff = y - x\n",
    "        self.__model.Add(y == x + diff)\n",
    "        self.check_inside(x, y)\n",
    "        array.append((x, y))\n",
    "        \n",
    "        for coordinate in shape.coordinates:\n",
    "            \n",
    "            if lowestA != coordinate:\n",
    "                pos_x = self.__model.NewIntVar(0, self.__box.dim_x, 'b%i_pos_x' % len(self.__block_list))    \n",
    "                pos_y = self.__model.NewIntVar(0, self.__box.dim_y, 'b%i_pos_y' % len(self.__block_list)) \n",
    "                self.__model.Add(pos_x == x + ( coordinate.x - lowestA.x ))\n",
    "                self.__model.Add(pos_y == y + ( coordinate.y - lowestA.y))\n",
    "                self.check_inside(pos_x, pos_y)\n",
    "                array.append((pos_x, pos_y))\n",
    "        \n",
    "        self.__block_list.append(array)\n",
    "\n",
    "            \n",
    "    def solve(self):  \n",
    "        solution_printer = VarArraySolutionPrinter(self.__block_list, 5)\n",
    "        status = self.__solver.SearchForAllSolutions(self.__model, solution_printer)\n",
    "\n",
    "        print('Status = %s' % self.__solver.StatusName(status))\n",
    "        print('Number of solutions found: %i' % solution_printer.solution_count())"
   ]
  },
  {
   "cell_type": "code",
   "execution_count": 6,
   "metadata": {},
   "outputs": [],
   "source": [
    "class Point(object):\n",
    "    def __init__(self, x_value, y_value):\n",
    "        self.__x = x_value\n",
    "        self.__y = y_value\n",
    "       \n",
    "    @property\n",
    "    def x(self):\n",
    "        return self.__x\n",
    "    \n",
    "    @property\n",
    "    def y(self):\n",
    "        return self.__y\n",
    "    \n",
    "    @x.setter\n",
    "    def x(self, value):\n",
    "        self.__x = value\n",
    "        \n",
    "    @y.setter\n",
    "    def y(self, value):\n",
    "        self.__y = value\n",
    "    \n",
    "    def __str__(self):\n",
    "        return ('({}, {})'.format(self.__x, self.__y))\n",
    "        "
   ]
  },
  {
   "cell_type": "code",
   "execution_count": 7,
   "metadata": {},
   "outputs": [],
   "source": [
    "def onSegment(p, q, r):\n",
    "    \"\"\" Given three points p, q, r, the function checks if\n",
    "    point q lies on line segment 'pr' \n",
    "    Args:\n",
    "        p (Point): Point p\n",
    "        q (Point): Point q\n",
    "        r (Point): Point r\n",
    "    Returns:\n",
    "      True if on\n",
    "      False otherwise\n",
    "    \"\"\"\n",
    "     # p != r\n",
    "    assert p != r\n",
    "    dxc = q.x - p.x\n",
    "    dyc = q.y - p.y\n",
    "    dxl = r.x - p.x\n",
    "    dyl = r.y - p.y\n",
    "    cross = dxc * dyl - dyc * dxl\n",
    "    if (cross != 0):\n",
    "        return False\n",
    "    \n",
    "    if (abs(dxl) >= abs(dyl)):\n",
    "        return p.x <= q.x and q.x <= r.x if dxl > 0 else r.x <= q.x and q.x <= p.x\n",
    "    else:\n",
    "        return p.y <= q.y and q.y <= r.y if dyl > 0 else r.y <= q.y and q.y <= p.y\n",
    "\n",
    "def intersection(p,q,r):\n",
    "    \"\"\" Find orientation of ordered triplet (p, q, r).\n",
    "    Args:\n",
    "        p (tuple): Point p\n",
    "        q (tuple): Point q\n",
    "        r (tuple): Point r\n",
    "    Returns:\n",
    "        0 if p, q and r are colinear\n",
    "        1 if Clockwise\n",
    "        2 if CounterClockwise\n",
    "    \"\"\"\n",
    "    # See https://www.geeksforgeeks.org/orientation-3-ordered-points/ \n",
    "    # for details of below formula. \n",
    "    val = (q.y - p.y)* (r.x - q.x) - (q.x - p.x)*(r.y - q.y)\n",
    "    if val == 0: # colinear\n",
    "        return 0\n",
    "    \n",
    "    return 1 if val > 0 else 2 # clock or counterclock wise\n",
    "  \n",
    "    \n",
    "def edgesIntersection(p1,q1,p2,q2):\n",
    "    \"\"\" Check if line segment 'p1q1' and 'p2q2' intersect\n",
    "    Args:\n",
    "        p1 (tuple): Point p1\n",
    "        q1 (tuple): Point q1\n",
    "        p2 (tuple): Point p2\n",
    "        q2 (tuple): Point p2\n",
    "\n",
    "    Returns:\n",
    "        True if line segment intersect\n",
    "        False otherwise\n",
    "    \"\"\"\n",
    "    o1 = intersection(p1,q1,p2)\n",
    "    o2 = intersection(p1,q1,q2)\n",
    "    o3 = intersection(p2,q2,p1)\n",
    "    o4 = intersection(p2,q2,q1)\n",
    "    \n",
    "    if (o1 != o2 and o3 != o4):\n",
    "        return True\n",
    "    if (o1 == 0 and onSegment(p1,p2,q1)):\n",
    "        return True\n",
    "    if (o2 == 0 and onSegment(p1,q2,q1)):\n",
    "        return True\n",
    "    if (o3 == 0 and onSegment(p2,p1,q2)):\n",
    "        return True\n",
    "    if (o4 == 0 and onSegment(p2,q1,q2)):\n",
    "        return True\n",
    "    return False\n",
    "    \n",
    "def getEdgesPiece(points_list):\n",
    "    edges = []\n",
    "    edges.append([points_list[-1], points_list[0]])\n",
    "    index = 0\n",
    "    while index < len(points_list):\n",
    "        if index < len(points_list) - 1:\n",
    "            edges.append([points_list[index], points_list[index+1]])\n",
    "        index += 1\n",
    "    return edges\n"
   ]
  },
  {
   "cell_type": "code",
   "execution_count": 8,
   "metadata": {},
   "outputs": [],
   "source": [
    "def intersectEachOther(p1, p2):\n",
    "    \"\"\" Decide if two pieces intersects each other.\n",
    "    Args: \n",
    "        p1 (list): list of Points of  piece P1\n",
    "        p2 (list): list of Points of piece P2\n",
    "    Returns:\n",
    "        A boolean value indicating whether the two pieces intersects each other.\n",
    "    \"\"\"\n",
    "    # looking for the smallest x\n",
    "    p1_leftmost_end = min(p1, key = lambda t: t.x)\n",
    "    # looking for the biggest x \n",
    "    p1_rightmost_end = max(p1, key = lambda t: t.x)\n",
    "    # looking for the smallest y\n",
    "    p1_lowest_end = min(p1, key = lambda t: t.y)\n",
    "    # looking for the biggest y\n",
    "    p1_upper_end = max(p1, key = lambda t: t.y)\n",
    "    \n",
    "    p2_leftmost_end = min(p2, key = lambda t: t.x)\n",
    "    p2_rightmost_end = max(p2, key = lambda t: t.x)\n",
    "    p2_lowest_end = min(p2, key = lambda t: t.y)\n",
    "    p2_upper_end = max(p2, key = lambda t: t.y)\n",
    "\n",
    "\n",
    "    if p1_lowest_end.y > p2_upper_end.y or p2_lowest_end.y > p1_upper_end.y:\n",
    "        return False\n",
    "    \n",
    "    if p1_leftmost_end.x > p2_rightmost_end.x or p2_leftmost_end.x > p1_rightmost_end.x:\n",
    "        return False\n",
    "    \n",
    "    \n",
    "    p1_edges = getEdgesPiece(p1)\n",
    "    p2_edges = getEdgesPiece(p2)\n",
    "    \n",
    "    for e1 in p1_edges:\n",
    "        for e2 in p2_edges:\n",
    "            if edgesIntersection(e1[0], e1[1], e2[0], e2[1]):\n",
    "                return True\n",
    "    return False"
   ]
  },
  {
   "cell_type": "code",
   "execution_count": 9,
   "metadata": {},
   "outputs": [],
   "source": [
    "def sign(x):\n",
    "    \"\"\"Determine sign of number\n",
    "    Args:\n",
    "        number:\n",
    "    Returns:\n",
    "        0  if negative\n",
    "        1 if positive\n",
    "    \"\"\"\n",
    "    return int(x>0)\n",
    "\n",
    "def find_area(array):\n",
    "    a = 0\n",
    "    p1 = array[0]\n",
    "    for p in array[1:]:\n",
    "        a += (p.x * p1.y - p.y * p1.x)\n",
    "        p1.x,p1.y = p.x, p.y\n",
    "    return a/2\n",
    "\n",
    "def Dfunction(a, b, p):\n",
    "    \"\"\" Gives the relative position of a point P\n",
    "    with respect to an oriented edge AB\n",
    "    Args:\n",
    "        a (Point): first point of edge AB \n",
    "        b (Point): second point of edge AB\n",
    "        p (Point): point to check\n",
    "    Returns:\n",
    "        negative or positive, the point P is on the left or\n",
    "        the right side of the edge AB.\n",
    "    \"\"\"\n",
    "    return (a.x - b.x) * (a.y - p.y) - (a.y - b.y)*(a.x - p.x)\n",
    "\n",
    "def isPointInsideShape(p, point):\n",
    "    \"\"\"Decide if a point is inside a shape\n",
    "    Args:\n",
    "        p (list): all points of a piece\n",
    "        point (Point): point to check\n",
    "    Returns:\n",
    "        A boolean value indicating whether the point\n",
    "        is or not inside the piece.\n",
    "    \"\"\"\n",
    "    # looking for the smallest y\n",
    "    p_lowest_part = min(p, key = lambda t: t.x)\n",
    "    \n",
    "    # looking for the biggest y\n",
    "    p_upper_part = max(p, key = lambda t: t.x)\n",
    "    \n",
    "    # looking for the smallest x\n",
    "    p_leftmost_end = min(p, key = lambda t: t.y)\n",
    "    \n",
    "    # looking for the biggest x \n",
    "    p_rightmost_end = max(p, key = lambda t: t.y)\n",
    "\n",
    "    if point.x <= p_lowest_part.x or point.x >= p_upper_part.x:\n",
    "        return False\n",
    "    \n",
    "    if point.y <= p_leftmost_end.y or point.y >= p_rightmost_end.y:\n",
    "        return False\n",
    "    \n",
    "    for vertex in p:\n",
    "        if vertex == point:\n",
    "            return False\n",
    "    \n",
    "    sides = getEdgesPiece(p)\n",
    "\n",
    "    \n",
    "    for side in sides:\n",
    "        if onSegment(side[0], point, side[1]):\n",
    "            return False\n",
    "    \n",
    "    # maybe random larger number\n",
    "    M = p_rightmost_end.x + 100\n",
    "    new_point = Point(M, point.y)\n",
    "    \n",
    "    counter = 1\n",
    "    \n",
    "    for side in sides:\n",
    "        if edgesIntersection(side[0], side[1], point, new_point):\n",
    "            counter += 1\n",
    "    \n",
    "    for i, vertex in enumerate(p):\n",
    "        \n",
    "        if onSegment(point, vertex, new_point):\n",
    "            d1 = Dfunction(point, new_point, p[i - 1])\n",
    "            d2 = Dfunction(point, new_point, p[i + 1])\n",
    "                \n",
    "            if sign(d1) != sign(d2): \n",
    "                counter += 1   \n",
    "\n",
    "    if counter % 2 == 0:\n",
    "        return True\n",
    "    else:\n",
    "        return False\n",
    "            \n",
    "def shapeInOtherShape(p1, p2):\n",
    "    \"\"\"Decide if a shape is completely inside another shape\n",
    "    Args:\n",
    "        p1 (list): all points of a piece1\n",
    "        p2 (list): all points of a piece2\n",
    "    Returns:\n",
    "        True if piece1 and piece2 are embeded\n",
    "        False otherwise\n",
    "    \"\"\"\n",
    "   # looking for the smallest x\n",
    "    p1_leftmost_end = min(p1, key = lambda t: t.x)\n",
    "    # looking for the biggest x \n",
    "    p1_rightmost_end = max(p1, key = lambda t: t.x)\n",
    "    # looking for the smallest y\n",
    "    p1_lowest_end = min(p1, key = lambda t: t.y)\n",
    "    # looking for the biggest y\n",
    "    p1_upper_end = max(p1, key = lambda t: t.y)\n",
    "    \n",
    "    p2_leftmost_end = min(p2, key = lambda t: t.x)\n",
    "    p2_rightmost_end = max(p2, key = lambda t: t.x)\n",
    "    p2_lowest_end = min(p2, key = lambda t: t.y)\n",
    "    p2_upper_end = max(p2, key = lambda t: t.y)\n",
    "    \n",
    "    if p1_lowest_end.y > p2_upper_end.y or p2_lowest_end.y > p1_upper_end.y:\n",
    "        return False\n",
    "    \n",
    "    if p1_leftmost_end.x > p2_rightmost_end.x or p2_leftmost_end.x > p1_rightmost_end.x:\n",
    "        return False\n",
    "    \n",
    "    if intersectEachOther(p1, p2):\n",
    "        return False\n",
    "    \n",
    "    # At this point we only have pieces that do not intersect each other\n",
    "    y_max = max(max(p1, key = lambda t: t.y).y, max(p2, key = lambda t: t.y).y)\n",
    "    y_min = min(min(p1, key = lambda t: t.y).y, min(p2, key = lambda t: t.y).y)\n",
    "    \n",
    "    x_max = max(max(p1, key = lambda t: t.x).x, max(p2, key = lambda t: t.x).x)\n",
    "    x_min = min(min(p1, key = lambda t: t.x).x, min(p2, key = lambda t: t.x).x)\n",
    "    \n",
    "    p1_area = find_area(p1)\n",
    "    p2_area = find_area(p2)\n",
    "    \n",
    "    if (y_max - y_min) * (x_max - x_min) < (p1_area + p2_area):\n",
    "        return True\n",
    "    \n",
    "    y1_bar = functools.reduce(lambda x, y: x + y, [max(p1, key = lambda t: t.y).y, min(p1, key = lambda t: t.y).y]) / 2\n",
    "    x1_bar = functools.reduce(lambda x, y: x + y, [max(p1, key = lambda t: t.x).x, min(p1, key = lambda t: t.x).x]) / 2\n",
    "    y2_bar = functools.reduce(lambda x, y: x + y, [max(p2, key = lambda t: t.y).y, min(p2, key = lambda t: t.y).y]) / 2\n",
    "    x2_bar = functools.reduce(lambda x, y: x + y, [max(p2, key = lambda t: t.x).x, min(p2, key = lambda t: t.x).x]) / 2\n",
    "    \n",
    "    if isPointInsideShape(p1, Point(x1_bar, y1_bar)) and isPointInsideShape(p2, Point(x1_bar, y1_bar)) \\\n",
    "        or isPointInsideShape(p1, Point(x2_bar, y2_bar)) and isPointInsideShape(p2, Point(x2_bar, y2_bar)):\n",
    "        return True\n",
    "    \n",
    "    \n",
    "    p1_edges = getEdgesPiece(p1)\n",
    "    \n",
    "    \n",
    "    for vertice in p1:\n",
    "        if isPointInsideShape(p2, vertice):\n",
    "            return True\n",
    "        \n",
    "    for vertice in p2:\n",
    "        if isPointInsideShape(p1, vertice):\n",
    "            return True\n",
    "    \n",
    "    if p1 == p2:\n",
    "        return True\n",
    "    else:\n",
    "        return False"
   ]
  },
  {
   "cell_type": "code",
   "execution_count": 11,
   "metadata": {
    "scrolled": true
   },
   "outputs": [
    {
     "name": "stdout",
     "output_type": "stream",
     "text": [
      "(0,2)\n",
      "(1,7)\n",
      "(3,5)\n",
      "(5,7)\n",
      "(6,5)\n",
      "(7,3)\n",
      "(8,5)\n",
      "(9,7)\n",
      "(10,5)\n",
      "(5,0)\n",
      "(2,0)\n"
     ]
    },
    {
     "data": {
      "image/png": "[encoded data removed]",
      "text/plain": [
       "<Figure size 432x288 with 1 Axes>"
      ]
     },
     "metadata": {
      "needs_background": "light"
     },
     "output_type": "display_data"
    },
    {
     "name": "stdout",
     "output_type": "stream",
     "text": [
      "(0,3)\n",
      "(1,8)\n",
      "(3,6)\n",
      "(5,8)\n",
      "(6,6)\n",
      "(7,4)\n",
      "(8,6)\n",
      "(9,8)\n",
      "(10,6)\n",
      "(5,1)\n",
      "(2,1)\n"
     ]
    },
    {
     "data": {
      "image/png": "[encoded data removed]",
      "text/plain": [
       "<Figure size 432x288 with 1 Axes>"
      ]
     },
     "metadata": {
      "needs_background": "light"
     },
     "output_type": "display_data"
    },
    {
     "name": "stdout",
     "output_type": "stream",
     "text": [
      "(0,4)\n",
      "(1,9)\n",
      "(3,7)\n",
      "(5,9)\n",
      "(6,7)\n",
      "(7,5)\n",
      "(8,7)\n",
      "(9,9)\n",
      "(10,7)\n",
      "(5,2)\n",
      "(2,2)\n"
     ]
    },
    {
     "data": {
      "image/png": "[encoded data removed]",
      "text/plain": [
       "<Figure size 432x288 with 1 Axes>"
      ]
     },
     "metadata": {
      "needs_background": "light"
     },
     "output_type": "display_data"
    },
    {
     "name": "stdout",
     "output_type": "stream",
     "text": [
      "(0,5)\n",
      "(1,10)\n",
      "(3,8)\n",
      "(5,10)\n",
      "(6,8)\n",
      "(7,6)\n",
      "(8,8)\n",
      "(9,10)\n",
      "(10,8)\n",
      "(5,3)\n",
      "(2,3)\n"
     ]
    },
    {
     "data": {
      "image/png": "[encoded data removed]",
      "text/plain": [
       "<Figure size 432x288 with 1 Axes>"
      ]
     },
     "metadata": {
      "needs_background": "light"
     },
     "output_type": "display_data"
    },
    {
     "name": "stdout",
     "output_type": "stream",
     "text": [
      "(0,6)\n",
      "(1,11)\n",
      "(3,9)\n",
      "(5,11)\n",
      "(6,9)\n",
      "(7,7)\n",
      "(8,9)\n",
      "(9,11)\n",
      "(10,9)\n",
      "(5,4)\n",
      "(2,4)\n"
     ]
    },
    {
     "data": {
      "image/png": "[encoded data removed]",
      "text/plain": [
       "<Figure size 432x288 with 1 Axes>"
      ]
     },
     "metadata": {
      "needs_background": "light"
     },
     "output_type": "display_data"
    },
    {
     "name": "stdout",
     "output_type": "stream",
     "text": [
      "(0,7)\n",
      "(1,12)\n",
      "(3,10)\n",
      "(5,12)\n",
      "(6,10)\n",
      "(7,8)\n",
      "(8,10)\n",
      "(9,12)\n",
      "(10,10)\n",
      "(5,5)\n",
      "(2,5)\n"
     ]
    },
    {
     "data": {
      "image/png": "[encoded data removed]",
      "text/plain": [
       "<Figure size 432x288 with 1 Axes>"
      ]
     },
     "metadata": {
      "needs_background": "light"
     },
     "output_type": "display_data"
    },
    {
     "name": "stdout",
     "output_type": "stream",
     "text": [
      "(1,7)\n",
      "(2,12)\n",
      "(4,10)\n",
      "(6,12)\n",
      "(7,10)\n",
      "(8,8)\n",
      "(9,10)\n",
      "(10,12)\n",
      "(11,10)\n",
      "(6,5)\n",
      "(3,5)\n"
     ]
    },
    {
     "data": {
      "image/png": "[encoded data removed]",
      "text/plain": [
       "<Figure size 432x288 with 1 Axes>"
      ]
     },
     "metadata": {
      "needs_background": "light"
     },
     "output_type": "display_data"
    },
    {
     "name": "stdout",
     "output_type": "stream",
     "text": [
      "(2,7)\n",
      "(3,12)\n",
      "(5,10)\n",
      "(7,12)\n",
      "(8,10)\n",
      "(9,8)\n",
      "(10,10)\n",
      "(11,12)\n",
      "(12,10)\n",
      "(7,5)\n",
      "(4,5)\n"
     ]
    },
    {
     "data": {
      "image/png": "[encoded data removed]",
      "text/plain": [
       "<Figure size 432x288 with 1 Axes>"
      ]
     },
     "metadata": {
      "needs_background": "light"
     },
     "output_type": "display_data"
    },
    {
     "name": "stdout",
     "output_type": "stream",
     "text": [
      "(2,2)\n",
      "(3,7)\n",
      "(5,5)\n",
      "(7,7)\n",
      "(8,5)\n",
      "(9,3)\n",
      "(10,5)\n",
      "(11,7)\n",
      "(12,5)\n",
      "(7,0)\n",
      "(4,0)\n"
     ]
    },
    {
     "data": {
      "image/png": "[encoded data removed]",
      "text/plain": [
       "<Figure size 432x288 with 1 Axes>"
      ]
     },
     "metadata": {
      "needs_background": "light"
     },
     "output_type": "display_data"
    },
    {
     "name": "stdout",
     "output_type": "stream",
     "text": [
      "(2,3)\n",
      "(3,8)\n",
      "(5,6)\n",
      "(7,8)\n",
      "(8,6)\n",
      "(9,4)\n",
      "(10,6)\n",
      "(11,8)\n",
      "(12,6)\n",
      "(7,1)\n",
      "(4,1)\n"
     ]
    },
    {
     "data": {
      "image/png": "[encoded data removed]",
      "text/plain": [
       "<Figure size 432x288 with 1 Axes>"
      ]
     },
     "metadata": {
      "needs_background": "light"
     },
     "output_type": "display_data"
    },
    {
     "name": "stdout",
     "output_type": "stream",
     "text": [
      "(2,4)\n",
      "(3,9)\n",
      "(5,7)\n",
      "(7,9)\n",
      "(8,7)\n",
      "(9,5)\n",
      "(10,7)\n",
      "(11,9)\n",
      "(12,7)\n",
      "(7,2)\n",
      "(4,2)\n"
     ]
    },
    {
     "data": {
      "image/png": "[encoded data removed]",
      "text/plain": [
       "<Figure size 432x288 with 1 Axes>"
      ]
     },
     "metadata": {
      "needs_background": "light"
     },
     "output_type": "display_data"
    },
    {
     "name": "stdout",
     "output_type": "stream",
     "text": [
      "(2,5)\n",
      "(3,10)\n",
      "(5,8)\n",
      "(7,10)\n",
      "(8,8)\n",
      "(9,6)\n",
      "(10,8)\n",
      "(11,10)\n",
      "(12,8)\n",
      "(7,3)\n",
      "(4,3)\n"
     ]
    },
    {
     "data": {
      "image/png": "[encoded data removed]",
      "text/plain": [
       "<Figure size 432x288 with 1 Axes>"
      ]
     },
     "metadata": {
      "needs_background": "light"
     },
     "output_type": "display_data"
    },
    {
     "name": "stdout",
     "output_type": "stream",
     "text": [
      "(1,2)\n",
      "(2,7)\n",
      "(4,5)\n",
      "(6,7)\n",
      "(7,5)\n",
      "(8,3)\n",
      "(9,5)\n",
      "(10,7)\n",
      "(11,5)\n",
      "(6,0)\n",
      "(3,0)\n"
     ]
    },
    {
     "data": {
      "image/png": "[encoded data removed]",
      "text/plain": [
       "<Figure size 432x288 with 1 Axes>"
      ]
     },
     "metadata": {
      "needs_background": "light"
     },
     "output_type": "display_data"
    },
    {
     "name": "stdout",
     "output_type": "stream",
     "text": [
      "(1,3)\n",
      "(2,8)\n",
      "(4,6)\n",
      "(6,8)\n",
      "(7,6)\n",
      "(8,4)\n",
      "(9,6)\n",
      "(10,8)\n",
      "(11,6)\n",
      "(6,1)\n",
      "(3,1)\n"
     ]
    },
    {
     "data": {
      "image/png": "[encoded data removed]",
      "text/plain": [
       "<Figure size 432x288 with 1 Axes>"
      ]
     },
     "metadata": {
      "needs_background": "light"
     },
     "output_type": "display_data"
    },
    {
     "name": "stdout",
     "output_type": "stream",
     "text": [
      "(1,4)\n",
      "(2,9)\n",
      "(4,7)\n",
      "(6,9)\n",
      "(7,7)\n",
      "(8,5)\n",
      "(9,7)\n",
      "(10,9)\n",
      "(11,7)\n",
      "(6,2)\n",
      "(3,2)\n"
     ]
    },
    {
     "data": {
      "image/png": "[encoded data removed]",
      "text/plain": [
       "<Figure size 432x288 with 1 Axes>"
      ]
     },
     "metadata": {
      "needs_background": "light"
     },
     "output_type": "display_data"
    },
    {
     "name": "stdout",
     "output_type": "stream",
     "text": [
      "(1,5)\n",
      "(2,10)\n",
      "(4,8)\n",
      "(6,10)\n",
      "(7,8)\n",
      "(8,6)\n",
      "(9,8)\n",
      "(10,10)\n",
      "(11,8)\n",
      "(6,3)\n",
      "(3,3)\n"
     ]
    },
    {
     "data": {
      "image/png": "[encoded data removed]",
      "text/plain": [
       "<Figure size 432x288 with 1 Axes>"
      ]
     },
     "metadata": {
      "needs_background": "light"
     },
     "output_type": "display_data"
    },
    {
     "name": "stdout",
     "output_type": "stream",
     "text": [
      "(1,6)\n",
      "(2,11)\n",
      "(4,9)\n",
      "(6,11)\n",
      "(7,9)\n",
      "(8,7)\n",
      "(9,9)\n",
      "(10,11)\n",
      "(11,9)\n",
      "(6,4)\n",
      "(3,4)\n"
     ]
    },
    {
     "data": {
      "image/png": "[encoded data removed]",
      "text/plain": [
       "<Figure size 432x288 with 1 Axes>"
      ]
     },
     "metadata": {
      "needs_background": "light"
     },
     "output_type": "display_data"
    },
    {
     "name": "stdout",
     "output_type": "stream",
     "text": [
      "(2,6)\n",
      "(3,11)\n",
      "(5,9)\n",
      "(7,11)\n",
      "(8,9)\n",
      "(9,7)\n",
      "(10,9)\n",
      "(11,11)\n",
      "(12,9)\n",
      "(7,4)\n",
      "(4,4)\n"
     ]
    },
    {
     "data": {
      "image/png": "[encoded data removed]",
      "text/plain": [
       "<Figure size 432x288 with 1 Axes>"
      ]
     },
     "metadata": {
      "needs_background": "light"
     },
     "output_type": "display_data"
    },
    {
     "name": "stdout",
     "output_type": "stream",
     "text": [
      "Status = FEASIBLE\n",
      "Number of solutions found: 18\n"
     ]
    }
   ],
   "source": [
    "box = Box('box', 0, 0, 12, 12)\n",
    "\n",
    "p1 = Point(0, 3)\n",
    "p2 = Point(1, 8)\n",
    "p3 = Point(3, 6)\n",
    "p4 = Point(5, 8)\n",
    "p5 = Point(6, 6)\n",
    "p6 = Point(7, 4)\n",
    "p7 = Point(8, 6)\n",
    "p8 = Point(9, 8)\n",
    "p9 = Point(10, 6)\n",
    "p10 = Point(5, 1)\n",
    "p11 = Point(2, 1)\n",
    "\n",
    "pp = Point(3, 2)\n",
    "\n",
    "piece1 = [p1, p2, p3, p4, p5, p6, p7, p8, p9, p10, p11]\n",
    "\n",
    "piece2 = [Point(2, 7), Point(2, 9), Point(4, 7), Point(4, 9)]\n",
    "\n",
    "sh = Shape(piece1)\n",
    "\n",
    "problem = BlockBoxProblemBis(box)\n",
    "problem.addShape(sh)\n",
    "problem.solve()"
   ]
  },
  {
   "cell_type": "code",
   "execution_count": null,
   "metadata": {},
   "outputs": [],
   "source": []
  },
  {
   "cell_type": "code",
   "execution_count": null,
   "metadata": {},
   "outputs": [],
   "source": []
  }
 ],
 "metadata": {
  "kernelspec": {
   "display_name": "Python 3",
   "language": "python",
   "name": "python3"
  },
  "language_info": {
   "codemirror_mode": {
    "name": "ipython",
    "version": 3
   },
   "file_extension": ".py",
   "mimetype": "text/x-python",
   "name": "python",
   "nbconvert_exporter": "python",
   "pygments_lexer": "ipython3",
   "version": "3.7.2"
  }
 },
 "nbformat": 4,
 "nbformat_minor": 2
}
