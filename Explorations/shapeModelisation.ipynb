{
 "cells": [
  {
   "cell_type": "markdown",
   "metadata": {},
   "source": [
    "# ShapeModelisation Module\n",
    "Ce  module permet de récupérer une forme géométrique dans un espace 2D dans une matrice de nombre optimisée.\n",
    "\n",
    "## Notes\n",
    "\n",
    "On itère sur les lignes et les colonnes si celle-ci sont rempli de 0 on les supprime   \n",
    "On réduit ainsi les bornes et le nombre de variables"
   ]
  },
  {
   "cell_type": "code",
   "execution_count": 1,
   "metadata": {},
   "outputs": [],
   "source": [
    "from __future__ import print_function\n",
    "import time \n",
    "import mahotas\n",
    "import numpy as np \n",
    "from operator import itemgetter"
   ]
  },
  {
   "cell_type": "code",
   "execution_count": 2,
   "metadata": {},
   "outputs": [
    {
     "name": "stdout",
     "output_type": "stream",
     "text": [
      "[[0. 0. 0. 0. 0. 0. 0. 0. 0. 0. 0. 0. 0.]\n",
      " [0. 0. 0. 0. 0. 0. 0. 0. 0. 0. 0. 0. 0.]\n",
      " [0. 0. 1. 1. 0. 0. 0. 0. 0. 0. 0. 0. 0.]\n",
      " [0. 0. 1. 1. 1. 1. 0. 0. 0. 0. 0. 0. 0.]\n",
      " [0. 0. 1. 1. 1. 1. 0. 0. 0. 0. 0. 0. 0.]\n",
      " [0. 0. 1. 1. 1. 1. 1. 0. 0. 0. 0. 0. 0.]\n",
      " [0. 0. 1. 1. 1. 1. 1. 1. 0. 0. 0. 0. 0.]\n",
      " [0. 0. 1. 1. 1. 1. 1. 1. 0. 0. 0. 0. 0.]\n",
      " [0. 0. 1. 1. 1. 1. 1. 1. 0. 0. 0. 0. 0.]\n",
      " [0. 0. 1. 1. 1. 1. 1. 1. 0. 0. 0. 0. 0.]\n",
      " [0. 0. 0. 1. 1. 1. 1. 0. 0. 0. 0. 0. 0.]\n",
      " [0. 0. 0. 0. 0. 0. 1. 0. 0. 0. 0. 0. 0.]\n",
      " [0. 0. 0. 0. 0. 0. 0. 0. 0. 0. 0. 0. 0.]]\n"
     ]
    }
   ],
   "source": [
    "# Différentes formes géométriques dans l'espace 2D\n",
    "#[X, Y] coordinates\n",
    "\n",
    "shape1 = [(3, 2), (3, 8), (8, 8), (8, 3), (7, 2)]\n",
    "shape2 = [(1, 2), (3, 5), (6, 7), (9, 7), (11, 6), (10, 3), (8, 2)]\n",
    "\n",
    "canvas = np.zeros((13,13))\n",
    "mahotas.polygon.fill_polygon([(1, 2), (3, 5), (6, 7), (9, 7), (11, 6), (10, 3), (8, 2)], canvas)\n",
    "print(canvas)\n",
    "#mahotas.polygon.fill_polygon([(3, 2), (3, 8), (8, 8), (8, 3), (7, 2)], canvas)\n",
    "\n",
    "\n",
    "# On parcours les lignes\n",
    "row_indices = []\n",
    "for i, row in enumerate(canvas):\n",
    "    # Vérifie qu'une ligne est au moins un 1\n",
    "    if np.all(row == 0):\n",
    "        row_indices.append(i)\n",
    "\n",
    "# On parcours les colonnes\n",
    "col_indices = []\n",
    "for i, col in enumerate(canvas.T):\n",
    "    if np.all(col == 0):\n",
    "        col_indices.append(i)\n",
    "\n",
    "# Redimension du tableau\n",
    "canvas = np.delete(canvas, row_indices, axis = 0)\n",
    "canvas = np.delete(canvas, col_indices, axis = 1)\n",
    "\n"
   ]
  },
  {
   "cell_type": "code",
   "execution_count": 43,
   "metadata": {},
   "outputs": [],
   "source": [
    "# Ce que l'on a. \n",
    "# On a une liste de coordonées.\n",
    "\n",
    "# Ce que l'on veut.\n",
    "# Un tableau de variables prêtes à l'emploi\n",
    "\n",
    "class ShapeModeler():\n",
    "    \"\"\"\n",
    "    This class allow us to model a polygon in 2D dimension with ndarray.\n",
    "    \"\"\"\n",
    "    def __init__(self,list_coordinates):\n",
    "        self.list_coordinates = list_coordinates\n",
    "        dim = self.max_dimension()\n",
    "        self.canvas = np.zeros(dim)\n",
    "\n",
    "    def draw_shape_canvas(self):\n",
    "        \"\"\" Alterate the canvas that represents the 2D space\n",
    "        Args: None\n",
    "\n",
    "        Returns: None\n",
    "        \"\"\"\n",
    "        # Il faudra checker plus tard si est ce que notre forme est bien un polygon\n",
    "        mahotas.polygon.fill_polygon(self.list_coordinates, self.canvas)\n",
    "\n",
    "    def max_list_tuple(self, sequence):\n",
    "        \"\"\"Find the maximum value in list of tuples\n",
    "        Args: sequence: list of tuples\n",
    "        Returns: maximum value (int)\n",
    "        \"\"\"\n",
    "        if not sequence:\n",
    "            raise ValueError('empty sequence') \n",
    "\n",
    "        maximum = sequence[0][0] \n",
    "        max_local = maximum\n",
    "        for item in sequence:\n",
    "            if item[0] > item[1]:\n",
    "                max_local = item[0]\n",
    "            else:\n",
    "                max_local = item[1]\n",
    "\n",
    "            if max_local > maximum:\n",
    "                maximum = max_local\n",
    "\n",
    "        return maximum\n",
    "\n",
    "    def max_dimension(self):\n",
    "        \"\"\"Return a tuple that contains the maximum limits of 2D space\n",
    "        Args: None\n",
    "        Returns: 2D dimensions limits (tuple)(int,int)\n",
    "        \"\"\"\n",
    "        max = self.max_list_tuple(self.list_coordinates)\n",
    "        return (max + 1, max + 1)\n",
    "\n",
    "    def shrink_space(self):\n",
    "        \"\"\"\n",
    "        Reducing the 2D space ndarray in order to reduce the number of \n",
    "        computational variable\n",
    "        Args: None\n",
    "        Returns: None\n",
    "        \"\"\"\n",
    "        # On parcours les lignes\n",
    "        row_indices = []\n",
    "        for i, row in enumerate(self.canvas):\n",
    "        # Vérifie qu'une ligne est au moins un 1\n",
    "            if np.all(row == 0):\n",
    "                row_indices.append(i)\n",
    "\n",
    "        # On parcours les colonnes\n",
    "        col_indices = []\n",
    "        for i, col in enumerate(self.canvas.T):\n",
    "            if np.all(col == 0):\n",
    "                col_indices.append(i)\n",
    "\n",
    "        # Redimension du tableau\n",
    "        self.canvas = np.delete(self.canvas, row_indices, axis = 0)\n",
    "        self.canvas = np.delete(self.canvas, col_indices, axis = 1)\n",
    "\n",
    "    def get_canvas(self):\n",
    "        \"\"\"\n",
    "        Args: None\n",
    "        Returns: 2D space canvas (ndarray)\n",
    "        \"\"\"\n",
    "        return self.canvas"
   ]
  },
  {
   "cell_type": "code",
   "execution_count": 44,
   "metadata": {},
   "outputs": [
    {
     "name": "stdout",
     "output_type": "stream",
     "text": [
      "[[1. 1. 0. 0. 0. 0.]\n",
      " [1. 1. 1. 1. 0. 0.]\n",
      " [1. 1. 1. 1. 0. 0.]\n",
      " [1. 1. 1. 1. 1. 0.]\n",
      " [1. 1. 1. 1. 1. 1.]\n",
      " [1. 1. 1. 1. 1. 1.]\n",
      " [1. 1. 1. 1. 1. 1.]\n",
      " [1. 1. 1. 1. 1. 1.]\n",
      " [0. 1. 1. 1. 1. 0.]\n",
      " [0. 0. 0. 0. 1. 0.]]\n"
     ]
    }
   ],
   "source": [
    "sh = ShapeModeler(shape2)\n",
    "sh.draw_shape_canvas()\n",
    "sh.shrink_space()\n",
    "res = sh.get_canvas()\n",
    "print(res)"
   ]
  },
  {
   "cell_type": "code",
   "execution_count": null,
   "metadata": {},
   "outputs": [],
   "source": []
  }
 ],
 "metadata": {
  "kernelspec": {
   "display_name": "Python 3",
   "language": "python",
   "name": "python3"
  },
  "language_info": {
   "codemirror_mode": {
    "name": "ipython",
    "version": 3
   },
   "file_extension": ".py",
   "mimetype": "text/x-python",
   "name": "python",
   "nbconvert_exporter": "python",
   "pygments_lexer": "ipython3",
   "version": "3.7.1"
  }
 },
 "nbformat": 4,
 "nbformat_minor": 2
}
